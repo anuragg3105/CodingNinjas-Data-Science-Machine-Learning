{
 "cells": [
  {
   "cell_type": "code",
   "execution_count": 1,
   "id": "bf922ff6",
   "metadata": {},
   "outputs": [
    {
     "name": "stdout",
     "output_type": "stream",
     "text": [
      "5\n",
      "2  :Prime\n",
      "3  :Prime\n",
      "4  :Not prime\n",
      "5  :Prime\n"
     ]
    }
   ],
   "source": [
    "def isprime(n):\n",
    "\n",
    "    for i in range(2,n):\n",
    "        if n%i==0:\n",
    "            break   \n",
    "    else:\n",
    "        return True\n",
    "    return False\n",
    "\n",
    "\n",
    "def Prime2toN(n):\n",
    "    k=2\n",
    "    for k in range(2,n+1):\n",
    "        is_k_prime= isprime(k)\n",
    "\n",
    "        if (is_k_prime):\n",
    "            print(k, \" :Prime\")    \n",
    "        else:\n",
    "            print(k,\" :Not prime\")\n",
    "    \n",
    "n=int(input())\n",
    "Prime2toN(n)"
   ]
  },
  {
   "cell_type": "code",
   "execution_count": null,
   "id": "fff21120",
   "metadata": {},
   "outputs": [],
   "source": []
  }
 ],
 "metadata": {
  "kernelspec": {
   "display_name": "Python 3 (ipykernel)",
   "language": "python",
   "name": "python3"
  },
  "language_info": {
   "codemirror_mode": {
    "name": "ipython",
    "version": 3
   },
   "file_extension": ".py",
   "mimetype": "text/x-python",
   "name": "python",
   "nbconvert_exporter": "python",
   "pygments_lexer": "ipython3",
   "version": "3.9.13"
  }
 },
 "nbformat": 4,
 "nbformat_minor": 5
}

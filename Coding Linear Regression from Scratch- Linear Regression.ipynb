{
 "cells": [
  {
   "cell_type": "markdown",
   "id": "0e7b5654",
   "metadata": {},
   "source": [
    "# Coding Linear Regression from Scratch\n",
    "Send Feedback\n",
    "For the given dataset \"FuelEconomy.csv\"\n",
    "You need to write four functions namely:\n",
    "1. fit(x_train, y_train)\n",
    "2. predict(x, m, c)\n",
    "3. score(y_truth, y_pred)\n",
    "4. cost(x, y, m, c)\n",
    "The output is going to print the training and testing score and the cost of the regressor trained using the fit function.\n"
   ]
  },
  {
   "cell_type": "code",
   "execution_count": null,
   "id": "2997f99b",
   "metadata": {},
   "outputs": [],
   "source": [
    "## Open and read data file as specified in the question\n",
    "## Print the required output in given format\n",
    "import numpy as np\n",
    "from sklearn.model_selection import train_test_split\n",
    "\n",
    "data = np.loadtxt('FuelEconomy.csv', delimiter=',')\n",
    "X = data[:, 0]\n",
    "y = data[:, 1]\n",
    "\n",
    "X_train, X_test, Y_train, Y_test = train_test_split(X, y, test_size = 0.3, random_state=42)\n",
    "\n",
    "###########################\n",
    "##### Start from here #####\n",
    "###########################\n",
    "\n",
    "def fit(x_train, y_train):\n",
    " \n",
    "    num = (x_train*y_train).mean()-(x_train.mean()*y_train.mean()) \n",
    "    den = (x_train**2).mean()-(x_train.mean()**2)\n",
    "    m = num/den\n",
    "    c = y_train.mean() - m*x_train.mean()\n",
    "    return m,c\n",
    "    pass\n",
    "\n",
    "\n",
    "def predict(x, m, c):\n",
    "    return m*x + c\n",
    "    pass\n",
    "\n",
    "def score(y_truth, y_pred):\n",
    "    u = ((y_truth - y_pred)**2).sum()\n",
    "    v = ((y_truth - y_truth.mean())**2).sum()\n",
    "    return 1 - u/v\n",
    "    pass\n",
    "\n",
    "\n",
    "def cost(x, y, m, c):\n",
    "    return ((y - m * x - c)**2).mean()\n",
    "\n",
    "\n",
    "###########################\n",
    "###########################\n",
    "\n",
    "m, c = fit(X_train, Y_train)\n",
    "\n",
    "y_test_pred = predict(X_test, m, c)\n",
    "y_train_pred = predict(X_train, m, c)\n",
    "\n",
    "print(round(score(Y_test, y_test_pred), 2))\n",
    "print(round(score(Y_train, y_train_pred), 2))\n",
    "print(round(cost(X_train,Y_train, m, c ), 2))"
   ]
  }
 ],
 "metadata": {
  "kernelspec": {
   "display_name": "Python 3 (ipykernel)",
   "language": "python",
   "name": "python3"
  },
  "language_info": {
   "codemirror_mode": {
    "name": "ipython",
    "version": 3
   },
   "file_extension": ".py",
   "mimetype": "text/x-python",
   "name": "python",
   "nbconvert_exporter": "python",
   "pygments_lexer": "ipython3",
   "version": "3.9.13"
  }
 },
 "nbformat": 4,
 "nbformat_minor": 5
}

{
 "cells": [
  {
   "cell_type": "markdown",
   "id": "fe0b1917",
   "metadata": {},
   "source": [
    "# String"
   ]
  },
  {
   "cell_type": "code",
   "execution_count": 14,
   "id": "fb0e9c60",
   "metadata": {},
   "outputs": [
    {
     "name": "stdout",
     "output_type": "stream",
     "text": [
      "a\n",
      "n\n",
      "u\n",
      "r\n",
      "a\n",
      "g\n",
      " \n",
      "3\n",
      "1\n"
     ]
    }
   ],
   "source": [
    "a=\"anurag 31\"\n",
    "p=len(a)\n",
    "for i in range(p):\n",
    "     print(a[i])\n",
    "        "
   ]
  },
  {
   "cell_type": "code",
   "execution_count": 17,
   "id": "36cc504e",
   "metadata": {},
   "outputs": [
    {
     "ename": "SyntaxError",
     "evalue": "invalid syntax (2814489506.py, line 1)",
     "output_type": "error",
     "traceback": [
      "\u001b[1;36m  File \u001b[1;32m\"C:\\Users\\anura\\AppData\\Local\\Temp\\ipykernel_13924\\2814489506.py\"\u001b[1;36m, line \u001b[1;32m1\u001b[0m\n\u001b[1;33m    a='hello wor'ld'\u001b[0m\n\u001b[1;37m                 ^\u001b[0m\n\u001b[1;31mSyntaxError\u001b[0m\u001b[1;31m:\u001b[0m invalid syntax\n"
     ]
    }
   ],
   "source": [
    "a='hello wor'ld'\n",
    "print(a)\n"
   ]
  },
  {
   "cell_type": "code",
   "execution_count": 19,
   "id": "d2399862",
   "metadata": {},
   "outputs": [
    {
     "name": "stdout",
     "output_type": "stream",
     "text": [
      "hello wor'ld\n",
      "hello w\"or\"ld\n"
     ]
    }
   ],
   "source": [
    "a=\"hello wor'ld\"\n",
    "print(a)\n",
    "a='hello w\"or\"ld'\n",
    "print(a)\n"
   ]
  },
  {
   "cell_type": "code",
   "execution_count": 24,
   "id": "c979c1a9",
   "metadata": {},
   "outputs": [
    {
     "name": "stdout",
     "output_type": "stream",
     "text": [
      "this is akash's pen, thank 'you\" \n"
     ]
    }
   ],
   "source": [
    "#escaping\n",
    "a='this is akash\\'s pen, thank \\'you\" '\n",
    "print(a)"
   ]
  },
  {
   "cell_type": "code",
   "execution_count": 28,
   "id": "23dfcdea",
   "metadata": {},
   "outputs": [
    {
     "name": "stdout",
     "output_type": "stream",
     "text": [
      "hello paramount\n"
     ]
    }
   ],
   "source": [
    "#concat\n",
    "a=\"hello\"\n",
    "b=\" paramount\"\n",
    "print(a+b)"
   ]
  },
  {
   "cell_type": "code",
   "execution_count": 27,
   "id": "8789a570",
   "metadata": {},
   "outputs": [
    {
     "name": "stdout",
     "output_type": "stream",
     "text": [
      "hello paramount\n"
     ]
    }
   ],
   "source": [
    "a=\"hello\"\n",
    "b=\" paramount\"\n",
    "a=a+b\n",
    "print(a)"
   ]
  },
  {
   "cell_type": "code",
   "execution_count": 35,
   "id": "70e64f6b",
   "metadata": {},
   "outputs": [
    {
     "name": "stdout",
     "output_type": "stream",
     "text": [
      "True\n",
      "False\n",
      "False\n",
      "True\n",
      "True\n",
      "True\n",
      "True\n"
     ]
    }
   ],
   "source": [
    "a=\"hello\"\n",
    "b=\" paramount\"\n",
    "print(a>b)\n",
    "print(a<b)\n",
    "print(a==b)\n",
    "print(a!=b)\n",
    "print(a.isalpha())\n",
    "print(a.islower())\n",
    "print(a.startswith(\"h\"))"
   ]
  },
  {
   "cell_type": "code",
   "execution_count": 42,
   "id": "5ea1395c",
   "metadata": {},
   "outputs": [
    {
     "name": "stdout",
     "output_type": "stream",
     "text": [
      "abcd\n",
      "ABCD\n"
     ]
    }
   ],
   "source": [
    "s = \"abcd\"\n",
    "s.upper()\n",
    "print(s)   \n",
    "\n",
    "s = \"abcd\"\n",
    "s = s.upper()\n",
    "print(s)"
   ]
  },
  {
   "cell_type": "code",
   "execution_count": 43,
   "id": "d223669f",
   "metadata": {},
   "outputs": [
    {
     "ename": "TypeError",
     "evalue": "can only concatenate str (not \"int\") to str",
     "output_type": "error",
     "traceback": [
      "\u001b[1;31m---------------------------------------------------------------------------\u001b[0m",
      "\u001b[1;31mTypeError\u001b[0m                                 Traceback (most recent call last)",
      "\u001b[1;32m~\\AppData\\Local\\Temp\\ipykernel_13924\\708584681.py\u001b[0m in \u001b[0;36m<module>\u001b[1;34m\u001b[0m\n\u001b[0;32m      1\u001b[0m \u001b[0ms\u001b[0m \u001b[1;33m=\u001b[0m \u001b[1;34m\"abcd\"\u001b[0m\u001b[1;33m\u001b[0m\u001b[1;33m\u001b[0m\u001b[0m\n\u001b[1;32m----> 2\u001b[1;33m \u001b[0mprint\u001b[0m\u001b[1;33m(\u001b[0m\u001b[0ms\u001b[0m \u001b[1;33m+\u001b[0m \u001b[1;36m12\u001b[0m\u001b[1;33m)\u001b[0m\u001b[1;33m\u001b[0m\u001b[1;33m\u001b[0m\u001b[0m\n\u001b[0m",
      "\u001b[1;31mTypeError\u001b[0m: can only concatenate str (not \"int\") to str"
     ]
    }
   ],
   "source": [
    "s = \"abcd\"\n",
    "print(s + 12)"
   ]
  },
  {
   "cell_type": "code",
   "execution_count": 45,
   "id": "9b13085e",
   "metadata": {},
   "outputs": [
    {
     "data": {
      "text/plain": [
       "'cd'"
      ]
     },
     "execution_count": 45,
     "metadata": {},
     "output_type": "execute_result"
    }
   ],
   "source": [
    "\"abcd\"[2:]"
   ]
  },
  {
   "cell_type": "code",
   "execution_count": 5,
   "id": "a748ff13",
   "metadata": {},
   "outputs": [
    {
     "name": "stdout",
     "output_type": "stream",
     "text": [
      "o\n",
      "gh\n"
     ]
    }
   ],
   "source": [
    "str1 = 'hello'\n",
    "print(str1[-1:])\n",
    "s = \"abcdefghi\"\n",
    "print(s[-3:-1])"
   ]
  },
  {
   "cell_type": "code",
   "execution_count": 6,
   "id": "6b08a932",
   "metadata": {},
   "outputs": [
    {
     "name": "stdout",
     "output_type": "stream",
     "text": [
      "['Welcome', 'to', 'paramount', 'noida']\n",
      "['Welcome', 'are', 'paramount', 'noida']\n"
     ]
    }
   ],
   "source": [
    "#split\n",
    "a=\"Welcome to paramount noida\"\n",
    "p=a.split()\n",
    "print(p)\n",
    "p[1]=\"are\"\n",
    "print(p)"
   ]
  },
  {
   "cell_type": "code",
   "execution_count": 14,
   "id": "3401d198",
   "metadata": {},
   "outputs": [
    {
     "name": "stdout",
     "output_type": "stream",
     "text": [
      "me to par\n",
      "lcome to paramount noida\n",
      "Welc\n",
      "Welcome to\n",
      "loet aa\n",
      "adion tnuomarap ot emocle\n",
      "\n",
      "adion tnuomarap ot emocleW\n"
     ]
    }
   ],
   "source": [
    "#String slicing\n",
    "a=\"Welcome to paramount noida\"\n",
    "print(a[5:14])\n",
    "print(a[2:])\n",
    "print(a[:4])\n",
    "print(a[:10:1])\n",
    "print(a[2:16:2])\n",
    "print(a[31:0:-1])\n",
    "print(a[2:16:-1])\n",
    "a=\"Welcome to paramount noida\"\n",
    "print(a[-1::-1])\n"
   ]
  },
  {
   "cell_type": "code",
   "execution_count": 22,
   "id": "a8fe1cdc",
   "metadata": {},
   "outputs": [
    {
     "name": "stdout",
     "output_type": "stream",
     "text": [
      "adion tnuomarap ot emocleW\n"
     ]
    }
   ],
   "source": [
    "a=\"Welcome to paramount noida\"\n",
    "print(a[-1: :-1])"
   ]
  },
  {
   "cell_type": "code",
   "execution_count": 2,
   "id": "071b5751",
   "metadata": {},
   "outputs": [
    {
     "name": "stdout",
     "output_type": "stream",
     "text": [
      "abcdcba\n",
      "true\n"
     ]
    }
   ],
   "source": [
    "#palindrome\n",
    "n=input()\n",
    "a=n\n",
    "p=a[-1: :-1]\n",
    "if a==p:\n",
    "    print(\"true\")\n",
    "    \n",
    "else:\n",
    "    print(\"false\")"
   ]
  },
  {
   "cell_type": "code",
   "execution_count": 3,
   "id": "6cbbd576",
   "metadata": {},
   "outputs": [
    {
     "name": "stdout",
     "output_type": "stream",
     "text": [
      "anuragxanuragx\n",
      "anuragyanuragy\n"
     ]
    }
   ],
   "source": [
    "#replace all occurence\n",
    "s=input()\n",
    "a='x'\n",
    "b='y'\n",
    "p=s.find(a)\n",
    "if p!=-1:\n",
    "    p=s.replace(a,b)\n",
    "print(p)"
   ]
  },
  {
   "cell_type": "code",
   "execution_count": null,
   "id": "d9e5bdcb",
   "metadata": {},
   "outputs": [],
   "source": [
    "# replace 1st occurence only\n",
    "s=input()\n",
    "a='x'\n",
    "b='y'\n",
    "p=s.find(a)\n",
    "ans=s\n",
    "if p!=-1:\n",
    "    ans=s[:p]+b+s[p+1:]\n",
    "    \n",
    "print(ans)"
   ]
  },
  {
   "cell_type": "code",
   "execution_count": 9,
   "id": "230c8827",
   "metadata": {},
   "outputs": [
    {
     "name": "stdout",
     "output_type": "stream",
     "text": [
      "abc\n",
      "Total number of substrings are: 6\n",
      "a\n",
      "ab\n",
      "abc\n",
      "b\n",
      "bc\n",
      "c\n"
     ]
    }
   ],
   "source": [
    "# taking string as input\n",
    "string = input()\n",
    "\n",
    "# lenght of the string\n",
    "n = len(string)\n",
    "\n",
    "# formula for total number of substrings n*(n+1)/2\n",
    "total = (n*(n+1)) // 2\n",
    "print('Total number of substrings are:', total)\n",
    "\n",
    "# for ever char traverse ever char which is ahead\n",
    "for i in range(n):\n",
    "    for j in range(i, n):\n",
    "        # printing sustring in range i to j\n",
    "        print(string[i:j+1])"
   ]
  },
  {
   "cell_type": "markdown",
   "id": "b7fac749",
   "metadata": {},
   "source": [
    "# List"
   ]
  },
  {
   "cell_type": "code",
   "execution_count": null,
   "id": "1cd5b01d",
   "metadata": {},
   "outputs": [],
   "source": []
  }
 ],
 "metadata": {
  "kernelspec": {
   "display_name": "Python 3 (ipykernel)",
   "language": "python",
   "name": "python3"
  },
  "language_info": {
   "codemirror_mode": {
    "name": "ipython",
    "version": 3
   },
   "file_extension": ".py",
   "mimetype": "text/x-python",
   "name": "python",
   "nbconvert_exporter": "python",
   "pygments_lexer": "ipython3",
   "version": "3.9.13"
  }
 },
 "nbformat": 4,
 "nbformat_minor": 5
}

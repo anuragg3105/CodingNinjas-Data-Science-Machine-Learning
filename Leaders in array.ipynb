{
 "cells": [
  {
   "cell_type": "markdown",
   "id": "4d2813be",
   "metadata": {},
   "source": [
    "Given an integer array A of size n. Find and print all the leaders present in the input array. An array element A[i] is called Leader, if all the elements following it (i.e. present at its right) are less than or equal to A[i].\n",
    "Print all the leader elements separated by space and in the same order they are present in the input array."
   ]
  },
  {
   "cell_type": "code",
   "execution_count": 1,
   "id": "dc220f86",
   "metadata": {},
   "outputs": [
    {
     "name": "stdout",
     "output_type": "stream",
     "text": [
      "17 5 2 "
     ]
    }
   ],
   "source": [
    "# Python Function to print leaders in array\n",
    "\n",
    "def printLeaders(arr,size):\n",
    "\t\n",
    "\tfor i in range(0, size):\n",
    "\t\tfor j in range(i+1, size):\n",
    "\t\t\tif arr[i]<=arr[j]:\n",
    "\t\t\t\tbreak\n",
    "\t\tif j == size-1: # If loop didn't break\n",
    "\t\t\tprint (arr[i],end=' ')\n",
    "\n",
    "# Driver function\n",
    "arr=[16, 17, 4, 3, 5, 2]\n",
    "printLeaders(arr, len(arr))\n",
    "\n",
    "# This code is contributed by _Devesh Agrawal__\n"
   ]
  },
  {
   "cell_type": "code",
   "execution_count": 2,
   "id": "b77d850a",
   "metadata": {},
   "outputs": [
    {
     "name": "stdout",
     "output_type": "stream",
     "text": [
      "6 3 2 "
     ]
    }
   ],
   "source": [
    "def LeaderinArray(arr, n):\n",
    "    for i in range(0,n):\n",
    "        k = arr[i]            # Initializing k with arr[i], to compare further elements with arr[i]\n",
    "        isBreak=0\n",
    "        for j in range(i+1,n):\n",
    "            if(arr[j]>=k):    # It means that k is not a leader because it is less\n",
    "                isBreak=1\n",
    "                break         # than or equal to an element that is on its right side\n",
    "        if(isBreak==0):\n",
    "            print(k,end=\" \")  # Print the leader\n",
    "\n",
    "arr = [2,4,6,3,1,2]\n",
    "n = len(arr)\n",
    "LeaderinArray(arr, n)"
   ]
  },
  {
   "cell_type": "code",
   "execution_count": null,
   "id": "10344b39",
   "metadata": {},
   "outputs": [],
   "source": []
  }
 ],
 "metadata": {
  "kernelspec": {
   "display_name": "Python 3 (ipykernel)",
   "language": "python",
   "name": "python3"
  },
  "language_info": {
   "codemirror_mode": {
    "name": "ipython",
    "version": 3
   },
   "file_extension": ".py",
   "mimetype": "text/x-python",
   "name": "python",
   "nbconvert_exporter": "python",
   "pygments_lexer": "ipython3",
   "version": "3.9.13"
  }
 },
 "nbformat": 4,
 "nbformat_minor": 5
}

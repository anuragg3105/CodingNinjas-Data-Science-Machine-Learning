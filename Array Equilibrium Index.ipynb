{
 "cells": [
  {
   "cell_type": "code",
   "execution_count": 2,
   "id": "60ebb41a",
   "metadata": {},
   "outputs": [
    {
     "ename": "IndentationError",
     "evalue": "unexpected indent (916501282.py, line 21)",
     "output_type": "error",
     "traceback": [
      "\u001b[1;36m  File \u001b[1;32m\"C:\\Users\\anura\\AppData\\Local\\Temp\\ipykernel_12020\\916501282.py\"\u001b[1;36m, line \u001b[1;32m21\u001b[0m\n\u001b[1;33m    return arr, n\u001b[0m\n\u001b[1;37m    ^\u001b[0m\n\u001b[1;31mIndentationError\u001b[0m\u001b[1;31m:\u001b[0m unexpected indent\n"
     ]
    }
   ],
   "source": [
    "from sys import stdin\n",
    "\n",
    "def arrayEquilibriumIndex(arr, n) :\n",
    "     rightSum, leftSum = 0, 0\n",
    "     for i in range(n) :\n",
    "         rightSum += arr[i]\n",
    "            \n",
    "     for i in range(n) :\n",
    "         rightSum -= arr[i]\n",
    "        \n",
    "         if rightSum == leftSum :\n",
    "            return i\n",
    "         leftSum += arr[i]\n",
    "     return -1\n",
    "\n",
    "def takeInput() :\n",
    "   n = int(stdin.readline().strip())\n",
    "   if n == 0 :\n",
    "      return list(), 0\n",
    "   arr = list(map(int, stdin.readline().strip().split(\" \")))\n",
    "      return arr, n\n",
    "    \n",
    "def printList(arr, n) :\n",
    "    for i in range(n) :\n",
    "        print(arr[i], end = \" \")\n",
    "    print()\n",
    "    \n",
    "#main\n",
    "t = int(stdin.readline().strip())\n",
    "\n",
    "while t > 0 :\n",
    "   arr, n = takeInput()\n",
    "   print(arrayEquilibriumIndex(arr, n))\n",
    "   t-= 1"
   ]
  },
  {
   "cell_type": "code",
   "execution_count": null,
   "id": "9d1ae2bb",
   "metadata": {},
   "outputs": [],
   "source": []
  }
 ],
 "metadata": {
  "kernelspec": {
   "display_name": "Python 3 (ipykernel)",
   "language": "python",
   "name": "python3"
  },
  "language_info": {
   "codemirror_mode": {
    "name": "ipython",
    "version": 3
   },
   "file_extension": ".py",
   "mimetype": "text/x-python",
   "name": "python",
   "nbconvert_exporter": "python",
   "pygments_lexer": "ipython3",
   "version": "3.9.13"
  }
 },
 "nbformat": 4,
 "nbformat_minor": 5
}

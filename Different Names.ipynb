{
 "cells": [
  {
   "cell_type": "code",
   "execution_count": 1,
   "id": "7e51ee5f",
   "metadata": {},
   "outputs": [
    {
     "ename": "SyntaxError",
     "evalue": "invalid syntax (1661879098.py, line 2)",
     "output_type": "error",
     "traceback": [
      "\u001b[1;36m  File \u001b[1;32m\"C:\\Users\\anura\\AppData\\Local\\Temp\\ipykernel_15256\\1661879098.py\"\u001b[1;36m, line \u001b[1;32m2\u001b[0m\n\u001b[1;33m    using namespace std;\u001b[0m\n\u001b[1;37m          ^\u001b[0m\n\u001b[1;31mSyntaxError\u001b[0m\u001b[1;31m:\u001b[0m invalid syntax\n"
     ]
    }
   ],
   "source": [
    "#include <bits/stdc++.h>\n",
    "using namespace std;\n",
    "int main() {\n",
    "  string s;\n",
    "  int count = 0;\n",
    "\n",
    "  // Taking input string from user\n",
    "        getline(cin, s);\n",
    "        // Taking an empty string temp\n",
    "        string temp = \"\";\n",
    "        // Defining map\n",
    "        unordered_map<string, int> m;\n",
    "        for (int i = 0; i < s.length(); i++) {\n",
    "            if (s[i] == ' ') {\n",
    "            // Iterating the names into map\n",
    "                    m[temp]++;\n",
    "                    temp = \"\";\n",
    "            } else {\n",
    "                temp = temp + s[i];\n",
    "            }\n",
    "            if (i == s.length() - 1) {\n",
    "                m[temp]++;\n",
    "            }\n",
    "        }\n",
    "\n",
    "        // Declaring the iterator to map\n",
    "        unordered_map<string, int>::iterator it;\n",
    "        for (it = m.begin(); it != m.end(); it++) {\n",
    "          if (it->second >= 2) {\n",
    "            // Printing the repeated names along with their frequency\n",
    "            cout << it->first << \" \" << it->second << endl;\n",
    "            count++;\n",
    "          }\n",
    "        }\n",
    "        if (count == 0)\n",
    "          cout << -1;\n",
    "        return 0;\n",
    "}"
   ]
  },
  {
   "cell_type": "code",
   "execution_count": null,
   "id": "e53e3096",
   "metadata": {},
   "outputs": [],
   "source": [
    "def freqMap(l):\n",
    "        map = {}\n",
    "        for num in l:\n",
    "            if num in map:\n",
    "             map[num] += 1\n",
    "        else:\n",
    "            map[num] = 1\n",
    "        return map\n",
    "def differentNames(l):\n",
    "        m = freqMap(l)\n",
    "        ans = {}\n",
    "        for name in m:\n",
    "            if m[name]!=1:\n",
    "                ans[name] = m[name]\n",
    "        return ans\n",
    "# Main\n",
    "names=input().strip().split()\n",
    "m=differentNames(names)\n",
    "if m:\n",
    "        for name in m:\n",
    "            print(name, m[name])\n",
    "else:\n",
    "    print(-1)"
   ]
  },
  {
   "cell_type": "code",
   "execution_count": null,
   "id": "074a2bc0",
   "metadata": {},
   "outputs": [],
   "source": [
    "#include <iostream>\n",
    "#include <sstream>\n",
    "#include <string>\n",
    "#include <unordered_map>\n",
    "using namespace std;\n",
    "int main() {\n",
    "    string str;\n",
    "    getline(cin, str);\n",
    "    unordered_map<string, int> freq;\n",
    "    istringstream stream(str);\n",
    "    do {\n",
    "        string word;\n",
    "        stream >> word;\n",
    "        ++freq[word];\n",
    "    } while (stream);\n",
    "    bool isNamePrinted = false;\n",
    "    for (auto pair : freq) {\n",
    "        if (pair.second > 1) {\n",
    "            isNamePrinted = true;\n",
    "            cout << pair.first << \" \" << pair.second << \"\\n\";\n",
    "    }\n",
    "}\n",
    "if (!isNamePrinted) {\n",
    "        cout << -1;\n",
    "}\n",
    "}"
   ]
  },
  {
   "cell_type": "code",
   "execution_count": null,
   "id": "f692f6ab",
   "metadata": {},
   "outputs": [],
   "source": []
  }
 ],
 "metadata": {
  "kernelspec": {
   "display_name": "Python 3 (ipykernel)",
   "language": "python",
   "name": "python3"
  },
  "language_info": {
   "codemirror_mode": {
    "name": "ipython",
    "version": 3
   },
   "file_extension": ".py",
   "mimetype": "text/x-python",
   "name": "python",
   "nbconvert_exporter": "python",
   "pygments_lexer": "ipython3",
   "version": "3.9.13"
  }
 },
 "nbformat": 4,
 "nbformat_minor": 5
}

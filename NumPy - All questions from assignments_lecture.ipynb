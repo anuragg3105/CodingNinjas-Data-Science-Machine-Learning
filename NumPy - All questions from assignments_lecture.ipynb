{
 "cells": [
  {
   "cell_type": "markdown",
   "id": "cd105777",
   "metadata": {},
   "source": [
    "# NumPy 2D array\n",
    "Send Feedback\n",
    "Problem Statement:\n",
    "Given a 2D list, create a numpy 2D array using it.\n",
    "Note: Given 2D list is [[1, 2, 3], [4, 5, 6], [7, 8, 9]]\n",
    "Print the Numpy array.\n",
    "Output Format :\n",
    "numpyArray"
   ]
  },
  {
   "cell_type": "code",
   "execution_count": null,
   "id": "6ddfa2d9",
   "metadata": {},
   "outputs": [],
   "source": [
    "## Open and read data file as specified in the question\n",
    "## Print the required output in given format\n",
    "import numpy as np\n",
    "\n",
    "# create a 2D list\n",
    "lst = [[1, 2, 3], [4, 5, 6], [7, 8, 9]]\n",
    "\n",
    "# create a NumPy 2D array using the 2D list\n",
    "arr = np.array(lst)\n",
    "\n",
    "# print the NumPy array\n",
    "print(arr)\n"
   ]
  },
  {
   "cell_type": "markdown",
   "id": "9019e2ea",
   "metadata": {},
   "source": [
    "# NumPy 0s and 1s\n",
    "Send Feedback\n",
    "Problem Statement:\n",
    "Create an integer array of size 10, where all the values should be 0 but the fifth value should be 1.\n",
    "Print the elements of array.\n",
    "Output Format :\n",
    "element1 element2 element3 ... "
   ]
  },
  {
   "cell_type": "code",
   "execution_count": null,
   "id": "43218d02",
   "metadata": {},
   "outputs": [],
   "source": [
    "## Open and read data file as specified in the question\n",
    "## Print the required output in given format\n",
    "import numpy as np\n",
    "\n",
    "# create a NumPy array of size 10 with all values as 0\n",
    "arr = np.zeros(10, dtype=int)\n",
    "\n",
    "# set the fifth value to 1\n",
    "arr[4] = 1\n",
    "\n",
    "# print the elements of the array\n",
    "for element in arr:\n",
    "    print(element, end=' ')\n"
   ]
  },
  {
   "cell_type": "markdown",
   "id": "75e64590",
   "metadata": {},
   "source": [
    "# NumPy Inclusive\n",
    "Send Feedback\n",
    "Problem Statement:\n",
    "Create an array with values ranging consecutively from 9 to 49 (both inclusive).\n",
    "Print the Numpy array.\n",
    "Output Format :\n",
    "element1 element2 element3 ..."
   ]
  },
  {
   "cell_type": "code",
   "execution_count": null,
   "id": "d18f4ac7",
   "metadata": {},
   "outputs": [],
   "source": [
    "## Open and read data file as specified in the question\n",
    "## Print the required output in given format\n",
    "import numpy as np\n",
    "\n",
    "# create a NumPy array with values ranging from 9 to 49 (both inclusive)\n",
    "arr = np.arange(9, 50)\n",
    "\n",
    "# print the elements of the array\n",
    "for element in arr:\n",
    "    print(element, end=' ')\n"
   ]
  },
  {
   "cell_type": "markdown",
   "id": "97c5aaa9",
   "metadata": {},
   "source": [
    "# Identity Matrix\n",
    "Send Feedback\n",
    "Problem Statement:\n",
    "Create a matrix having diagonal elements as 1 and all other elements as 0 of size (5, 6).\n",
    "Print the Numpy array.\n",
    "Output Format :\n",
    "numpyArray"
   ]
  },
  {
   "cell_type": "code",
   "execution_count": null,
   "id": "3fad4472",
   "metadata": {},
   "outputs": [],
   "source": [
    "import numpy as np\n",
    "\n",
    "# create a 5x6 identity matrix using the np.identity() function\n",
    "mat = np.identity(5, dtype=int)\n",
    "\n",
    "# add a column of zeros to the matrix to make it 5x6\n",
    "mat = np.concatenate((mat, np.zeros((5, 1), dtype=int)), axis=1)\n",
    "\n",
    "# print the matrix\n",
    "print(mat)\n"
   ]
  },
  {
   "cell_type": "markdown",
   "id": "cacdd68d",
   "metadata": {},
   "source": [
    "# Cut the Rope\n",
    "Send Feedback\n",
    "Problem Statement:\n",
    "You are given a rope of length 5m. Cut the rope into 9 parts such that each part is of equal length.\n",
    "Note:Array elements are the points where cut is to be made and round upto 2 decimal place.\n",
    "Print the array element.\n",
    "Output Format :\n",
    "element1 \n",
    "element2 \n",
    "element3"
   ]
  },
  {
   "cell_type": "code",
   "execution_count": null,
   "id": "56d84214",
   "metadata": {},
   "outputs": [],
   "source": [
    "# calculate the length of each part\n",
    "length = 5 / 9\n",
    "\n",
    "# initialize an empty list to store the cut positions\n",
    "cuts = []\n",
    "\n",
    "# loop through 8 times to make 8 cuts\n",
    "for i in range(1, 9):\n",
    "    # calculate the cut position and round to 2 decimal places\n",
    "    cut = round(i * length, 2)\n",
    "    # append the cut position to the cuts list\n",
    "    cuts.append(cut)\n",
    "\n",
    "# print the cut positions as separate lines\n",
    "for cut in cuts:\n",
    "    print(cut)\n"
   ]
  },
  {
   "cell_type": "markdown",
   "id": "57be1600",
   "metadata": {},
   "source": [
    "# Print Elements\n",
    "Send Feedback\n",
    "Problem Statement:\n",
    "Given a 2D integer array size (4, 5) with name input_?\n",
    "Print elements of highlighted matrix\n",
    "Alt Text Alt Text Alt Text Alt Text\n",
    "\n",
    "Output Format :\n",
    "element1 element2 element3 . . .\n",
    "element1 element2 element3 . . .\n",
    "element1 element2 element3 . . .\n",
    "element1 element2 element3 . . ."
   ]
  },
  {
   "cell_type": "code",
   "execution_count": null,
   "id": "f3ce0fe1",
   "metadata": {},
   "outputs": [],
   "source": [
    "## Open and read data file as specified in the question\n",
    "## Print the required output in given format\n",
    "import numpy as np\n",
    "input_=np.arange(1,21,1)\n",
    "input_=input_.reshape(4,5)\n",
    "import numpy as np\n",
    "input_ = np.arange(1,21,1)\n",
    "input_ = input_.reshape(4,5)\n",
    "print(*input_[2,:3])\n",
    "\n",
    "print(*input_[1:4,3])\n",
    "\n",
    "c = input_[2:4,:5]\n",
    "print(*c[0],end=' ')\n",
    "print(*c[1],end=' ')\n",
    "print()\n",
    "\n",
    "c = input_[1:3,1:3]\n",
    "print(*c[0],end=' ')\n",
    "print(*c[1],end=' ')"
   ]
  },
  {
   "cell_type": "markdown",
   "id": "c5084b87",
   "metadata": {},
   "source": [
    "# Non-Zero elements\n",
    "Send Feedback\n",
    "Problem Statemnt:\n",
    "Find indices of non-zero elements from the array [1,2,0,0,4,0] ?\n",
    "Print the index of non-zero elements.\n",
    "Output Format :\n",
    "index1 index2 index3 ... "
   ]
  },
  {
   "cell_type": "code",
   "execution_count": null,
   "id": "c99cdcb5",
   "metadata": {},
   "outputs": [],
   "source": [
    "## Open and read data file as specified in the question\n",
    "## Print the required output in given format\n",
    "import numpy as np\n",
    "arr = np.array([1,2,0,0,4,0])\n",
    "ind = np.where(arr != 0)\n",
    "print(*ind[0])"
   ]
  },
  {
   "cell_type": "markdown",
   "id": "0fac8c5d",
   "metadata": {},
   "source": [
    "# Multiples of 3\n",
    "Send Feedback\n",
    "Problem Statement:\n",
    "Given an integer array of size 10. Print the index of elements which are multiple of 3.\n",
    "Note: Generate the following array\n",
    "array([ 1,  3,  5,  7,  9, 11, 13, 15, 17, 19])\n",
    "Print the index of elements.\n",
    "Output Format :\n",
    "index1 index2 index3 ... "
   ]
  },
  {
   "cell_type": "code",
   "execution_count": null,
   "id": "8a206788",
   "metadata": {},
   "outputs": [],
   "source": [
    "## Open and read data file as specified in the question\n",
    "## Print the required output in given format\n",
    "import numpy as np\n",
    "arr = np.array([1,2,0,0,4,0])\n",
    "ind = np.where(arr != 0)\n",
    "\n",
    "import numpy as np\n",
    "arr = np.arange(1,20,2)\n",
    "ind = np.where(arr%3 == 0)\n",
    "print(*ind[0])"
   ]
  },
  {
   "cell_type": "markdown",
   "id": "faf07c84",
   "metadata": {},
   "source": [
    "# Odd elements\n",
    "Send Feedback\n",
    "Problem Statemnt:\n",
    "Given an integer array of size 10. Replace the odd number in numpy array with -1 ?\n",
    "Note: Generate the following array\n",
    "array([1, 2, 3, 4, 5, 6, 7, 8, 9, 10])\n",
    "Print the Numpy array.\n",
    "Output Format :\n",
    "firstElement secondElement  ... "
   ]
  },
  {
   "cell_type": "code",
   "execution_count": null,
   "id": "d610a455",
   "metadata": {},
   "outputs": [],
   "source": [
    "## Open and read data file as specified in the question\n",
    "## Print the required output in given format\n",
    "import numpy as np\n",
    "arr = np.arange(1,11)\n",
    "arr[arr % 2 != 0] = -1\n",
    "print(*arr)"
   ]
  },
  {
   "cell_type": "markdown",
   "id": "f740aadc",
   "metadata": {},
   "source": [
    "# Replace Max\n",
    "Send Feedback\n",
    "Problem Statemnt:\n",
    "Given an integer array of size 9 and replace the first occurrence of maximum value by 0?\n",
    "Note: Generate the following array\n",
    "array([11, 2, 13, 4, 15, 6, 27, 8, 19])\n",
    "Print the Numpy array.\n",
    "Output Format :\n",
    "firstElement\n",
    "secondElement \n",
    "... "
   ]
  },
  {
   "cell_type": "code",
   "execution_count": null,
   "id": "dc30928d",
   "metadata": {},
   "outputs": [],
   "source": [
    "import numpy as np\n",
    "arr = np.array([11, 2, 13, 4, 15, 6, 27, 8, 19])\n",
    "arr[arr.argmax()] = 0\n",
    "for i in arr :\n",
    "    print(i)"
   ]
  },
  {
   "cell_type": "markdown",
   "id": "4bc60162",
   "metadata": {},
   "source": [
    "# Negate Elements\n",
    "Send Feedback\n",
    "Problem Statemnt:\n",
    "Given a 1D array, negate all elements which are between 3 and 8 (both inclusive)?\n",
    "Note: Generate the following array\n",
    "array([1, 2, 3, 4, 5, 6, 7, 8, 9, 10])\n",
    "Print the Numpy array.\n",
    "Output Format :\n",
    "firstElement \n",
    "secondElement  \n",
    "... "
   ]
  },
  {
   "cell_type": "code",
   "execution_count": null,
   "id": "67110ccc",
   "metadata": {},
   "outputs": [],
   "source": [
    "import numpy as np\n",
    "arr = np.arange(1,11)\n",
    "arr[2:8] = np.multiply(arr[2:8],-1)\n",
    "for i in arr:\n",
    "    print(i)"
   ]
  },
  {
   "cell_type": "markdown",
   "id": "21d90a60",
   "metadata": {},
   "source": [
    "# Height\n",
    "Send Feedback\n",
    "Problem Statemnt:\n",
    "Given age and height of 20 students in two different numpy arrays with name age and height (in cms). Print the age of those students whose height is above 155 cm.\n",
    "Print the Numpy array.\n",
    "Output Format :\n",
    "age1 height1 \n",
    "age2 height2 \n",
    "... "
   ]
  },
  {
   "cell_type": "code",
   "execution_count": null,
   "id": "2c2ee25f",
   "metadata": {},
   "outputs": [],
   "source": [
    "import numpy as np\n",
    "age = np.array([15,17,19,20,14,21,16,19,13,20,22,23,21,16,18,19,20,15,17,18])\n",
    "height = np.array([156,144,180,162,152,157,154,155,151,150,158,179,126,182,183,154,159,160,172,149])\n",
    "index = np.where(height>155)\n",
    "for i in range(len(index[0])) :\n",
    "    print(age[index[0][i]],height[index[0][i]])"
   ]
  },
  {
   "cell_type": "markdown",
   "id": "dea58965",
   "metadata": {},
   "source": [
    "# Sort by column\n",
    "Send Feedback\n",
    "Problem Statemnt:\n",
    "Sort a given 2D array of shape (4, 5) by 2nd column (i.e. column at index 1) in ascending order.\n",
    "That means, we should re-arrange complete row based on 2nd columns' values.\n",
    "Given 2D array is:\n",
    " [[21 20 19 18 17]\n",
    "  [16 15 14 13 12]\n",
    "  [11 10  9  8  7]\n",
    "  [ 6  5  4  3  2]]\n",
    "Print the 2D array in sorted order.\n",
    "Note you have to generate the 2D Array.Here 2nd column means column present at index 1.\n",
    "Output Format :\n",
    "[[ 6  5  4  3  2]\n",
    "[11 10  9  8  7]\n",
    "[16 15 14 13 12]\n",
    "[21 20 19 18 17]]"
   ]
  },
  {
   "cell_type": "code",
   "execution_count": null,
   "id": "86ffa599",
   "metadata": {},
   "outputs": [],
   "source": [
    "import numpy as np\n",
    "arr = np.arange(21,1,-1)\n",
    "arr = arr.reshape(4,5)\n",
    "print(arr[::-1])"
   ]
  },
  {
   "cell_type": "markdown",
   "id": "8aeb3175",
   "metadata": {},
   "source": [
    "# Killed in USA\n",
    "Send Feedback\n",
    "Given file \"terrorismData.csv\"\n",
    "It is an open-source database including information on terrorist attacks around the world from 1970 through 2017. This dataset includes systematic data on domestic as well as international terrorist incidents that have occurred during this time period\n",
    "Problem Statement :\n",
    "Find value of killed column only where country == ‘United States’?\n",
    "Print 0 in place of missing values.\n",
    "Print count of Killed as integer value.\n",
    "Output Format :\n",
    "Killed1\n",
    "Killed2\n",
    "Killed3\n",
    "Killed4\n",
    ". . ."
   ]
  },
  {
   "cell_type": "code",
   "execution_count": null,
   "id": "4efb0d41",
   "metadata": {},
   "outputs": [],
   "source": [
    "import numpy as np\n",
    "import csv\n",
    "\n",
    "with open('terrorismData.csv',encoding=\"utf8\") as file_obj :\n",
    "    data = csv.DictReader(file_obj,skipinitialspace=True)\n",
    "\n",
    "    killed = []\n",
    "    country = []\n",
    "    for row in data:\n",
    "        killed.append(row['Killed'])\n",
    "        country.append(row['Country'])\n",
    "\n",
    "    np_killed = np.array(killed)\n",
    "    np_country = np.array(country)\n",
    "    \n",
    "    np_killed[np_killed == ''] = '0.0'\n",
    "    np_killed = np.array(np_killed,dtype=float)\n",
    "    \n",
    "    np_country = np.array(country)\n",
    "    bool_arr = np_country==\"United States\"\n",
    "    ans = np_killed[bool_arr]   \n",
    "    for i in ans:\n",
    "        print(int(i))\n",
    "        import numpy as np"
   ]
  },
  {
   "cell_type": "markdown",
   "id": "cda021dc",
   "metadata": {},
   "source": [
    "# Total Killed in USA\n",
    "Send Feedback\n",
    "Given file \"terrorismData.csv\"\n",
    "It is an open-source database including information on terrorist attacks around the world from 1970 through 2017. This dataset includes systematic data on domestic as well as international terrorist incidents that have occurred during this time period\n",
    "Problem Statement :\n",
    "Find total number of people killed from USA?\n",
    "Note: Some columns of killed are empty so replace them by 0.\n",
    "Print count of Killed as integer value.\n",
    "Output Format :\n",
    "TotalKilled"
   ]
  },
  {
   "cell_type": "code",
   "execution_count": null,
   "id": "ee0e5b18",
   "metadata": {},
   "outputs": [],
   "source": [
    "import numpy as np\n",
    "import csv\n",
    "\n",
    "with open('terrorismData.csv',encoding=\"utf8\") as file_obj :\n",
    "    data = csv.DictReader(file_obj,skipinitialspace=True)\n",
    "\n",
    "    killed = []\n",
    "    country = []\n",
    "    for row in data:\n",
    "        killed.append(row['Killed'])\n",
    "        country.append(row['Country'])\n",
    "\n",
    "    np_killed = np.array(killed)\n",
    "    np_country = np.array(country)\n",
    "    \n",
    "    np_killed[np_killed=='']= '0.0'\n",
    "    np_killed = np.array(np_killed,dtype=float)\n",
    "    \n",
    "    np_country = np.array(country)\n",
    "    bool_arr = np_country == \"United States\"\n",
    "    ans = np_killed[bool_arr]\n",
    "    \n",
    "    print(int(np.sum(ans)))"
   ]
  },
  {
   "cell_type": "markdown",
   "id": "d06b9d20",
   "metadata": {},
   "source": [
    "# Terrorism Day\n",
    "Send Feedback\n",
    "Given file \"terrorismData.csv\"\n",
    "It is an open-source database including information on terrorist attacks around the world from 1970 through 2017. This dataset includes systematic data on domestic as well as international terrorist incidents that have occurred during this time period\n",
    "Problem Statement :\n",
    "Find the number of attack held between day 10 and day 20?(ignoring the year and month)(including both day)\n",
    "Print count of NumberOFAttack as integer value.\n",
    "Output Format :\n",
    "count"
   ]
  },
  {
   "cell_type": "code",
   "execution_count": null,
   "id": "ecdec6d8",
   "metadata": {},
   "outputs": [],
   "source": [
    "import numpy as np\n",
    "import csv\n",
    "\n",
    "with open('terrorismData.csv',encoding=\"utf8\") as file_obj :\n",
    "    data = csv.DictReader(file_obj,skipinitialspace=True)\n",
    "    \n",
    "    days = []\n",
    "    for row in data:\n",
    "        days.append(row['Day'])\n",
    "        \n",
    "    np_days = np.array(days, dtype=float)\n",
    "    ans = np_days[(np_days>=10) & (np_days<=20)]\n",
    "    print(len(ans))"
   ]
  },
  {
   "cell_type": "markdown",
   "id": "6a528cb5",
   "metadata": {},
   "source": [
    "# Terrorism Date\n",
    "Send Feedback\n",
    "Given file \"terrorismData.csv\"\n",
    "It is an open-source database including information on terrorist attacks around the world from 1970 through 2017. This dataset includes systematic data on domestic as well as international terrorist incidents that have occurred during this time period\n",
    "Problem Statement :\n",
    "Find the number of attack held between 1 Jan 2010 and 31 Jan 2010?(including both date).\n",
    "Note Ignore the case where day is 0\n",
    "Print count of NumberOFAttack as integer value.\n",
    "Output Format :"
   ]
  },
  {
   "cell_type": "code",
   "execution_count": null,
   "id": "d61650c5",
   "metadata": {},
   "outputs": [],
   "source": [
    "import numpy as np\n",
    "import csv\n",
    "\n",
    "with open('terrorismData.csv',encoding=\"utf8\") as file_obj :\n",
    "    data = csv.DictReader(file_obj,skipinitialspace=True)\n",
    "    \n",
    "    days = []\n",
    "    months = []\n",
    "    year = []\n",
    "    for row in data:\n",
    "        days.append(row['Day'])\n",
    "        months.append(row['Month'])\n",
    "        year.append(row['Year'])\n",
    "        \n",
    "    np_day = np.array(days, dtype=float)\n",
    "    np_month = np.array(months, dtype=float)\n",
    "    np_year = np.array(year, dtype=float)\n",
    "    \n",
    "    np_day = np_day[np_month==1]\n",
    "    np_year = np_year[np_month==1]\n",
    "    np_day = np_day[np_year==2010]\n",
    "    \n",
    "    print(len(np_day[np_day!=0]))"
   ]
  },
  {
   "cell_type": "markdown",
   "id": "048bdd71",
   "metadata": {},
   "source": [
    "# Terror Casualty Attack\n",
    "Send Feedback\n",
    "Given file \"terrorismData.csv\"\n",
    "It is an open-source database including information on terrorist attacks around the world from 1970 through 2017. This dataset includes systematic data on domestic as well as international terrorist incidents that have occurred during this time period\n",
    "Problem Statement :\n",
    "As we knew the Kargil ( in Jammu and Kashmir) War that took place between May 1999 and July 1999 (3 Months) ,so there was a huge conflict in Kashmir Valley during this period.\n",
    "In this dataset, there is no information regarding the war between the two countries to find out the casualty during the war.\n",
    "So find out the attack in this period in which maximum casualties happened.\n",
    "Print the count of casualties (as integer), city in which that attack happened and name of attack group.\n",
    "Note : Casualty = Killed + Wounded.Fill the empty value in killed or wounded feature to 0.\n",
    "Output Format :\n",
    "Casualty City TerroristGroup"
   ]
  },
  {
   "cell_type": "code",
   "execution_count": null,
   "id": "a98c67ec",
   "metadata": {},
   "outputs": [],
   "source": [
    "import numpy as np\n",
    "import csv\n",
    "\n",
    "with open('terrorismData.csv',encoding=\"utf8\") as file_obj :\n",
    "    data = csv.DictReader(file_obj,skipinitialspace=True)\n",
    "    \n",
    "    city = []\n",
    "    casualty = []\n",
    "    for row in data:\n",
    "        if row[\"State\"] == \"Jammu and Kashmir\" and row[\"Year\"] == \"1999\" :\n",
    "            if row[\"Month\"] ==\"5\" or row[\"Month\"] == \"6\" or row[\"Month\"] == \"7\" :\n",
    "                casualty.append([row[\"Killed\"],row[\"Wounded\"]])\n",
    "                city.append([row[\"City\"],row['Group']])\n",
    "                \n",
    "    np_city = np.array(city)\n",
    "    np_casualty = np.array(casualty)\n",
    "    \n",
    "    np_casualty[np_casualty==''] = \"0.0\"\n",
    "    np_casualty = np.array(np_casualty, dtype = float)\n",
    "    \n",
    "    np_casualty = np.sum(np_casualty, axis=1)\n",
    "    index = np.argmax(np_casualty)\n",
    "    print(int(np_casualty[index]),np_city[index][0],np_city[index][1])"
   ]
  },
  {
   "cell_type": "markdown",
   "id": "bda16c92",
   "metadata": {},
   "source": [
    "# Terror Casualty Red\n",
    "Send Feedback\n",
    "Given file \"terrorismData.csv\"\n",
    "It is an open-source database including information on terrorist attacks around the world from 1970 through 2017. This dataset includes systematic data on domestic as well as international terrorist incidents that have occurred during this time period\n",
    "Problem Statement :\n",
    "Find the casualty in the Red Corridor States ? Mainly Red corridor states include Jharkhand, Odisha, Andhra Pradesh, and Chhattisgarh.\n",
    "Note: Casualty=Killed +Wounded\n",
    "Print count of Casualty as integer value."
   ]
  },
  {
   "cell_type": "code",
   "execution_count": null,
   "id": "dec78d2a",
   "metadata": {},
   "outputs": [],
   "source": [
    "import numpy as np\n",
    "import csv\n",
    "\n",
    "with open('terrorismData.csv',encoding=\"utf8\") as file_obj :\n",
    "    data = csv.DictReader(file_obj,skipinitialspace=True)\n",
    "    \n",
    "    casualty = []\n",
    "    for row in data:\n",
    "        if row['State']=='Chhattisgarh' or row['State']=='Odisha' or row['State']=='Jharkhand' or row['State']=='Andhra Pradesh':\n",
    "                casualty.append([row[\"Killed\"],row[\"Wounded\"]])\n",
    "\n",
    "    np_casualty = np.array(casualty)\n",
    "    \n",
    "    np_casualty[np_casualty==''] = \"0.0\"\n",
    "    np_casualty = np.array(np_casualty, dtype = float)\n",
    "    \n",
    "    np_casualty = np.sum(np_casualty, axis=1)\n",
    "    total_casualty = np.sum(np_casualty)\n",
    "    print(int(total_casualty))"
   ]
  },
  {
   "cell_type": "markdown",
   "id": "61d5bc3c",
   "metadata": {},
   "source": [
    "# Terror City Casualty\n",
    "Send Feedback\n",
    "Given file \"terrorismData.csv\"\n",
    "It is an open-source database including information on terrorist attacks around the world from 1970 through 2017. This dataset includes systematic data on domestic as well as international terrorist incidents that have occurred during this time period\n",
    "Problem Statement :\n",
    "Find top 5 Indian Cities which has most number of casualties ?\n",
    "Print top 5 cities along with total casualties in that city. Print count of Casualty as integer value.\n",
    "Note: Ignoring the City which is Unknown.\n",
    "Casualty = Killed + Wounded.\n",
    "Output Format :\n",
    "city_1 casualty_1\n",
    "city_2 casualty_2\n",
    "city_3 casualty_3\n",
    "city_4 casualty_4"
   ]
  },
  {
   "cell_type": "code",
   "execution_count": null,
   "id": "8fdf387b",
   "metadata": {},
   "outputs": [],
   "source": [
    "## Open and read data file as specified in the question\n",
    "## Print the required output in given formatimport numpy as np\n",
    "import csv\n",
    "from collections import Counter\n",
    "\n",
    "with open('terrorismData.csv',encoding=\"utf8\") as file_obj :\n",
    "    data = csv.DictReader(file_obj,skipinitialspace=True)\n",
    "    \n",
    "    city = []\n",
    "    casualty = []\n",
    "    for row in data:\n",
    "         if row[\"Country\"] == 'India' and row['City'] != 'Unknown':\n",
    "                casualty.append([row[\"Killed\"],row[\"Wounded\"]])\n",
    "                city.append(row[\"City\"])\n",
    "                \n",
    "    np_city = np.array(city)\n",
    "    np_casualty = np.array(casualty)\n",
    "    \n",
    "    np_casualty[np_casualty==''] = \"0.0\"\n",
    "    np_casualty = np.array(np_casualty, dtype = float)\n",
    "    np_casualty = np.sum(np_casualty, axis=1)\n",
    "    \n",
    "    dic = {}\n",
    "    for i in range(len(np_city)):\n",
    "        if np_city[i] in dic:\n",
    "            dic[np_city[i]] += np_casualty[i]\n",
    "        else:\n",
    "            dic[np_city[i]] = np_casualty[i]\n",
    "\n",
    "    k = Counter(dic) \n",
    "    high = k.most_common(5) \n",
    "    for i in high: \n",
    "        print(i[0],int(i[1]))"
   ]
  },
  {
   "cell_type": "markdown",
   "id": "a13d2bff",
   "metadata": {},
   "source": [
    "# Terrorism FrequentDay\n",
    "Send Feedback\n",
    "Given file \"terrorismData.csv\"\n",
    "It is an open-source database including information on terrorist attacks around the world from 1970 through 2017. This dataset includes systematic data on domestic as well as international terrorist incidents that have occurred during this time period\n",
    "Problem Statement :\n",
    "Find the most frequent day of attack in a terrorismDataset ?\n",
    "Note: Here np.unique can be used.\n",
    "Print count of frequent day and number of attack as Integer value."
   ]
  },
  {
   "cell_type": "code",
   "execution_count": null,
   "id": "6f108b6d",
   "metadata": {},
   "outputs": [],
   "source": [
    "import numpy as np\n",
    "import csv\n",
    "\n",
    "with open('terrorismData.csv',encoding=\"utf8\") as file_obj :\n",
    "    data = csv.DictReader(file_obj,skipinitialspace=True)\n",
    "    \n",
    "    day = []\n",
    "    for row in data:\n",
    "        day.append(row['Day'])\n",
    "        \n",
    "    np_day = np.array(day, dtype='int')\n",
    "    day, count = np.unique(np_day, return_counts=True)\n",
    "    index = np.argmax(count)\n",
    "    print(day[index], count[index])"
   ]
  },
  {
   "cell_type": "code",
   "execution_count": null,
   "id": "a5f1c83a",
   "metadata": {},
   "outputs": [],
   "source": []
  }
 ],
 "metadata": {
  "kernelspec": {
   "display_name": "Python 3 (ipykernel)",
   "language": "python",
   "name": "python3"
  },
  "language_info": {
   "codemirror_mode": {
    "name": "ipython",
    "version": 3
   },
   "file_extension": ".py",
   "mimetype": "text/x-python",
   "name": "python",
   "nbconvert_exporter": "python",
   "pygments_lexer": "ipython3",
   "version": "3.9.13"
  }
 },
 "nbformat": 4,
 "nbformat_minor": 5
}

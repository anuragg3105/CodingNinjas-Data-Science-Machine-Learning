{
 "cells": [
  {
   "cell_type": "markdown",
   "id": "33e93041",
   "metadata": {},
   "source": [
    "You are given with an array of integers and an integer K. You have to find and print the count of all such pairs which have difference K.\n",
    "Note: Take absolute difference between the elements of the array.\n",
    "Input Format:\n",
    "The first line of input contains an integer, that denotes the value of the size of the array. Let us denote it with the symbol n.\n",
    "The following line contains n space separated integers, that denote the value of the elements of the array.\n",
    "The following line contains an integer, that denotes the value of K."
   ]
  },
  {
   "cell_type": "code",
   "execution_count": null,
   "id": "d866cc0a",
   "metadata": {},
   "outputs": [],
   "source": [
    "def fact(n):\n",
    "    if n==0:\n",
    "        return 1\n",
    "    return n*fact(n-1)\n",
    "\n",
    "def printPairDiffK(l, k):\n",
    "    c=0\n",
    "    d={}\n",
    "    for i in l:\n",
    "        d[i]=d.get(i,0)+1\n",
    "    for j in l:\n",
    "        if n==d[j]:\n",
    "            fact_n = fact(n)\n",
    "            n_rfact = fact(n-2)\n",
    "            ans = fact_n//(n_rfact * 2)\n",
    "            \n",
    "            return ans\n",
    "        c+=d.get(j-k,0)\n",
    "    return c\n",
    "\n",
    "n=int(input())\n",
    "l=list(int(i) for i in input().strip().split(' '))\n",
    "k=int(input())\n",
    "print(printPairDiffK(l, k))"
   ]
  }
 ],
 "metadata": {
  "kernelspec": {
   "display_name": "Python 3 (ipykernel)",
   "language": "python",
   "name": "python3"
  },
  "language_info": {
   "codemirror_mode": {
    "name": "ipython",
    "version": 3
   },
   "file_extension": ".py",
   "mimetype": "text/x-python",
   "name": "python",
   "nbconvert_exporter": "python",
   "pygments_lexer": "ipython3",
   "version": "3.9.13"
  }
 },
 "nbformat": 4,
 "nbformat_minor": 5
}

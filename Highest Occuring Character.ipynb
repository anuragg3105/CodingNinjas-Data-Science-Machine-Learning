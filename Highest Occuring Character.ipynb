{
 "cells": [
  {
   "cell_type": "markdown",
   "id": "f5cb4007",
   "metadata": {},
   "source": [
    "For a given a string(str), find and return the highest occurring character.\n",
    "Example:\n",
    "Input String: \"abcdeapapqarr\"\n",
    "Expected Output: 'a'\n",
    "Since 'a' has appeared four times in the string which happens to be the highest frequency character, the answer would be 'a'.\n",
    "If there are two characters in the input string with the same frequency, return the character which comes first"
   ]
  },
  {
   "cell_type": "code",
   "execution_count": 1,
   "id": "e4c532fb",
   "metadata": {},
   "outputs": [
    {
     "name": "stdout",
     "output_type": "stream",
     "text": [
      "a\n"
     ]
    }
   ],
   "source": [
    "def highestOccuringChar(string):\n",
    "    maxFrequency = 0\n",
    "    arr = [0]*256\n",
    "    ans = ''\n",
    "    for i in range(len(string)):\n",
    "        arr[ord(string[i])] += 1\n",
    "        # To find which number is the highest in the array\n",
    "        maxFrequency = max(maxFrequency, arr[ord(string[i])])\n",
    "    \n",
    "    # To map which which char has the highest frequency\n",
    "    for i in range(len(string)):\n",
    "        if arr[ord(string[i])] == maxFrequency:\n",
    "            ans = string[i]\n",
    "            break\n",
    "    return ans\n",
    "        \n",
    "a = highestOccuringChar('aabbbdddaaacchkjd888')\n",
    "print(a)"
   ]
  },
  {
   "cell_type": "code",
   "execution_count": null,
   "id": "776e46d6",
   "metadata": {},
   "outputs": [],
   "source": []
  }
 ],
 "metadata": {
  "kernelspec": {
   "display_name": "Python 3 (ipykernel)",
   "language": "python",
   "name": "python3"
  },
  "language_info": {
   "codemirror_mode": {
    "name": "ipython",
    "version": 3
   },
   "file_extension": ".py",
   "mimetype": "text/x-python",
   "name": "python",
   "nbconvert_exporter": "python",
   "pygments_lexer": "ipython3",
   "version": "3.9.13"
  }
 },
 "nbformat": 4,
 "nbformat_minor": 5
}

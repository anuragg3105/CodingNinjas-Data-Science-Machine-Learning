{
 "cells": [
  {
   "cell_type": "code",
   "execution_count": 1,
   "id": "a179fb35",
   "metadata": {},
   "outputs": [
    {
     "name": "stdout",
     "output_type": "stream",
     "text": [
      "olleH ym eman si kehsivA \n"
     ]
    }
   ],
   "source": [
    "\n",
    "def reverseEachWord(string):\n",
    "    arr = string.split(' ')\n",
    "    ans = ''\n",
    "    for i in range(len(arr)):\n",
    "        temp = arr[i]\n",
    "        temp = temp[::-1]\n",
    "        ans += temp + ' '\n",
    "    return ans\n",
    "\n",
    "a = reverseEachWord('Hello my name is Avishek')\n",
    "print(a)"
   ]
  },
  {
   "cell_type": "code",
   "execution_count": 2,
   "id": "c7ebb944",
   "metadata": {},
   "outputs": [],
   "source": [
    "\n",
    "def reverseWord(string, start, end) :    \n",
    "    reverse = \"\"    \n",
    "    while start < end :        \n",
    "        reverse = string[start] + reverse        \n",
    "    start += 1    \n",
    "    return reverse\n",
    "\n",
    "def reverseEachWord(string) :    \n",
    "    n = len(string)    \n",
    "    previousSpaceIndex = -1    \n",
    "    ans = \"\"    \n",
    "    \n",
    "    i = 0    \n",
    "    while i < n :        \n",
    "        if string[i] == ' ' :            \n",
    "            ans += (reverseWord(string, previousSpaceIndex + 1, i) + \" \")            \n",
    "            previousSpaceIndex = i        \n",
    "        i += 1    \n",
    "        \n",
    "    ans += (reverseWord(string, previousSpaceIndex + 1, i) + \" \")    \n",
    "    return ans"
   ]
  },
  {
   "cell_type": "code",
   "execution_count": null,
   "id": "cfee8a94",
   "metadata": {},
   "outputs": [],
   "source": []
  }
 ],
 "metadata": {
  "kernelspec": {
   "display_name": "Python 3 (ipykernel)",
   "language": "python",
   "name": "python3"
  },
  "language_info": {
   "codemirror_mode": {
    "name": "ipython",
    "version": 3
   },
   "file_extension": ".py",
   "mimetype": "text/x-python",
   "name": "python",
   "nbconvert_exporter": "python",
   "pygments_lexer": "ipython3",
   "version": "3.9.13"
  }
 },
 "nbformat": 4,
 "nbformat_minor": 5
}

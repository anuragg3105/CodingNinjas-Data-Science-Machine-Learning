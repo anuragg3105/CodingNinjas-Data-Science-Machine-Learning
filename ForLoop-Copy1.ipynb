{
 "cells": [
  {
   "cell_type": "code",
   "execution_count": 12,
   "id": "5f2fb1c8",
   "metadata": {},
   "outputs": [
    {
     "name": "stdout",
     "output_type": "stream",
     "text": [
      "1\n",
      "2\n",
      "3\n",
      "4\n",
      "5\n",
      "6\n",
      "7\n",
      "8\n",
      "9\n"
     ]
    }
   ],
   "source": [
    "a=[1,2,3,4,5,6,7,8,9]\n",
    "for i in a:\n",
    "    print(i)"
   ]
  },
  {
   "cell_type": "code",
   "execution_count": 10,
   "id": "5fb71bb4",
   "metadata": {},
   "outputs": [
    {
     "name": "stdout",
     "output_type": "stream",
     "text": [
      "5\n",
      "6\n",
      "5\n",
      "4\n",
      "3\n",
      "2\n"
     ]
    }
   ],
   "source": [
    "n=int(input())\n",
    "for i in range(n+1,1,-1):\n",
    "   print(i)"
   ]
  },
  {
   "cell_type": "code",
   "execution_count": 2,
   "id": "2d7baa90",
   "metadata": {},
   "outputs": [
    {
     "name": "stdout",
     "output_type": "stream",
     "text": [
      "1\n",
      "3\n",
      "3\n"
     ]
    }
   ],
   "source": [
    "a=int(input())\n",
    "b=int(input())\n",
    "\n",
    "for i in range(a,b+1,1):\n",
    "    if i%3==0:\n",
    "        print(i)\n",
    "\n",
    "        "
   ]
  },
  {
   "cell_type": "code",
   "execution_count": 4,
   "id": "1fe43e92",
   "metadata": {},
   "outputs": [
    {
     "name": "stdout",
     "output_type": "stream",
     "text": [
      "7\n",
      "100\n",
      "9\n",
      "12\n",
      "15\n",
      "18\n",
      "21\n",
      "24\n",
      "27\n",
      "30\n",
      "33\n",
      "36\n",
      "39\n",
      "42\n",
      "45\n",
      "48\n",
      "51\n",
      "54\n",
      "57\n",
      "60\n",
      "63\n",
      "66\n",
      "69\n",
      "72\n",
      "75\n",
      "78\n",
      "81\n",
      "84\n",
      "87\n",
      "90\n",
      "93\n",
      "96\n",
      "99\n"
     ]
    }
   ],
   "source": [
    "a=int(input())\n",
    "b=int(input())\n",
    "\n",
    "if a%3==0:\n",
    "    s=a\n",
    "elif a%3==1:\n",
    "    s=a+2\n",
    "else:\n",
    "    s=a+1\n",
    "\n",
    "for i in range(s,b+1,1):\n",
    "    if i%3==0:\n",
    "        print(i)"
   ]
  },
  {
   "cell_type": "code",
   "execution_count": 9,
   "id": "1d896923",
   "metadata": {},
   "outputs": [
    {
     "name": "stdout",
     "output_type": "stream",
     "text": [
      "10\n",
      "5 8 11 17 20 23 29 "
     ]
    }
   ],
   "source": [
    "#AP terms\n",
    "x=int(input())\n",
    "sum=0\n",
    "\n",
    "for i in range(1,x,1):\n",
    "     if i%4!=0:\n",
    "        sum=sum+((3*i)+2)\n",
    "        print(sum,end=' ')\n",
    "        sum=0"
   ]
  },
  {
   "cell_type": "code",
   "execution_count": 10,
   "id": "7750f3a1",
   "metadata": {},
   "outputs": [
    {
     "name": "stdout",
     "output_type": "stream",
     "text": [
      "10\n",
      "5 11 14 17 23 26 29 35 38 41 "
     ]
    }
   ],
   "source": [
    "x = int (input())\n",
    "counter = 1\n",
    "#for i in range (1, x + 1, 1):\n",
    "for y in range (1, 100, 1):\n",
    "        z = 3 * y + 2\n",
    "        if counter > x:\n",
    "            break\n",
    "        elif z % 4 != 0:\n",
    "                print(z, end=' ')\n",
    "                counter = counter+1"
   ]
  },
  {
   "cell_type": "code",
   "execution_count": 6,
   "id": "71dc13d1",
   "metadata": {},
   "outputs": [
    {
     "name": "stdout",
     "output_type": "stream",
     "text": [
      "10\n",
      "5 11 14 17 23 26 29 35 38 41 "
     ]
    }
   ],
   "source": [
    "x= int(input())\n",
    "count=0\n",
    "n=1\n",
    "while(count<x):\n",
    "    y=3*n+2\n",
    "    if(y%4!=0):\n",
    "        print(y, end=' ')\n",
    "        count=count+1\n",
    "    n=n+1\n",
    "              "
   ]
  },
  {
   "cell_type": "code",
   "execution_count": 1,
   "id": "a15b8f90",
   "metadata": {},
   "outputs": [
    {
     "name": "stdout",
     "output_type": "stream",
     "text": [
      "6\n",
      "Not prime\n"
     ]
    }
   ],
   "source": [
    "#Primality\n",
    "n=int(input())\n",
    "flag= False\n",
    "for i in range(2,n,1):\n",
    "    if n%i==0:\n",
    "      flag=True\n",
    "            \n",
    "if flag==True:\n",
    "    print(\"Not prime\")\n",
    "    \n",
    "else:\n",
    "    print(\"Prime\")"
   ]
  },
  {
   "cell_type": "code",
   "execution_count": null,
   "id": "c9047ad7",
   "metadata": {},
   "outputs": [],
   "source": []
  },
  {
   "cell_type": "code",
   "execution_count": null,
   "id": "a7327377",
   "metadata": {},
   "outputs": [],
   "source": []
  }
 ],
 "metadata": {
  "kernelspec": {
   "display_name": "Python 3 (ipykernel)",
   "language": "python",
   "name": "python3"
  },
  "language_info": {
   "codemirror_mode": {
    "name": "ipython",
    "version": 3
   },
   "file_extension": ".py",
   "mimetype": "text/x-python",
   "name": "python",
   "nbconvert_exporter": "python",
   "pygments_lexer": "ipython3",
   "version": "3.9.13"
  }
 },
 "nbformat": 4,
 "nbformat_minor": 5
}

{
 "cells": [
  {
   "cell_type": "markdown",
   "id": "7bec5fe3",
   "metadata": {},
   "source": [
    "You have been given an empty array(ARR) and its size N. The only input taken from the user will be N and you need not worry about the array.\n",
    "Your task is to populate the array using the integer values in the range 1 to N(both inclusive) in the order - 1,3,5,.......,6,4,2."
   ]
  },
  {
   "cell_type": "code",
   "execution_count": 2,
   "id": "5c0890ae",
   "metadata": {},
   "outputs": [
    {
     "ename": "NameError",
     "evalue": "name 'stdin' is not defined",
     "output_type": "error",
     "traceback": [
      "\u001b[1;31m---------------------------------------------------------------------------\u001b[0m",
      "\u001b[1;31mNameError\u001b[0m                                 Traceback (most recent call last)",
      "\u001b[1;32m~\\AppData\\Local\\Temp\\ipykernel_10420\\4283347767.py\u001b[0m in \u001b[0;36m<module>\u001b[1;34m\u001b[0m\n\u001b[0;32m     25\u001b[0m \u001b[1;33m\u001b[0m\u001b[0m\n\u001b[0;32m     26\u001b[0m \u001b[1;31m#main\u001b[0m\u001b[1;33m\u001b[0m\u001b[1;33m\u001b[0m\u001b[0m\n\u001b[1;32m---> 27\u001b[1;33m \u001b[0mt\u001b[0m \u001b[1;33m=\u001b[0m \u001b[0mint\u001b[0m\u001b[1;33m(\u001b[0m\u001b[0mstdin\u001b[0m\u001b[1;33m.\u001b[0m\u001b[0mreadline\u001b[0m\u001b[1;33m(\u001b[0m\u001b[1;33m)\u001b[0m\u001b[1;33m.\u001b[0m\u001b[0mstrip\u001b[0m\u001b[1;33m(\u001b[0m\u001b[1;33m)\u001b[0m\u001b[1;33m)\u001b[0m\u001b[1;33m\u001b[0m\u001b[1;33m\u001b[0m\u001b[0m\n\u001b[0m\u001b[0;32m     28\u001b[0m \u001b[1;33m\u001b[0m\u001b[0m\n\u001b[0;32m     29\u001b[0m \u001b[1;32mwhile\u001b[0m \u001b[0mt\u001b[0m \u001b[1;33m>\u001b[0m \u001b[1;36m0\u001b[0m \u001b[1;33m:\u001b[0m\u001b[1;33m\u001b[0m\u001b[1;33m\u001b[0m\u001b[0m\n",
      "\u001b[1;31mNameError\u001b[0m: name 'stdin' is not defined"
     ]
    }
   ],
   "source": [
    "def arrange(arr, n) :\n",
    "    #Your code goes here\n",
    "\n",
    "    val=1\n",
    "    start = 0\n",
    "    end = n-1\n",
    "    while(start<=end):\n",
    "        if(val%2==1):\n",
    "          arr[start]=val\n",
    "          val=val+1\n",
    "          start=start+1\n",
    "    \n",
    "        else:\n",
    "            arr[end]=val\n",
    "            val=val+1\n",
    "            end=end-1\n",
    "   \n",
    "#to print the array/list\n",
    "def printList(arr, n) :\n",
    "    for i in range(n) :\n",
    "        print(arr[i], end = ' ')\n",
    "    print()\n",
    "\n",
    "\n",
    "\n",
    "#main\n",
    "t = int(stdin.readline().strip())\n",
    "\n",
    "while t > 0 :\n",
    "    n = int(stdin.readline().strip())\n",
    "    arr = n * [0]\n",
    "    arrange(arr, n)\n",
    "    printList(arr, n)\n",
    "    t -= 1"
   ]
  },
  {
   "cell_type": "code",
   "execution_count": null,
   "id": "3e2e4764",
   "metadata": {},
   "outputs": [],
   "source": []
  }
 ],
 "metadata": {
  "kernelspec": {
   "display_name": "Python 3 (ipykernel)",
   "language": "python",
   "name": "python3"
  },
  "language_info": {
   "codemirror_mode": {
    "name": "ipython",
    "version": 3
   },
   "file_extension": ".py",
   "mimetype": "text/x-python",
   "name": "python",
   "nbconvert_exporter": "python",
   "pygments_lexer": "ipython3",
   "version": "3.9.13"
  }
 },
 "nbformat": 4,
 "nbformat_minor": 5
}

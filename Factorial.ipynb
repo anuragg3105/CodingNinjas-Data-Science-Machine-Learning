{
 "cells": [
  {
   "cell_type": "code",
   "execution_count": null,
   "id": "37d87d2f",
   "metadata": {},
   "outputs": [],
   "source": [
    "#Without Function\n",
    "n=int(input())\n",
    "r=int(input())\n",
    "\n",
    "n_fact=1\n",
    "for i in range(1,n+1):\n",
    "    n_fact=n_fact*i\n",
    "    \n",
    "r_fact=1\n",
    "for i in range(1,r+1):\n",
    "    r_fact=r_fact*i\n",
    "    \n",
    "n_r_fact=1\n",
    "for i in range(1,n-r+1):\n",
    "    n_r_fact=n_r_fact*i\n",
    "    \n",
    "ans=int(n_fact/(r_fact*n_r_fact))\n",
    "print(ans)"
   ]
  },
  {
   "cell_type": "code",
   "execution_count": 1,
   "id": "87232e92",
   "metadata": {},
   "outputs": [
    {
     "name": "stdout",
     "output_type": "stream",
     "text": [
      "5\n",
      "2\n",
      "10\n"
     ]
    }
   ],
   "source": [
    "#Factorial with function\n",
    "\n",
    "def fact(n):    \n",
    "    n_fact = 1\n",
    "    for i in range(1,n+1):\n",
    "        n_fact=n_fact*i\n",
    "    return n_fact\n",
    "\n",
    "def ncr(n,r):\n",
    "    n_fact=fact(n)\n",
    "    r_fact=fact(r)\n",
    "    n_r_fact=fact(n-r)\n",
    "\n",
    "    ans=n_fact//(r_fact*n_r_fact)\n",
    "    return ans\n",
    "\n",
    "n= int(input())\n",
    "r=int(input())\n",
    "ncr(n,r)\n",
    "print(ncr(n,r))"
   ]
  },
  {
   "cell_type": "code",
   "execution_count": null,
   "id": "87b77d49",
   "metadata": {},
   "outputs": [],
   "source": [
    "# Python program to find the factorial of a number provided by the user\n",
    "\n",
    "def factorial(x):\n",
    "    \"\"\"This is a recursive function\n",
    "    to find the factorial of an integer\"\"\"\n",
    "\n",
    "    if x == 1:\n",
    "        return 1\n",
    "    else:\n",
    "        # recursive call to the function\n",
    "        return (x * factorial(x-1))\n",
    "\n",
    "num = int(input())\n",
    "result = factorial(num)\n",
    "print(\"The factorial of\", num, \"is\", result)"
   ]
  },
  {
   "cell_type": "code",
   "execution_count": 2,
   "id": "ff352081",
   "metadata": {},
   "outputs": [
    {
     "name": "stdout",
     "output_type": "stream",
     "text": [
      "5\n",
      "2\n",
      "10\n"
     ]
    }
   ],
   "source": [
    "def fact(n):    \n",
    "    n_fact = 1\n",
    "    for i in range(1,n+1):\n",
    "        n_fact=n_fact*i\n",
    "    return n_fact\n",
    "\n",
    "n= int(input())\n",
    "r= int(input())\n",
    "\n",
    "n_fact=fact(n)\n",
    "r_fact=fact(r)\n",
    "n_r_fact=fact(n-r)\n",
    "\n",
    "ans=n_fact//(r_fact*n_r_fact)\n",
    "print(ans)"
   ]
  },
  {
   "cell_type": "code",
   "execution_count": null,
   "id": "03a2923b",
   "metadata": {},
   "outputs": [],
   "source": []
  }
 ],
 "metadata": {
  "kernelspec": {
   "display_name": "Python 3 (ipykernel)",
   "language": "python",
   "name": "python3"
  },
  "language_info": {
   "codemirror_mode": {
    "name": "ipython",
    "version": 3
   },
   "file_extension": ".py",
   "mimetype": "text/x-python",
   "name": "python",
   "nbconvert_exporter": "python",
   "pygments_lexer": "ipython3",
   "version": "3.9.13"
  }
 },
 "nbformat": 4,
 "nbformat_minor": 5
}

{
 "cells": [
  {
   "cell_type": "code",
   "execution_count": 16,
   "id": "ec270bc6",
   "metadata": {},
   "outputs": [
    {
     "name": "stdout",
     "output_type": "stream",
     "text": [
      "10\n"
     ]
    }
   ],
   "source": [
    "a=10\n",
    "print(a)\n",
    "\n",
    "\n"
   ]
  },
  {
   "cell_type": "code",
   "execution_count": 4,
   "id": "3d493edd",
   "metadata": {},
   "outputs": [
    {
     "name": "stdout",
     "output_type": "stream",
     "text": [
      "Career\n",
      "Labs\n"
     ]
    }
   ],
   "source": [
    "print(\"Career\")\n",
    "print(\"Labs\")"
   ]
  },
  {
   "cell_type": "code",
   "execution_count": 5,
   "id": "c48a874c",
   "metadata": {},
   "outputs": [
    {
     "name": "stdout",
     "output_type": "stream",
     "text": [
      "200\n"
     ]
    }
   ],
   "source": [
    "a = 10\n",
    "b = 20 \n",
    "multiple = a*b\n",
    "print(multiple)"
   ]
  },
  {
   "cell_type": "code",
   "execution_count": 6,
   "id": "4d8b3a23",
   "metadata": {},
   "outputs": [
    {
     "name": "stdout",
     "output_type": "stream",
     "text": [
      "abcd\n"
     ]
    }
   ],
   "source": [
    "x = 10\n",
    "x = \"abcd\"\n",
    "print(x)"
   ]
  },
  {
   "cell_type": "code",
   "execution_count": 7,
   "id": "31e25469",
   "metadata": {},
   "outputs": [
    {
     "name": "stdout",
     "output_type": "stream",
     "text": [
      "10 <class 'int'>\n"
     ]
    }
   ],
   "source": [
    "x = \"abcd\"\n",
    "x = 10\n",
    "print(x,type(x))"
   ]
  },
  {
   "cell_type": "code",
   "execution_count": 10,
   "id": "3c0ed4d4",
   "metadata": {},
   "outputs": [
    {
     "name": "stdout",
     "output_type": "stream",
     "text": [
      "1471448050256 1471448050256\n"
     ]
    }
   ],
   "source": [
    "a = 10\n",
    "id1 = id(a)\n",
    "b = a + 2-2\n",
    "id2 = id(b)\n",
    "print(id1, id2)"
   ]
  },
  {
   "cell_type": "code",
   "execution_count": 11,
   "id": "70f23274",
   "metadata": {},
   "outputs": [
    {
     "name": "stdout",
     "output_type": "stream",
     "text": [
      "1\n"
     ]
    }
   ],
   "source": [
    "print(17//10)"
   ]
  },
  {
   "cell_type": "code",
   "execution_count": 12,
   "id": "039b9f8a",
   "metadata": {},
   "outputs": [
    {
     "name": "stdout",
     "output_type": "stream",
     "text": [
      "1.7\n"
     ]
    }
   ],
   "source": [
    "print(17/10)"
   ]
  },
  {
   "cell_type": "code",
   "execution_count": 13,
   "id": "a9a6b069",
   "metadata": {},
   "outputs": [
    {
     "name": "stdout",
     "output_type": "stream",
     "text": [
      "40\n",
      "57\n",
      "4057\n"
     ]
    }
   ],
   "source": [
    "a = input()\n",
    "b = input()\n",
    "C = a+b\n",
    "print(C)"
   ]
  },
  {
   "cell_type": "code",
   "execution_count": 14,
   "id": "491e5781",
   "metadata": {},
   "outputs": [
    {
     "name": "stdout",
     "output_type": "stream",
     "text": [
      "40\n",
      "57\n",
      "97\n"
     ]
    }
   ],
   "source": [
    "a =int (input())\n",
    "b= int (input())\n",
    "C = a+b\n",
    "print(C)"
   ]
  },
  {
   "cell_type": "code",
   "execution_count": null,
   "id": "703d35c5",
   "metadata": {},
   "outputs": [],
   "source": [
    "a = int(input())\n",
    "b=int(input())\n",
    "C = a+b\n",
    "print(C)\n"
   ]
  },
  {
   "cell_type": "code",
   "execution_count": null,
   "id": "434ce835",
   "metadata": {},
   "outputs": [],
   "source": []
  }
 ],
 "metadata": {
  "kernelspec": {
   "display_name": "Python 3 (ipykernel)",
   "language": "python",
   "name": "python3"
  },
  "language_info": {
   "codemirror_mode": {
    "name": "ipython",
    "version": 3
   },
   "file_extension": ".py",
   "mimetype": "text/x-python",
   "name": "python",
   "nbconvert_exporter": "python",
   "pygments_lexer": "ipython3",
   "version": "3.9.13"
  }
 },
 "nbformat": 4,
 "nbformat_minor": 5
}

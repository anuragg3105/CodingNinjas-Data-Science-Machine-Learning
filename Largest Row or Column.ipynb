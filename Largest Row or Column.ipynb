{
 "cells": [
  {
   "cell_type": "markdown",
   "id": "3dd19b16",
   "metadata": {},
   "source": [
    "For a given two-dimensional integer array/list of size (N x M), you need to find out which row or column has the largest sum(sum of all the elements in a row/column) amongst all the rows and columns.\n",
    "Note :\n",
    "If there are more than one rows/columns with maximum sum, consider the row/column that comes first. And if ith row and jth column has the same largest sum, consider the ith row as answer.\n",
    "\n",
    "************Input Format :\n",
    "\n",
    "The first line contains an Integer 't' which denotes the number of test cases or queries to be run. Then the test cases follow.\n",
    "\n",
    "First line of each test case or query contains two integer values, 'N' and 'M', separated by a single space. They represent the 'rows' and 'columns' respectively, for the two-dimensional array/list.\n",
    "Second line onwards, the next 'N' lines or rows represent the ith row values.\n",
    "Each of the ith row constitutes 'M' column values separated by a single space.\n",
    "\n",
    "************Output Format :\n",
    "\n",
    "For each test case, If row sum is maximum, then print: \"row\" row_index row_sum\n",
    "OR\n",
    "If column sum is maximum, then print: \"column\" col_index col_sum\n",
    "It will be printed in a single line separated by a single space between each piece of information.\n",
    "\n",
    "Output for every test case will be printed in a seperate line.\n",
    " Consider :\n",
    "If there doesn't exist a sum at all then print \"row 0 -2147483648\", where -2147483648 or -2^31 is the smallest value for the range of Integer."
   ]
  },
  {
   "cell_type": "code",
   "execution_count": 1,
   "id": "6070313d",
   "metadata": {},
   "outputs": [
    {
     "name": "stdout",
     "output_type": "stream",
     "text": [
      "column 2 25\n"
     ]
    }
   ],
   "source": [
    "def findLargest(arr, nRows, mCols):\n",
    "\n",
    "    max_sum = -(2^31)\n",
    "    max_index = 0\n",
    "    isRow = True\n",
    "    \n",
    "    for i in range(nRows):\n",
    "        Sum = 0\n",
    "        for j in range(mCols):\n",
    "            Sum += arr[i][j]\n",
    "        \n",
    "        if Sum > max_sum:\n",
    "            max_index  = i\n",
    "            max_sum = Sum\n",
    "    \n",
    "    for j in range(mCols):\n",
    "        Sum = 0\n",
    "        for i in range(nRows):\n",
    "            Sum += arr[i][j]\n",
    "        \n",
    "        if Sum > max_sum:\n",
    "            max_index  = j\n",
    "            max_sum = Sum\n",
    "            isRow = False\n",
    "    \n",
    "    if isRow:\n",
    "        print('row', str(max_index)+ ' '+ str(max_sum))\n",
    "    else:\n",
    "        print('column', str(max_index) + ' '+  str(max_sum))\n",
    "\n",
    "a = findLargest([[3,6,9], [1,4,7], [2,8,9]],3,3)\n",
    "a\n",
    "            "
   ]
  },
  {
   "cell_type": "code",
   "execution_count": null,
   "id": "1200e9fa",
   "metadata": {},
   "outputs": [],
   "source": [
    "public class Solution {\n",
    "\n",
    "\tpublic static void findLargest(int mat[][]){\n",
    "\t\t//Your code goes here\n",
    "        if( mat.length == 0){\n",
    "            System.out.println(\"row \"+0+\" \"+ Integer.MIN_VALUE);\n",
    "            return ;\n",
    "        }\n",
    "        \n",
    "        // finding max row sum\n",
    "        int rowSum = Integer.MIN_VALUE;\n",
    "        int rowIndex = 0;\n",
    "        for(int i = 0; i<mat.length; i++){\n",
    "            int sum = 0;\n",
    "            for(int j = 0; j< mat[0].length; j++){\n",
    "                sum += mat[i][j];\n",
    "            }\n",
    "            \n",
    "            if( sum > rowSum ){\n",
    "                rowSum = sum;\n",
    "                rowIndex = i;\n",
    "            }\n",
    "        }\n",
    "        \n",
    "        // finding max col sum\n",
    "        int colSum = Integer.MIN_VALUE;\n",
    "        int colIndex = 0;\n",
    "        for(int j = 0; j<mat[0].length; j++){\n",
    "            int sum = 0;\n",
    "            for( int i = 0; i<mat.length; i++){\n",
    "                sum += mat[i][j];\n",
    "            }\n",
    "            \n",
    "            if( sum > colSum){\n",
    "                colSum = sum;\n",
    "                colIndex = j;\n",
    "            }\n",
    "        }\n",
    "        \n",
    "        if( rowSum >= colSum){\n",
    "            System.out.println(\"row \"+rowIndex+\" \"+rowSum );\n",
    "        }else{\n",
    "            System.out.println(\"column \"+colIndex+\" \"+colSum);\n",
    "        }        \n",
    "\t}\n",
    "}"
   ]
  }
 ],
 "metadata": {
  "kernelspec": {
   "display_name": "Python 3 (ipykernel)",
   "language": "python",
   "name": "python3"
  },
  "language_info": {
   "codemirror_mode": {
    "name": "ipython",
    "version": 3
   },
   "file_extension": ".py",
   "mimetype": "text/x-python",
   "name": "python",
   "nbconvert_exporter": "python",
   "pygments_lexer": "ipython3",
   "version": "3.9.13"
  }
 },
 "nbformat": 4,
 "nbformat_minor": 5
}

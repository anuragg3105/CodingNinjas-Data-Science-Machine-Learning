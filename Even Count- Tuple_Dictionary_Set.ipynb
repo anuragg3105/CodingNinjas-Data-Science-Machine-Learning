{
 "cells": [
  {
   "cell_type": "code",
   "execution_count": null,
   "id": "4174dcca",
   "metadata": {},
   "outputs": [],
   "source": [
    "def getOddOccurrence(arr,size): \n",
    "       \n",
    "    map1 = {}  \n",
    "    for i in range(0, n):  \n",
    "      \n",
    "\n",
    "        if arr[i] not in map1:  \n",
    "            map1[arr[i]] = False\n",
    "  \n",
    "        else: \n",
    "            map1[arr[i]] = not map1[arr[i]] \n",
    "  \n",
    "    for j in range(0, n):  \n",
    "      \n",
    "\n",
    "        if map1[arr[j]] == True:  \n",
    "            break\n",
    "      \n",
    "    return arr[j]  \n",
    "\n",
    "n=int(input())\n",
    "arr=list(int(i) for i in input().strip().split(' '))\n",
    "k=(getOddOccurrence(arr,n))\n",
    "print(k)"
   ]
  }
 ],
 "metadata": {
  "kernelspec": {
   "display_name": "Python 3 (ipykernel)",
   "language": "python",
   "name": "python3"
  },
  "language_info": {
   "codemirror_mode": {
    "name": "ipython",
    "version": 3
   },
   "file_extension": ".py",
   "mimetype": "text/x-python",
   "name": "python",
   "nbconvert_exporter": "python",
   "pygments_lexer": "ipython3",
   "version": "3.9.13"
  }
 },
 "nbformat": 4,
 "nbformat_minor": 5
}

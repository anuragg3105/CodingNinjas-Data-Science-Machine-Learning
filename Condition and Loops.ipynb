{
 "cells": [
  {
   "cell_type": "code",
   "execution_count": 4,
   "id": "5519bbb1",
   "metadata": {},
   "outputs": [
    {
     "name": "stdout",
     "output_type": "stream",
     "text": [
      "1\n",
      "0\n",
      "True <class 'bool'> False <class 'bool'>\n"
     ]
    }
   ],
   "source": [
    "a=True\n",
    "b=False\n",
    "print(int(a))\n",
    "print(int(b))\n",
    "print(a,type(a) ,b,type(b))"
   ]
  },
  {
   "cell_type": "code",
   "execution_count": 5,
   "id": "4852c334",
   "metadata": {},
   "outputs": [
    {
     "name": "stdout",
     "output_type": "stream",
     "text": [
      "True\n",
      "False\n",
      "True\n",
      "False\n",
      "False\n",
      "True\n"
     ]
    }
   ],
   "source": [
    "a=10\n",
    "b=20\n",
    "print(a<b)\n",
    "print(a>b)\n",
    "print(a<=b)\n",
    "print(a>=b)\n",
    "print(a==b)\n",
    "print(a!=b)"
   ]
  },
  {
   "cell_type": "code",
   "execution_count": 10,
   "id": "07fa1b03",
   "metadata": {},
   "outputs": [
    {
     "name": "stdout",
     "output_type": "stream",
     "text": [
      "logical operators\n",
      "True\n",
      "False\n",
      "True\n",
      "False\n",
      "True\n",
      "True\n",
      "False\n"
     ]
    }
   ],
   "source": [
    "print(\"logical operators\")\n",
    "x=10\n",
    "\n",
    "print(x==10 and x<y)\n",
    "print(x==10 and y==0)\n",
    "print(x==10 and x<y and y==20)\n",
    "print(x==10 and x<y and y==0)\n",
    "print(x==10 or y==0)\n",
    "print(x!=11 and y==20)\n",
    "print(x!=10 and y==20)"
   ]
  },
  {
   "cell_type": "code",
   "execution_count": 7,
   "id": "670a7736",
   "metadata": {},
   "outputs": [
    {
     "name": "stdout",
     "output_type": "stream",
     "text": [
      "binary value finder\n",
      "0b1010\n",
      "0b1000\n",
      "and or xor operator\n",
      "8 0b1000\n",
      "10 0b1010\n",
      "2 0b10\n"
     ]
    }
   ],
   "source": [
    "x=10\n",
    "y=8\n",
    "\n",
    "print(\"binary value finder\")\n",
    "print(bin(x))\n",
    "print(bin(y))\n",
    "\n",
    "print(\"and or xor operator\")\n",
    "print(x&y, bin(x&y))\n",
    "print(x|y, bin(x|y))\n",
    "print(x^y, bin(x^y))"
   ]
  },
  {
   "cell_type": "code",
   "execution_count": 8,
   "id": "a32b5cc8",
   "metadata": {},
   "outputs": [
    {
     "name": "stdout",
     "output_type": "stream",
     "text": [
      "False\n",
      "True\n",
      "True\n"
     ]
    }
   ],
   "source": [
    "c1=a>10\n",
    "c2=b>10\n",
    "r1=c1 and c2\n",
    "r2=c1 or c2\n",
    "r3=not(c1)\n",
    "print(r1)\n",
    "print(r2)\n",
    "print(r3)"
   ]
  },
  {
   "cell_type": "code",
   "execution_count": 4,
   "id": "0ec2c572",
   "metadata": {},
   "outputs": [
    {
     "name": "stdout",
     "output_type": "stream",
     "text": [
      "Inside if\n"
     ]
    }
   ],
   "source": [
    "a=True\n",
    "\n",
    "if a:\n",
    "    print(\"Inside if\")\n",
    "    \n",
    "else :\n",
    "    print(\"outside if\")"
   ]
  },
  {
   "cell_type": "code",
   "execution_count": 5,
   "id": "88b4b5cd",
   "metadata": {},
   "outputs": [
    {
     "name": "stdout",
     "output_type": "stream",
     "text": [
      "outside if\n"
     ]
    }
   ],
   "source": [
    "a=False\n",
    "\n",
    "if a:\n",
    "    print(\"Inside if\")\n",
    "    \n",
    "else :\n",
    "    print(\"outside if\")"
   ]
  },
  {
   "cell_type": "code",
   "execution_count": 8,
   "id": "4d5a943c",
   "metadata": {},
   "outputs": [
    {
     "name": "stdout",
     "output_type": "stream",
     "text": [
      "8\n",
      "even\n"
     ]
    }
   ],
   "source": [
    "n=int(input())\n",
    "\n",
    "if n%2==0:\n",
    "    print(\"even\")\n",
    "    \n",
    "else:\n",
    "    print(\"odd\")"
   ]
  },
  {
   "cell_type": "code",
   "execution_count": 9,
   "id": "e6e7320b",
   "metadata": {},
   "outputs": [
    {
     "name": "stdout",
     "output_type": "stream",
     "text": [
      "This is an equilateral triangle\n"
     ]
    }
   ],
   "source": [
    "a = 5\n",
    "b = 5\n",
    "c = 5\n",
    "\n",
    "if (a != b) and (b != c) and (a != c):\n",
    "    print('This is a scalene triangle')\n",
    "\n",
    "elif (a == b) and (b == c):\n",
    "    print('This is an equilateral triangle')\n",
    "\n",
    "else:\n",
    "    print('This is an isosceles triangle')"
   ]
  },
  {
   "cell_type": "code",
   "execution_count": 10,
   "id": "d46fadfa",
   "metadata": {},
   "outputs": [
    {
     "name": "stdout",
     "output_type": "stream",
     "text": [
      "too low\n"
     ]
    }
   ],
   "source": [
    "n = 10\n",
    "\n",
    "\n",
    "if n>0 and n<=10:\n",
    "    print(\"too low\")\n",
    "\n",
    "elif n>10 and n<=20:\n",
    "    print(\"medium\")\n",
    "\n",
    "elif n>20 and n<=30:\n",
    "    print(\"large\")\n",
    "\n",
    "else:\n",
    "    print(\"too large\")"
   ]
  },
  {
   "cell_type": "code",
   "execution_count": 11,
   "id": "34d5cb82",
   "metadata": {},
   "outputs": [
    {
     "name": "stdout",
     "output_type": "stream",
     "text": [
      "Inside if\n"
     ]
    }
   ],
   "source": [
    "x = 15\n",
    "if x <= 15:\n",
    "    print(\"Inside if\")\n",
    "else:\n",
    "    print(\"Inside else\")"
   ]
  },
  {
   "cell_type": "code",
   "execution_count": 12,
   "id": "a733b612",
   "metadata": {},
   "outputs": [
    {
     "name": "stdout",
     "output_type": "stream",
     "text": [
      "Hello\n",
      "Hi\n"
     ]
    }
   ],
   "source": [
    "x = 5\n",
    "if x < 6:\n",
    "    print(\"Hello\")\n",
    "if x == 5:\n",
    "    print(\"Hi\")\n",
    "else:\n",
    "    print(\"Hey\")"
   ]
  },
  {
   "cell_type": "code",
   "execution_count": 16,
   "id": "98171150",
   "metadata": {},
   "outputs": [
    {
     "name": "stdout",
     "output_type": "stream",
     "text": [
      "2\n",
      "2\n",
      "failed\n"
     ]
    }
   ],
   "source": [
    "a=int(input())\n",
    "b=int(input())\n",
    "\n",
    "if a>10 and b>10:\n",
    "    print(a>10 and b>10)\n",
    "    \n",
    "else:\n",
    "    print(\"failed\")"
   ]
  },
  {
   "cell_type": "code",
   "execution_count": 20,
   "id": "dbccec71",
   "metadata": {},
   "outputs": [
    {
     "name": "stdout",
     "output_type": "stream",
     "text": [
      "1\n",
      "2\n",
      "2\n",
      "b is largest 2\n"
     ]
    }
   ],
   "source": [
    "a=int(input())\n",
    "b=int(input())\n",
    "c=int(input())\n",
    "\n",
    "if a>=b and a>=c:\n",
    "     print(\"a is largest\",a)\n",
    "    \n",
    "elif b>=a and b>=c:\n",
    "     print(\"b is largest\",b)   \n",
    "elif c>=a and c>=b:\n",
    "     print(\"c is largest\",c)\n",
    "\n"
   ]
  },
  {
   "cell_type": "code",
   "execution_count": 3,
   "id": "d877a124",
   "metadata": {},
   "outputs": [
    {
     "name": "stdout",
     "output_type": "stream",
     "text": [
      "3\n",
      "blue\n"
     ]
    }
   ],
   "source": [
    "a=int(input())\n",
    "\n",
    "if a>10:\n",
    "     print(\"green\")\n",
    "        \n",
    "elif a>=5:\n",
    "     print(\"red\")\n",
    "      \n",
    "elif a>0:\n",
    "     print(\"blue\")\n"
   ]
  },
  {
   "cell_type": "code",
   "execution_count": 8,
   "id": "5b2e269e",
   "metadata": {},
   "outputs": [
    {
     "name": "stdout",
     "output_type": "stream",
     "text": [
      "7\n",
      "Positive\n"
     ]
    }
   ],
   "source": [
    "a=int(input())\n",
    "\n",
    "if a>0:\n",
    "    print(\"Positive\")\n",
    "\n",
    "elif a==0:\n",
    "    print(\"Zero\")\n",
    "\n",
    "else:\n",
    "    print(\"Negative\")"
   ]
  },
  {
   "cell_type": "code",
   "execution_count": 9,
   "id": "4a7e52a4",
   "metadata": {},
   "outputs": [
    {
     "name": "stdout",
     "output_type": "stream",
     "text": [
      "B\n"
     ]
    }
   ],
   "source": [
    " if (10 < 0) and (0 < -10):\n",
    "     print(\"A\")\n",
    "\n",
    " elif (10 > 0) or False:\n",
    "     print(\"B\")\n",
    "\n",
    " else:\n",
    "     print(\"C\")"
   ]
  },
  {
   "cell_type": "code",
   "execution_count": 10,
   "id": "21eb9b64",
   "metadata": {},
   "outputs": [
    {
     "name": "stdout",
     "output_type": "stream",
     "text": [
      "B\n"
     ]
    }
   ],
   "source": [
    "if True or True:\n",
    "    if False and True or False:\n",
    "        print('A')\n",
    "    elif False and False or True and True:\n",
    "       print('B')\n",
    "    else:\n",
    "      print('C')\n",
    "else:\n",
    "     print('D')\n"
   ]
  },
  {
   "cell_type": "code",
   "execution_count": 14,
   "id": "2ce5df7d",
   "metadata": {},
   "outputs": [
    {
     "name": "stdout",
     "output_type": "stream",
     "text": [
      "1\n",
      "2\n",
      "3\n",
      "4\n",
      "5\n",
      "6\n",
      "7\n",
      "8\n",
      "9\n",
      "10\n"
     ]
    }
   ],
   "source": [
    "i=1\n",
    "while i<=10:\n",
    "     print(i)\n",
    "     i=i+1"
   ]
  },
  {
   "cell_type": "code",
   "execution_count": 15,
   "id": "ecd2de99",
   "metadata": {},
   "outputs": [
    {
     "name": "stdout",
     "output_type": "stream",
     "text": [
      "1\n",
      "1\n",
      "1\n",
      "1\n",
      "1\n",
      "1\n",
      "1\n",
      "1\n",
      "1\n",
      "1\n"
     ]
    }
   ],
   "source": [
    "i=1\n",
    "count=1\n",
    "while i<=10:\n",
    "     print(count)\n",
    "     i=i+1"
   ]
  },
  {
   "cell_type": "code",
   "execution_count": 17,
   "id": "8fa75c08",
   "metadata": {},
   "outputs": [
    {
     "name": "stdout",
     "output_type": "stream",
     "text": [
      "2\n",
      "3\n"
     ]
    }
   ],
   "source": [
    "n=int(input())\n",
    "count=1\n",
    "sum=0\n",
    "\n",
    "while count<=n:\n",
    "     sum=sum+count\n",
    "     count=count+1\n",
    "    \n",
    "print(sum)    \n"
   ]
  },
  {
   "cell_type": "code",
   "execution_count": 14,
   "id": "f5be6ea3",
   "metadata": {},
   "outputs": [
    {
     "name": "stdout",
     "output_type": "stream",
     "text": [
      "6\n",
      "12\n"
     ]
    }
   ],
   "source": [
    "N=int(input())\n",
    "count=2\n",
    "sum=0\n",
    "\n",
    "while count<=N and count%2==0:\n",
    "      sum =sum+count\n",
    "      count=count+2\n",
    "    \n",
    "print(sum)"
   ]
  },
  {
   "cell_type": "code",
   "execution_count": 43,
   "id": "6e024076",
   "metadata": {},
   "outputs": [
    {
     "name": "stdout",
     "output_type": "stream",
     "text": [
      "7\n",
      "prime\n"
     ]
    }
   ],
   "source": [
    "n=int(input())\n",
    "d=2\n",
    "flag= False\n",
    "while d<n:\n",
    "    if n%d==0:\n",
    "        flag=True\n",
    "    d=d+1\n",
    "    \n",
    "if flag==True:\n",
    "    print(\"not Prime\")\n",
    "    \n",
    "else:\n",
    "    print(\"prime\")"
   ]
  },
  {
   "cell_type": "code",
   "execution_count": 45,
   "id": "fc5bfdcd",
   "metadata": {},
   "outputs": [
    {
     "name": "stdout",
     "output_type": "stream",
     "text": [
      "0\n",
      "1\n",
      "2\n",
      "3\n",
      "4\n",
      "5\n",
      "6\n",
      "7\n",
      "8\n",
      "9\n"
     ]
    }
   ],
   "source": [
    "i=0\n",
    "while i<10:\n",
    "  print(i)\n",
    "  i=i+1"
   ]
  },
  {
   "cell_type": "code",
   "execution_count": 47,
   "id": "f17085f6",
   "metadata": {},
   "outputs": [
    {
     "name": "stdout",
     "output_type": "stream",
     "text": [
      "0\n",
      "1\n",
      "2\n",
      "3\n",
      "4\n",
      "5\n",
      "6\n",
      "7\n",
      "8\n",
      "9\n"
     ]
    }
   ],
   "source": [
    "i=0\n",
    "while i<10:\n",
    "    print(i)\n",
    "    i = i+1"
   ]
  },
  {
   "cell_type": "code",
   "execution_count": 51,
   "id": "4686d821",
   "metadata": {},
   "outputs": [
    {
     "name": "stdout",
     "output_type": "stream",
     "text": [
      "100\n",
      "2\n",
      "3\n",
      "5\n",
      "7\n",
      "11\n",
      "13\n",
      "17\n",
      "19\n",
      "23\n",
      "29\n",
      "31\n",
      "37\n",
      "41\n",
      "43\n",
      "47\n",
      "53\n",
      "59\n",
      "61\n",
      "67\n",
      "71\n",
      "73\n",
      "79\n",
      "83\n",
      "89\n",
      "97\n"
     ]
    }
   ],
   "source": [
    "n=int(input())\n",
    "k=2\n",
    "while k<=n:\n",
    "    d=2\n",
    "    flag= False\n",
    "    while d<k:\n",
    "        if k%d==0:\n",
    "            flag=True\n",
    "        d=d+1\n",
    "\n",
    "    if not flag:\n",
    "        print(k)\n",
    "    k=k+1    "
   ]
  },
  {
   "cell_type": "code",
   "execution_count": null,
   "id": "da75efc4",
   "metadata": {},
   "outputs": [],
   "source": [
    "E=int(input())\n",
    "S=2\n",
    "while k<=E:\n",
    "     \n",
    "    \n",
    "    while d<S:\n",
    "        \n",
    "        d=d+W\n",
    "\n",
    "    if not flag:\n",
    "        print(k)\n",
    "    k=k+1    "
   ]
  },
  {
   "cell_type": "code",
   "execution_count": 3,
   "id": "349ef94b",
   "metadata": {},
   "outputs": [
    {
     "name": "stdout",
     "output_type": "stream",
     "text": [
      "20\n",
      "119\n",
      "13\n",
      "20   -6\n",
      "33   0\n",
      "46   7\n",
      "59   15\n",
      "72   22\n",
      "85   29\n",
      "98   36\n",
      "111   43\n"
     ]
    }
   ],
   "source": [
    "S=int(input())\n",
    "E=int(input())\n",
    "W=int(input())\n",
    "    \n",
    "while S<=E:\n",
    "         \n",
    "    fah=((5*(S-32))/9);\n",
    "    print(S,\" \",int(fah))\n",
    "    S+=W;\n",
    "        "
   ]
  },
  {
   "cell_type": "code",
   "execution_count": 1,
   "id": "4ba14202",
   "metadata": {},
   "outputs": [
    {
     "name": "stdout",
     "output_type": "stream",
     "text": [
      "3\n",
      "1\n",
      "2\n",
      "2\n"
     ]
    }
   ],
   "source": [
    "n=int(input())\n",
    "\n",
    "if n==1:\n",
    "    a=int(input())\n",
    "    b=int(input())\n",
    "    print(a+b)\n",
    "    \n",
    "elif n==2:\n",
    "    a=int(input())\n",
    "    b=int(input())\n",
    "    print(a-b)\n",
    "    \n",
    "elif n==3:\n",
    "    a=int(input())\n",
    "    b=int(input())\n",
    "    print(a*b)\n",
    "    \n",
    "elif n==4:\n",
    "    a=int(input())\n",
    "    b=int(input())\n",
    "    print(a//b)\n",
    "    \n",
    "elif n==5:\n",
    "    a=int(input())\n",
    "    b=int(input())\n",
    "    print(a%b)\n",
    "    \n",
    "elif n==6:\n",
    "     exit()\n",
    "else:\n",
    "    print(\"Invalid Operation\")"
   ]
  },
  {
   "cell_type": "code",
   "execution_count": 5,
   "id": "03a855e8",
   "metadata": {},
   "outputs": [
    {
     "name": "stdout",
     "output_type": "stream",
     "text": [
      "4\n",
      "4\n",
      "2\n",
      "2\n"
     ]
    }
   ],
   "source": [
    "i = int(input())\n",
    "\n",
    "if(i == 1):\n",
    "    a = int(input())\n",
    "    b = int(input())\n",
    "    c = a+b\n",
    "    print(c)\n",
    "\n",
    "elif(i == 2):\n",
    "    a = int(input())\n",
    "    b = int(input())\n",
    "    c = a-b\n",
    "    print(c)\n",
    "\n",
    "elif(i == 3):\n",
    "    a = int(input())\n",
    "    b = int(input())\n",
    "    c = a*b\n",
    "    print(c)\n",
    "\n",
    "elif(i == 4):\n",
    "    a = int(input())\n",
    "    b = int(input())\n",
    "    c = a//b\n",
    "    print(int(c))\n",
    "\n",
    "elif(i == 5):\n",
    "    a = int(input())\n",
    "    b = int(input())\n",
    "    c = a%b\n",
    "    print(int(c))\n",
    "\n",
    "elif(i == 6):\n",
    "    exit()\n",
    "else:\n",
    "    print(\"Invalid Operation\")"
   ]
  },
  {
   "cell_type": "code",
   "execution_count": 1,
   "id": "bc66c834",
   "metadata": {},
   "outputs": [
    {
     "name": "stdout",
     "output_type": "stream",
     "text": [
      "1234\n"
     ]
    }
   ],
   "source": [
    "a=int(input())\n",
    "\n",
    "for i in range(-a,-1,-1):\n",
    "    print(a[i])"
   ]
  },
  {
   "cell_type": "code",
   "execution_count": 17,
   "id": "a1c9314c",
   "metadata": {},
   "outputs": [
    {
     "name": "stdout",
     "output_type": "stream",
     "text": [
      "1980\n",
      "891\n"
     ]
    }
   ],
   "source": [
    "n=int(input())\n",
    "\n",
    "while (n % 10 == 0):\n",
    "  n = n // 10\n",
    "  reverseNum = 0\n",
    "  reminder = 0\n",
    "\n",
    "reverseNum = 0\n",
    "while(n > 0):\n",
    "   \n",
    "   reminder = n % 10\n",
    "   reverseNum = reverseNum * 10 + reminder\n",
    "   n = n // 10\n",
    "\n",
    "\n"
   ]
  },
  {
   "cell_type": "code",
   "execution_count": 21,
   "id": "6166ef48",
   "metadata": {},
   "outputs": [
    {
     "name": "stdout",
     "output_type": "stream",
     "text": [
      "12345\n"
     ]
    },
    {
     "ename": "TypeError",
     "evalue": "'int' object is not iterable",
     "output_type": "error",
     "traceback": [
      "\u001b[1;31m---------------------------------------------------------------------------\u001b[0m",
      "\u001b[1;31mTypeError\u001b[0m                                 Traceback (most recent call last)",
      "\u001b[1;32m~\\AppData\\Local\\Temp\\ipykernel_13248\\4128094464.py\u001b[0m in \u001b[0;36m<module>\u001b[1;34m\u001b[0m\n\u001b[0;32m      1\u001b[0m \u001b[0mN\u001b[0m\u001b[1;33m=\u001b[0m\u001b[0mint\u001b[0m\u001b[1;33m(\u001b[0m\u001b[0minput\u001b[0m\u001b[1;33m(\u001b[0m\u001b[1;33m)\u001b[0m\u001b[1;33m)\u001b[0m\u001b[1;33m\u001b[0m\u001b[1;33m\u001b[0m\u001b[0m\n\u001b[0;32m      2\u001b[0m \u001b[1;33m\u001b[0m\u001b[0m\n\u001b[1;32m----> 3\u001b[1;33m \u001b[1;32mfor\u001b[0m \u001b[0mi\u001b[0m \u001b[1;32min\u001b[0m \u001b[0mN\u001b[0m\u001b[1;33m:\u001b[0m\u001b[1;33m\u001b[0m\u001b[1;33m\u001b[0m\u001b[0m\n\u001b[0m\u001b[0;32m      4\u001b[0m      \u001b[1;32mif\u001b[0m \u001b[0mN\u001b[0m\u001b[1;33m[\u001b[0m\u001b[0mi\u001b[0m\u001b[1;33m]\u001b[0m\u001b[1;33m%\u001b[0m\u001b[1;36m2\u001b[0m\u001b[1;33m==\u001b[0m\u001b[1;36m0\u001b[0m\u001b[1;33m:\u001b[0m\u001b[1;33m\u001b[0m\u001b[1;33m\u001b[0m\u001b[0m\n\u001b[0;32m      5\u001b[0m       \u001b[0mSum_of_Even_Digits\u001b[0m\u001b[1;33m=\u001b[0m\u001b[0mSum_of_Even_Digits\u001b[0m\u001b[1;33m+\u001b[0m\u001b[0mi\u001b[0m\u001b[1;33m\u001b[0m\u001b[1;33m\u001b[0m\u001b[0m\n",
      "\u001b[1;31mTypeError\u001b[0m: 'int' object is not iterable"
     ]
    }
   ],
   "source": [
    "N=int(input())\n",
    "\n",
    "for i in N:\n",
    "     if N[i]%2==0:\n",
    "      Sum_of_Even_Digits=Sum_of_Even_Digits+i\n",
    "     else:\n",
    "      Sum_of_Odd_Digits=Sum_of_Odd_Digits+i\n",
    "print(Sum_of_Even_Digits,\" \",Sum_of_Odd_Digits)        "
   ]
  },
  {
   "cell_type": "code",
   "execution_count": 28,
   "id": "e2471979",
   "metadata": {},
   "outputs": [
    {
     "name": "stdout",
     "output_type": "stream",
     "text": [
      "1234\n",
      "6  4\n"
     ]
    }
   ],
   "source": [
    "num=int(input())\n",
    "Sum_of_Odd_Digits=0\n",
    "Sum_of_Even_Digits=0\n",
    "while(num>0):\n",
    "\n",
    "  digit=num%10\n",
    "  num=num//10\n",
    "  if(digit%2!=0):\n",
    "      Sum_of_Odd_Digits=Sum_of_Odd_Digits+digit\n",
    "  else:\n",
    "      Sum_of_Even_Digits=Sum_of_Even_Digits+digit\n",
    "\n",
    "print(Sum_of_Even_Digits,\"\",Sum_of_Odd_Digits)"
   ]
  },
  {
   "cell_type": "code",
   "execution_count": null,
   "id": "1935b024",
   "metadata": {},
   "outputs": [
    {
     "name": "stdout",
     "output_type": "stream",
     "text": [
      "6\n"
     ]
    }
   ],
   "source": [
    "def Fibonacci(N):\n",
    "    if N<= 2:\n",
    "        return Fibonacci(N-1)\n",
    "    else:\n",
    "        return Fibonacci(N-1)+Fibonacci(N-2)\n",
    "N=int(input()) \n",
    "print(Fibonacci(N))"
   ]
  },
  {
   "cell_type": "code",
   "execution_count": 17,
   "id": "bdf63af2",
   "metadata": {},
   "outputs": [
    {
     "ename": "ImportError",
     "evalue": "cannot import name 'clock' from 'time' (unknown location)",
     "output_type": "error",
     "traceback": [
      "\u001b[1;31m---------------------------------------------------------------------------\u001b[0m",
      "\u001b[1;31mImportError\u001b[0m                               Traceback (most recent call last)",
      "\u001b[1;32m~\\AppData\\Local\\Temp\\ipykernel_2616\\1487579187.py\u001b[0m in \u001b[0;36m<module>\u001b[1;34m\u001b[0m\n\u001b[0;32m      1\u001b[0m \u001b[1;32mimport\u001b[0m \u001b[0mfunctools\u001b[0m\u001b[1;33m\u001b[0m\u001b[1;33m\u001b[0m\u001b[0m\n\u001b[1;32m----> 2\u001b[1;33m \u001b[1;32mfrom\u001b[0m \u001b[0mtime\u001b[0m \u001b[1;32mimport\u001b[0m \u001b[0mclock\u001b[0m\u001b[1;33m\u001b[0m\u001b[1;33m\u001b[0m\u001b[0m\n\u001b[0m\u001b[0;32m      3\u001b[0m \u001b[1;31m#import sys\u001b[0m\u001b[1;33m\u001b[0m\u001b[1;33m\u001b[0m\u001b[0m\n\u001b[0;32m      4\u001b[0m \u001b[1;31m#sys.setrecursionlimit()\u001b[0m\u001b[1;33m\u001b[0m\u001b[1;33m\u001b[0m\u001b[0m\n\u001b[0;32m      5\u001b[0m \u001b[1;33m\u001b[0m\u001b[0m\n",
      "\u001b[1;31mImportError\u001b[0m: cannot import name 'clock' from 'time' (unknown location)"
     ]
    }
   ],
   "source": [
    "import functools\n",
    "from time import clock\n",
    "#import sys\n",
    "#sys.setrecursionlimit()\n",
    "\n",
    "\n",
    "@functools.lru_cache(None)\n",
    "def Fibonacci_Series(n):\n",
    "\n",
    "    if n == 1:\n",
    "        return (1)\n",
    "    elif n == 2:\n",
    "        return (1)\n",
    "    else:\n",
    "        return (Fibonacci_Series(n-1) + Fibonacci_Series(n-2))\n",
    "\n",
    "N = int(input())\n",
    "n = N\n",
    "print(Fibonacci_Series(n))\n"
   ]
  },
  {
   "cell_type": "code",
   "execution_count": 16,
   "id": "85553bc5",
   "metadata": {},
   "outputs": [
    {
     "name": "stdout",
     "output_type": "stream",
     "text": [
      "6\n",
      "5\n"
     ]
    }
   ],
   "source": [
    "def solve(n):\n",
    "   if n <= 2:\n",
    "      return n - 1\n",
    "   else:\n",
    "      return solve(n - 1) + solve(n - 2)\n",
    "\n",
    "N=int(input())    \n",
    "n=N\n",
    "print(solve(n))"
   ]
  },
  {
   "cell_type": "code",
   "execution_count": null,
   "id": "65d4f912",
   "metadata": {},
   "outputs": [],
   "source": []
  }
 ],
 "metadata": {
  "kernelspec": {
   "display_name": "Python 3 (ipykernel)",
   "language": "python",
   "name": "python3"
  },
  "language_info": {
   "codemirror_mode": {
    "name": "ipython",
    "version": 3
   },
   "file_extension": ".py",
   "mimetype": "text/x-python",
   "name": "python",
   "nbconvert_exporter": "python",
   "pygments_lexer": "ipython3",
   "version": "3.9.13"
  }
 },
 "nbformat": 4,
 "nbformat_minor": 5
}

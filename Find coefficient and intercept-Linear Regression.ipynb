{
 "cells": [
  {
   "cell_type": "markdown",
   "id": "18113dbe",
   "metadata": {},
   "source": [
    "# Find coefficient and intercept\n",
    "Send Feedback\n",
    "For the given dataset \"FuelEconomy.csv\"\n",
    "Create a Linear Regressor and fit the dataset in this. After that, print the coefficient and intercept.\n",
    "Note:\n",
    " 1. Inside the function \"train_test_split\", use the \"random_state = 42\".\n",
    " 2. Split the dataset in the ratio of 70:30 into the training and testing datasets.\n",
    "To know more about randomstate please read the document given regarding randomstate.\n",
    "Output\n",
    "Print the coefficient and intercept in separate lines rounded off to 2 decimal places."
   ]
  },
  {
   "cell_type": "code",
   "execution_count": null,
   "id": "8f4a327c",
   "metadata": {},
   "outputs": [],
   "source": [
    "import numpy as np\n",
    "from sklearn.model_selection import train_test_split\n",
    "from sklearn.linear_model import LinearRegression\n",
    "\n",
    "fuelEconomy = np.loadtxt('FuelEconomy.csv', delimiter=',')\n",
    "\n",
    "X = fuelEconomy[:, 0].reshape(-1, 1)\n",
    "y = fuelEconomy[:, 1]\n",
    "\n",
    "X_train, X_test, y_train, y_test = train_test_split(X, y,test_size=0.3, random_state=42)\n",
    "\n",
    "regressor = LinearRegression()\n",
    "regressor.fit(X_train, y_train)\n",
    "\n",
    "print(round(regressor.coef_[0], 2))\n",
    "print(round(regressor.intercept_, 2))"
   ]
  }
 ],
 "metadata": {
  "kernelspec": {
   "display_name": "Python 3 (ipykernel)",
   "language": "python",
   "name": "python3"
  },
  "language_info": {
   "codemirror_mode": {
    "name": "ipython",
    "version": 3
   },
   "file_extension": ".py",
   "mimetype": "text/x-python",
   "name": "python",
   "nbconvert_exporter": "python",
   "pygments_lexer": "ipython3",
   "version": "3.9.13"
  }
 },
 "nbformat": 4,
 "nbformat_minor": 5
}

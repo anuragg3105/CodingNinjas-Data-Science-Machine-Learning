{
 "cells": [
  {
   "cell_type": "code",
   "execution_count": 9,
   "id": "9395a643",
   "metadata": {},
   "outputs": [
    {
     "name": "stdout",
     "output_type": "stream",
     "text": [
      "3\n",
      "  1\n",
      " 12\n",
      "123\n"
     ]
    }
   ],
   "source": [
    "N=int(input())\n",
    "i=1\n",
    "while i<=N:\n",
    "    spaces=1  \n",
    "    while spaces<=N-i:\n",
    "       print(' ',end='')\n",
    "       spaces=spaces+1\n",
    "    j=1  \n",
    "    while j<=i:\n",
    "     print(j,end='')\n",
    "     j=j+1\n",
    "    print()\n",
    "    i=i+1\n",
    "    "
   ]
  },
  {
   "cell_type": "code",
   "execution_count": 10,
   "id": "2707178b",
   "metadata": {},
   "outputs": [
    {
     "name": "stdout",
     "output_type": "stream",
     "text": [
      "4\n",
      "   *\n",
      "  **\n",
      " ***\n",
      "****\n"
     ]
    }
   ],
   "source": [
    "N=int(input())\n",
    "i=1\n",
    "while i<=N:\n",
    "    spaces=1  \n",
    "    while spaces<=N-i:\n",
    "       print(' ',end='')\n",
    "       spaces=spaces+1\n",
    "    j=1  \n",
    "    while j<=i:\n",
    "     print(\"*\",end='')\n",
    "     j=j+1\n",
    "    print()\n",
    "    i=i+1"
   ]
  },
  {
   "cell_type": "code",
   "execution_count": 14,
   "id": "65e1c7f5",
   "metadata": {},
   "outputs": [
    {
     "name": "stdout",
     "output_type": "stream",
     "text": [
      "5\n",
      "    *\n",
      "   ***\n",
      "  *****\n",
      " *******\n",
      "*********\n"
     ]
    }
   ],
   "source": [
    "N=int(input())\n",
    "i=1\n",
    "while i<=N:\n",
    "    spaces=1  \n",
    "    while spaces<=N-i:\n",
    "       print(' ',end='')\n",
    "       spaces=spaces+1\n",
    "    j=1  \n",
    "    while j<=2*i-1:\n",
    "     print(\"*\",end='')\n",
    "     j=j+1\n",
    "    print()\n",
    "    i=i+1"
   ]
  },
  {
   "cell_type": "code",
   "execution_count": 16,
   "id": "70943eea",
   "metadata": {},
   "outputs": [
    {
     "name": "stdout",
     "output_type": "stream",
     "text": [
      "4\n",
      " * **\n",
      "*** **\n"
     ]
    }
   ],
   "source": [
    "N=int(input())\n",
    "i=1\n",
    "while i<=(N+1)/2:\n",
    "    spaces=1  \n",
    "    while spaces<=(N+1)/2-i:\n",
    "       print(' ',end='')\n",
    "       spaces=spaces+1\n",
    "    j=1  \n",
    "    while j<=2*i-1:\n",
    "     print(\"*\",end='')\n",
    "     j=j+1\n",
    "        \n",
    "    spaces=1\n",
    "    while spaces<=(N-1)/2:\n",
    "       print(' ',end='')\n",
    "       spaces=spaces+1\n",
    "    j=(N+1)/2  \n",
    "    while j>=1:\n",
    "     print(\"*\",end='')\n",
    "     j=j-1    \n",
    "    print()\n",
    "    i=i+1"
   ]
  },
  {
   "cell_type": "code",
   "execution_count": 2,
   "id": "0a2bfb8b",
   "metadata": {},
   "outputs": [
    {
     "name": "stdout",
     "output_type": "stream",
     "text": [
      "4\n",
      "   1\n",
      "  123\n",
      " 12345\n",
      "1234567\n"
     ]
    }
   ],
   "source": [
    "N=int(input())\n",
    "i=1\n",
    "while i<=N:\n",
    "    spaces=1  \n",
    "    while spaces<=N-i:\n",
    "       print(' ',end='')\n",
    "       spaces=spaces+1\n",
    "    j=1\n",
    "    k=1\n",
    "    while j<=2*i-1:\n",
    "     print(k,end='')\n",
    "     k=k+1\n",
    "     j=j+1   \n",
    "    print()\n",
    "    i=i+1"
   ]
  },
  {
   "cell_type": "code",
   "execution_count": 1,
   "id": "b1a265cc",
   "metadata": {},
   "outputs": [
    {
     "name": "stdout",
     "output_type": "stream",
     "text": [
      "4\n",
      "   1\n",
      "  234\n",
      " 56789\n",
      "10111213141516\n"
     ]
    }
   ],
   "source": [
    "N=int(input())\n",
    "i=1\n",
    "k=1\n",
    "while i<=N:\n",
    "    spaces=1  \n",
    "    while spaces<=N-i:\n",
    "       print(' ',end='')\n",
    "       spaces=spaces+1\n",
    "    j=1   \n",
    "    while j<=2*i-1:\n",
    "     print(k,end='')\n",
    "     k=k+1\n",
    "     j=j+1   \n",
    "    print()\n",
    "    i=i+1"
   ]
  },
  {
   "cell_type": "code",
   "execution_count": 2,
   "id": "a90c7b32",
   "metadata": {},
   "outputs": [
    {
     "name": "stdout",
     "output_type": "stream",
     "text": [
      "4\n",
      "   1\n",
      "  12\n",
      " 123\n",
      "1234\n"
     ]
    }
   ],
   "source": [
    "N=int(input())\n",
    "i=1\n",
    "\n",
    "while i<=N:\n",
    "    spaces=1  \n",
    "    while spaces<=N-i:\n",
    "       print(' ',end='')\n",
    "       spaces=spaces+1\n",
    "    j=1\n",
    "    p=1\n",
    "    while j<=i:\n",
    "        print(p,end='')\n",
    "        j=j+1\n",
    "        p=p+1\n",
    "    print()\n",
    "    i=i+1"
   ]
  },
  {
   "cell_type": "code",
   "execution_count": 9,
   "id": "63437d31",
   "metadata": {},
   "outputs": [
    {
     "name": "stdout",
     "output_type": "stream",
     "text": [
      "4\n",
      "   1\n",
      "  121\n",
      " 12321\n",
      "1234321\n"
     ]
    }
   ],
   "source": [
    "N=int(input())\n",
    "i=1\n",
    "\n",
    "while i<=N:\n",
    "    spaces=1  \n",
    "    while spaces<=N-i:\n",
    "       print(' ',end='')\n",
    "       spaces=spaces+1\n",
    "    #increase sequence\n",
    "    j=1\n",
    "    p=1\n",
    "    while j<=i:\n",
    "        print(p,end='')\n",
    "        j=j+1\n",
    "        p=p+1\n",
    "   #decrease sequence     \n",
    "    k=i-1    \n",
    "    while k>=1:\n",
    "        print(k,end='')\n",
    "        k=k-1   \n",
    "    print()\n",
    "    i=i+1"
   ]
  },
  {
   "cell_type": "code",
   "execution_count": 22,
   "id": "c92cd113",
   "metadata": {},
   "outputs": [
    {
     "name": "stdout",
     "output_type": "stream",
     "text": [
      "6\n",
      "     1\n",
      "    232\n",
      "   34543\n",
      "  4567654\n",
      " 567898765\n",
      "67891011109876\n"
     ]
    }
   ],
   "source": [
    "N=int(input())\n",
    "i=1\n",
    "\n",
    "while i<=N:\n",
    "    spaces=1  \n",
    "    while spaces<=N-i:\n",
    "       print(' ',end='')\n",
    "       spaces=spaces+1\n",
    "    #increase sequence\n",
    "    j=1\n",
    "    p=i\n",
    "\n",
    "    while j<=i:\n",
    "        print(p,end='')\n",
    "        j=j+1\n",
    "        p=p+1\n",
    "  # decrease sequence     \n",
    "    k=i-1\n",
    "    l=p-2\n",
    "    while k>=1 :\n",
    "        print(l,end='')\n",
    "        k=k-1\n",
    "        l=l-1\n",
    "    print()\n",
    "    i=i+1"
   ]
  },
  {
   "cell_type": "code",
   "execution_count": null,
   "id": "287dbb4f",
   "metadata": {},
   "outputs": [],
   "source": [
    "N=int(input())\n",
    "i=1\n",
    "while i<=(N+1)/2:\n",
    "    spaces=1  \n",
    "    while spaces<=N-i:\n",
    "       print(' ',end='')\n",
    "       spaces=spaces+1\n",
    "        \n",
    "    j=1  \n",
    "    while j<=2*i-1:\n",
    "     print(\"*\",end='')\n",
    "     j=j+1\n",
    "print()\n",
    "i=i+1\n",
    "             \n",
    "p=1\n",
    "while p<=N and p>(N+1)/2:\n",
    "    \n",
    "    sp=1\n",
    "    while sp<=N:\n",
    "        print('4',end='')\n",
    "        sp=sp+1\n",
    "        \n",
    "print()\n",
    "p=p+1"
   ]
  },
  {
   "cell_type": "code",
   "execution_count": 11,
   "id": "2e0be4ab",
   "metadata": {},
   "outputs": [
    {
     "name": "stdout",
     "output_type": "stream",
     "text": [
      "5\n",
      "  *\n",
      " ***\n",
      "*****\n",
      "  ***\n",
      "  *\n"
     ]
    }
   ],
   "source": [
    "N= int(input())\n",
    "P=int((N+1)/2)\n",
    "k = 0\n",
    "for i in range(1, P + 1):\n",
    "    for j in range(1, P - i + 1):\n",
    "        print(end = ' ')\n",
    "    while k != 2 * i - 1:\n",
    "        print('*', end = '')\n",
    "        k = k + 1\n",
    "    k = 0\n",
    "    print()\n",
    "\n",
    "k = 2\n",
    "l = 1\n",
    "for i in range(1, P):\n",
    "    for j in range(1, P):\n",
    "        print(end = ' ')\n",
    "    k = k + 1\n",
    "    while l <= (2 * (P - i) - 1):\n",
    "        print('*', end ='')\n",
    "        l = l + 1\n",
    "    l = 1\n",
    "    print()"
   ]
  },
  {
   "cell_type": "code",
   "execution_count": 15,
   "id": "4a131887",
   "metadata": {},
   "outputs": [
    {
     "name": "stdout",
     "output_type": "stream",
     "text": [
      "Enter the Number: 9\n",
      "  *\n",
      " ***\n",
      "*****\n",
      " ***\n",
      "  *\n"
     ]
    }
   ],
   "source": [
    "N = int(input(\"Enter the Number: \"))\n",
    "P=int((num+1)/2)\n",
    "for i in range(0, P):\n",
    "    for j in range(0, P-i-1):\n",
    "        print(\" \",end=\"\")\n",
    "    for j in range(0, i*2+1):\n",
    "        print(\"*\", end=\"\")\n",
    "    print()\n",
    "\n",
    "for i in range(1, P):\n",
    "    for j in range(0, i):\n",
    "        print(\" \",end=\"\")\n",
    "    for j in range(0, (P-i)*2-1):\n",
    "        print(\"*\", end=\"\")\n",
    "    print()"
   ]
  },
  {
   "cell_type": "code",
   "execution_count": 24,
   "id": "51038fea",
   "metadata": {},
   "outputs": [
    {
     "name": "stdout",
     "output_type": "stream",
     "text": [
      "Enter the number of rows: 9\n",
      "        * \n",
      "       * * \n",
      "      * * * \n",
      "     * * * * \n"
     ]
    }
   ],
   "source": [
    "def pattern(n):\n",
    "   # printing pyramid\n",
    "   i = 1\n",
    "   while i<(n+1)/2:\n",
    "      # print space and star\n",
    "      print(\" \"*(n-i) + \"* \" * i)\n",
    "      i=i+1 \n",
    "\n",
    "   # printing downward pyramid\n",
    "   i = (n+1)/2\n",
    "   while i>n:\n",
    "      # print space and star\n",
    "      print(\" \"*(n-i) + \"* \" * i)\n",
    "      i=i-1\n",
    " \n",
    "# input from user\n",
    "n = int(input('Enter the number of rows: '))\n",
    "\n",
    "# call function\n",
    "pattern(n)"
   ]
  },
  {
   "cell_type": "code",
   "execution_count": 26,
   "id": "756cd315",
   "metadata": {},
   "outputs": [
    {
     "name": "stdout",
     "output_type": "stream",
     "text": [
      "Enter Diamond Pattern Rows = 5\n",
      "Diamond Star Pattern\n"
     ]
    },
    {
     "ename": "TypeError",
     "evalue": "'float' object cannot be interpreted as an integer",
     "output_type": "error",
     "traceback": [
      "\u001b[1;31m---------------------------------------------------------------------------\u001b[0m",
      "\u001b[1;31mTypeError\u001b[0m                                 Traceback (most recent call last)",
      "\u001b[1;32m~\\AppData\\Local\\Temp\\ipykernel_4068\\1852862856.py\u001b[0m in \u001b[0;36m<module>\u001b[1;34m\u001b[0m\n\u001b[0;32m      3\u001b[0m \u001b[0mprint\u001b[0m\u001b[1;33m(\u001b[0m\u001b[1;34m\"Diamond Star Pattern\"\u001b[0m\u001b[1;33m)\u001b[0m\u001b[1;33m\u001b[0m\u001b[1;33m\u001b[0m\u001b[0m\n\u001b[0;32m      4\u001b[0m \u001b[0mk\u001b[0m \u001b[1;33m=\u001b[0m \u001b[1;36m0\u001b[0m\u001b[1;33m\u001b[0m\u001b[1;33m\u001b[0m\u001b[0m\n\u001b[1;32m----> 5\u001b[1;33m \u001b[1;32mfor\u001b[0m \u001b[0mi\u001b[0m \u001b[1;32min\u001b[0m \u001b[0mrange\u001b[0m\u001b[1;33m(\u001b[0m\u001b[1;36m1\u001b[0m\u001b[1;33m,\u001b[0m \u001b[0mp\u001b[0m \u001b[1;33m+\u001b[0m \u001b[1;36m1\u001b[0m\u001b[1;33m)\u001b[0m\u001b[1;33m:\u001b[0m\u001b[1;33m\u001b[0m\u001b[1;33m\u001b[0m\u001b[0m\n\u001b[0m\u001b[0;32m      6\u001b[0m     \u001b[1;32mfor\u001b[0m \u001b[0mj\u001b[0m \u001b[1;32min\u001b[0m \u001b[0mrange\u001b[0m\u001b[1;33m(\u001b[0m\u001b[1;36m1\u001b[0m\u001b[1;33m,\u001b[0m \u001b[0mp\u001b[0m \u001b[1;33m-\u001b[0m \u001b[0mi\u001b[0m \u001b[1;33m+\u001b[0m \u001b[1;36m1\u001b[0m\u001b[1;33m)\u001b[0m\u001b[1;33m:\u001b[0m\u001b[1;33m\u001b[0m\u001b[1;33m\u001b[0m\u001b[0m\n\u001b[0;32m      7\u001b[0m         \u001b[0mprint\u001b[0m\u001b[1;33m(\u001b[0m\u001b[0mend\u001b[0m \u001b[1;33m=\u001b[0m \u001b[1;34m' '\u001b[0m\u001b[1;33m)\u001b[0m\u001b[1;33m\u001b[0m\u001b[1;33m\u001b[0m\u001b[0m\n",
      "\u001b[1;31mTypeError\u001b[0m: 'float' object cannot be interpreted as an integer"
     ]
    }
   ],
   "source": [
    "rows = int(input(\"Enter Diamond Pattern Rows = \"))\n",
    "p=(rows+1)/2\n",
    "print(\"Diamond Star Pattern\") \n",
    "k = 0\n",
    "for i in range(1, p + 1):\n",
    "    for j in range(1, p - i + 1):\n",
    "        print(end = ' ')\n",
    "    while k != 2 * i - 1:\n",
    "        print('*', end = '')\n",
    "        k = k + 1\n",
    "    k = 0\n",
    "    print()\n",
    "\n",
    "k = 2\n",
    "l = 1\n",
    "for i in range(1, ):\n",
    "    for j in range(1, k):\n",
    "        print(end = ' ')\n",
    "    k = k + 1\n",
    "    while l <= (2 * (rows - i) - 1):\n",
    "        print('*', end = '')\n",
    "        l = l + 1\n",
    "    l = 1\n",
    "    print()"
   ]
  },
  {
   "cell_type": "code",
   "execution_count": 30,
   "id": "f6ffdd1f",
   "metadata": {},
   "outputs": [
    {
     "name": "stdout",
     "output_type": "stream",
     "text": [
      "5\n",
      "  *\n",
      " ***\n",
      "*****\n",
      " ***\n",
      "  *\n"
     ]
    }
   ],
   "source": [
    "N = int(input())\n",
    "if N % 2 == 0:\n",
    "  halfDiamRow = int(N/2)\n",
    "else:\n",
    "  halfDiamRow = int(N/2)+1\n",
    "space = halfDiamRow-1\n",
    "for i in range(1, halfDiamRow+1):\n",
    "  for j in range(1, space+1):\n",
    "    print(end=\" \")\n",
    "  space = space-1\n",
    "  for j in range(2*i-1):\n",
    "    print(end=\"*\")\n",
    "  print()\n",
    "space = 1\n",
    "for i in range(1, halfDiamRow):\n",
    "  for j in range(1, space+1):\n",
    "    print(end=\" \")\n",
    "  space = space+1\n",
    "  for j in range(1, 2*(halfDiamRow-i)):\n",
    "    print(end=\"*\")\n",
    "  print()\n"
   ]
  },
  {
   "cell_type": "code",
   "execution_count": null,
   "id": "a708a8a8",
   "metadata": {},
   "outputs": [],
   "source": []
  }
 ],
 "metadata": {
  "kernelspec": {
   "display_name": "Python 3 (ipykernel)",
   "language": "python",
   "name": "python3"
  },
  "language_info": {
   "codemirror_mode": {
    "name": "ipython",
    "version": 3
   },
   "file_extension": ".py",
   "mimetype": "text/x-python",
   "name": "python",
   "nbconvert_exporter": "python",
   "pygments_lexer": "ipython3",
   "version": "3.9.13"
  }
 },
 "nbformat": 4,
 "nbformat_minor": 5
}

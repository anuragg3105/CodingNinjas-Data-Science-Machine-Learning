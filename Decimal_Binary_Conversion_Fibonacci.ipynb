{
 "cells": [
  {
   "cell_type": "code",
   "execution_count": 5,
   "id": "2f2eb05f",
   "metadata": {},
   "outputs": [
    {
     "name": "stdout",
     "output_type": "stream",
     "text": [
      "15\n",
      "1111\n"
     ]
    }
   ],
   "source": [
    "#decimal to binary\n",
    "\n",
    "def convertToBinary(N):\n",
    "   if N > 1:\n",
    "       convertToBinary(N//2)\n",
    "   print(N % 2,end = '')\n",
    "\n",
    "# decimal number\n",
    "N = int(input())\n",
    "convertToBinary(N)\n",
    "print()\n",
    " \n"
   ]
  },
  {
   "cell_type": "code",
   "execution_count": 4,
   "id": "9e014c47",
   "metadata": {},
   "outputs": [
    {
     "name": "stdout",
     "output_type": "stream",
     "text": [
      "1111\n",
      "15\n"
     ]
    }
   ],
   "source": [
    "#binary to decimal\n",
    "def binaryTodecimal(n):\n",
    "    decimal = 0\n",
    "    power = 1\n",
    "    while n>0:\n",
    "        rem = n%10\n",
    "        n = n//10\n",
    "        decimal += rem*power\n",
    "        power = power*2\n",
    "        \n",
    "    return decimal\n",
    "\n",
    "N = int(input())\n",
    "print(binaryTodecimal(N))"
   ]
  },
  {
   "cell_type": "code",
   "execution_count": 3,
   "id": "b9c8e63a",
   "metadata": {},
   "outputs": [
    {
     "name": "stdout",
     "output_type": "stream",
     "text": [
      "5\n",
      "0\n",
      "1\n",
      "2\n",
      "3\n",
      "5\n"
     ]
    }
   ],
   "source": [
    "# Program to display the Fibonacci sequence up to n-th term\n",
    "\n",
    "N= int(input())\n",
    "\n",
    "# first two terms\n",
    "n1, n2 = 0, 1\n",
    "count = 0\n",
    "nth=0\n",
    "while count < N:\n",
    "       print(nth)\n",
    "       nth = n1 + n2\n",
    "       # update values\n",
    "       n1 = n2\n",
    "       n2 = nth\n",
    "       count += 1\n"
   ]
  },
  {
   "cell_type": "code",
   "execution_count": 2,
   "id": "707e79e6",
   "metadata": {},
   "outputs": [
    {
     "name": "stdout",
     "output_type": "stream",
     "text": [
      "5\n",
      "2\n"
     ]
    }
   ],
   "source": [
    "#even fibonacci\n",
    "cache = {}\n",
    "def fiba(n):\n",
    "     cache[n] = cache.get(n, 0) or (n <= 1 and 1 or fiba(n-1) + fiba(n-2))\n",
    "     return cache[n]\n",
    "n = 0\n",
    "x = 0\n",
    "N=int(input())\n",
    "while fiba(x) <= N:\n",
    "       if not fiba(x) % 2: n = n + fiba(x)\n",
    "       x=x+1\n",
    "print(n)"
   ]
  },
  {
   "cell_type": "code",
   "execution_count": 1,
   "id": "29e25e57",
   "metadata": {},
   "outputs": [
    {
     "name": "stdout",
     "output_type": "stream",
     "text": [
      "20\n",
      "4\n"
     ]
    }
   ],
   "source": [
    "#trailing 0\n",
    "def findTrailingZeros(n):\n",
    " \n",
    "    # Initialize result\n",
    "    count = 0\n",
    " \n",
    "    # Keep dividing n by\n",
    "    # powers of 5 and\n",
    "    # update Count\n",
    "    i = 5\n",
    "    while (n / i >= 1):\n",
    "        count += int(n / i)\n",
    "        i *= 5\n",
    " \n",
    "    return int(count)\n",
    " \n",
    " \n",
    "# Driver program\n",
    "N=int(input())\n",
    "print(findTrailingZeros(N))"
   ]
  },
  {
   "cell_type": "code",
   "execution_count": null,
   "id": "d3d93bf6",
   "metadata": {},
   "outputs": [],
   "source": []
  }
 ],
 "metadata": {
  "kernelspec": {
   "display_name": "Python 3 (ipykernel)",
   "language": "python",
   "name": "python3"
  },
  "language_info": {
   "codemirror_mode": {
    "name": "ipython",
    "version": 3
   },
   "file_extension": ".py",
   "mimetype": "text/x-python",
   "name": "python",
   "nbconvert_exporter": "python",
   "pygments_lexer": "ipython3",
   "version": "3.9.13"
  }
 },
 "nbformat": 4,
 "nbformat_minor": 5
}

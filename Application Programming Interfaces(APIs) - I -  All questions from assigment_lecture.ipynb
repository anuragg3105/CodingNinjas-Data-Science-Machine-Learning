{
 "cells": [
  {
   "cell_type": "markdown",
   "id": "cef9aca4",
   "metadata": {},
   "source": [
    "# Content type\n",
    "Send Feedback\n",
    "Print the content-type received after making a get request to url = https://codingninjas.in/api/v3/events\n",
    "Note : content-type can be found in header information of response object.\n"
   ]
  },
  {
   "cell_type": "code",
   "execution_count": null,
   "id": "5779762d",
   "metadata": {},
   "outputs": [],
   "source": [
    "## Print the required output in given format\n",
    "import requests\n",
    "response = requests.get('https://codingninjas.in/api/v3/events')\n",
    "\n",
    "header_info = response.headers\n",
    "print(header_info['Content-Type'])"
   ]
  },
  {
   "cell_type": "markdown",
   "id": "4196b3c8",
   "metadata": {},
   "source": [
    "# Hound sub-breeds\n",
    "Send Feedback\n",
    "Print all sub-breeds of hound by making a get request to given URL.\n",
    "URL : https://dog.ceo/api/breeds/list/all\n",
    "Print name of sub-breeds in different lines."
   ]
  },
  {
   "cell_type": "code",
   "execution_count": null,
   "id": "7b6d9639",
   "metadata": {},
   "outputs": [],
   "source": [
    "## Print the required output in given format\n",
    "import json\n",
    "import requests\n",
    "\n",
    "response = requests.get('https://dog.ceo/api/breeds/list/all')\n",
    "data = json.loads(response.text)\n",
    "all_breads = data['message']\n",
    "hound = all_breads['hound']\n",
    "\n",
    "for dog in hound:\n",
    "    print(dog)"
   ]
  },
  {
   "cell_type": "markdown",
   "id": "740a3136",
   "metadata": {},
   "source": [
    "# Poodle sub breeds count\n",
    "Send Feedback\n",
    "Print the count of total sub-breeds of poodle from this URL : https://dog.ceo/api/breeds/list/all/."
   ]
  },
  {
   "cell_type": "code",
   "execution_count": null,
   "id": "3e229752",
   "metadata": {},
   "outputs": [],
   "source": [
    "## Print the required output in given format\n",
    "import requests\n",
    "response = requests.get('https://dog.ceo/api/breeds/list/all')\n",
    "python_data = response.json()\n",
    "\n",
    "sub_breeds = python_data['message']['poodle']\n",
    "print(len(sub_breeds))"
   ]
  },
  {
   "cell_type": "markdown",
   "id": "dc55ce2e",
   "metadata": {},
   "source": [
    "# CN Online Courses\n",
    "Send Feedback\n",
    "Print name of all online courses offered by Coding Ninjas. You can fetch the data using their open API :\n",
    "https://api.codingninjas.com/api/v3/courses ."
   ]
  },
  {
   "cell_type": "code",
   "execution_count": null,
   "id": "1fc9bb24",
   "metadata": {},
   "outputs": [],
   "source": [
    "## Print the required output in given format\n",
    "import requests\n",
    "import json\n",
    "\n",
    "response = requests.get('https://api.codingninjas.com/api/v3/courses')\n",
    "data = json.loads(response.text)\n",
    "course_info = data['data']\n",
    "all_courses = course_info['courses']\n",
    "\n",
    "for c in all_courses:\n",
    "    if c['available_online'] == True:\n",
    "        print(c['name'])"
   ]
  },
  {
   "cell_type": "markdown",
   "id": "2e83dbc9",
   "metadata": {},
   "source": [
    "# Workshop Events\n",
    "Send Feedback\n",
    "Print description of first event from Coding Ninjas Events API\n",
    "If ther are no events in this API, then print \"No Events !\"\n",
    "Data can be fetched from this URL :\n",
    "Coding Ninjas Events API https://api.codingninjas.com/api/v3/events?event_category=ALL_EVENTS&event_sub_category=All%20Time%20Favorites&tag_list=&offset=0&_ga=2.113342787.513977284.1680950620-1940365727.1676732655"
   ]
  },
  {
   "cell_type": "code",
   "execution_count": null,
   "id": "62e9a6bb",
   "metadata": {},
   "outputs": [],
   "source": [
    "## Print the required output in given format\n",
    "import json\n",
    "import requests\n",
    "\n",
    "response = requests.get('https://api.codingninjas.com/api/v3/events?event_category=ALL_EVENTS&event_sub_category=All%20Time%20Favorites&tag_list=&offset=0&_ga=2.198877805.350100406.1673765428-1348423423.1672116594')\n",
    "data = json.loads(response.text)\n",
    "\n",
    "events = data['data']['events']\n",
    "if len(events) == 0:\n",
    "    print('No Events !')\n",
    "else:\n",
    "    print(events[0]['short_desc'])"
   ]
  },
  {
   "cell_type": "markdown",
   "id": "88d41c93",
   "metadata": {},
   "source": [
    "# Title of course\n",
    "Send Feedback\n",
    "Print the title of course with id=19.\n",
    "URL : http://api.codingninjas.com/api/v3/courses"
   ]
  },
  {
   "cell_type": "code",
   "execution_count": null,
   "id": "44005e45",
   "metadata": {},
   "outputs": [],
   "source": [
    "## Print the required output in given format\n",
    "import requests\n",
    "\n",
    "response =  requests.get('http://api.codingninjas.com/api/v3/courses')\n",
    "data = response.json()\n",
    "\n",
    "course = data['data']['courses']\n",
    "for ct in course:\n",
    "    if ct['id'] == 19:\n",
    "        print(ct['title'])"
   ]
  },
  {
   "cell_type": "markdown",
   "id": "308fd30b",
   "metadata": {},
   "source": [
    "# Total number of cities\n",
    "Send Feedback\n",
    "Count the total number of cities of country AU from this URL :\n",
    "https://api.openaq.org/v2/cities\n",
    "\n"
   ]
  },
  {
   "cell_type": "code",
   "execution_count": null,
   "id": "a3c8033f",
   "metadata": {},
   "outputs": [],
   "source": [
    "## Print the required output in given format\n",
    "import json\n",
    "import requests\n",
    "\n",
    "response = requests.get('https://api.openaq.org/v2/cities', params = {'country': 'AU'})\n",
    "data = response.json()\n",
    "\n",
    "all_cities = data['results']\n",
    "a = []\n",
    "for i in all_cities:\n",
    "    a.append(i['city'])\n",
    "print(len(set(a)))"
   ]
  },
  {
   "cell_type": "markdown",
   "id": "bf80a80e",
   "metadata": {},
   "source": [
    "# Cities from BE\n",
    "Send Feedback\n",
    "Print first 5 cities from country “BE”. Fetch the result from given URL.\n",
    "Order the results by city.\n",
    "URL - https://api.openaq.org/v1/cities\n",
    "Documentation - https://docs.openaq.org/"
   ]
  },
  {
   "cell_type": "code",
   "execution_count": null,
   "id": "6c5661d4",
   "metadata": {},
   "outputs": [],
   "source": [
    "## Print the required output in given format\n",
    "import requests\n",
    "import json\n",
    "\n",
    "response = requests.get(' https://api.openaq.org/v1/cities',params={'country':'BE','limit':5,'order_by':'city'})\n",
    "python_data = response.json()\n",
    "\n",
    "python_data=python_data['results']\n",
    "\n",
    "for i in python_data:\n",
    "    print(i['city'])"
   ]
  },
  {
   "cell_type": "markdown",
   "id": "d2a034a0",
   "metadata": {},
   "source": [
    "# USA WOEID\n",
    "Send Feedback\n",
    "Make an API call to -\n",
    "https://api.openweathermap.org/data/2.5/weather\n",
    "\n",
    "Search for \"Hyderabad\" and print weather report and Temperature.\n",
    "please go through the document to create your API Key and Print the answer.\n",
    "Output format:\n",
    "<City Name >\n",
    "Temperature: < >\n",
    "Weather Report: < >"
   ]
  },
  {
   "cell_type": "code",
   "execution_count": null,
   "id": "9410ece9",
   "metadata": {},
   "outputs": [],
   "source": [
    "import requests, json\n",
    "# base URL\n",
    "BASE_URL = \"https://api.openweathermap.org/data/2.5/weather?\"\n",
    "CITY = \"Hyderabad\"\n",
    "API_KEY = \"1396ff6fc250b7c4a34f67f747eee2eb\"\n",
    "# upadting the URL\n",
    "URL = BASE_URL + \"q=\" + CITY + \"&appid=\" + API_KEY\n",
    "# HTTP request\n",
    "response = requests.get(URL)\n",
    "# checking the status code of the request\n",
    "if response.status_code == 200:\n",
    "# getting data in the json format\n",
    "data = response.json()\n",
    "# getting the main dict block\n",
    "main = data['main']\n",
    "# getting temperature\n",
    "temperature = main['temp']\n",
    "# getting the humidity\n",
    "humidity = main['humidity']\n",
    "# getting the pressure\n",
    "pressure = main['pressure']\n",
    "# weather report\n",
    "report = data['weather']\n",
    "print(f\"{CITY}\")\n",
    "print(f\"Temperature: {temperature}\")\n",
    "print(f\"Weather Report: {report[0]['description']}\")"
   ]
  },
  {
   "cell_type": "markdown",
   "id": "5ac4a304",
   "metadata": {},
   "source": [
    "# Holiday\n",
    "Send Feedback\n",
    "Find the name of the holiday on 2nd October in the country India.\n",
    "You can read the documentation here: https://holidayapi.com/\n",
    "API Link to be used -\n",
    "https://holidayapi.com/v1/holidays\n",
    "\n",
    "Note\n",
    "You can only fetch the last year's data using the holidayapi. So, if you are running this code in 2023 then use the date as 2nd October 2022."
   ]
  },
  {
   "cell_type": "code",
   "execution_count": null,
   "id": "ec444e4d",
   "metadata": {},
   "outputs": [],
   "source": [
    "import requests\n",
    "response =requests.get('https://holidayapi.com/v1/holidays',params ={'key':'da8c2a6e-fde1-45f3-83a5-089655f88867','country':'IN','year':2022,'day':2,'month':10})\n",
    "python_data = response.json()\n",
    "print(python_data['holidays'][0]['name'])"
   ]
  },
  {
   "cell_type": "code",
   "execution_count": null,
   "id": "96d6f873",
   "metadata": {},
   "outputs": [],
   "source": []
  },
  {
   "cell_type": "code",
   "execution_count": null,
   "id": "5cce5682",
   "metadata": {},
   "outputs": [],
   "source": []
  },
  {
   "cell_type": "code",
   "execution_count": null,
   "id": "91d0030b",
   "metadata": {},
   "outputs": [],
   "source": []
  },
  {
   "cell_type": "code",
   "execution_count": null,
   "id": "d5d6d883",
   "metadata": {},
   "outputs": [],
   "source": []
  },
  {
   "cell_type": "code",
   "execution_count": null,
   "id": "ffab0864",
   "metadata": {},
   "outputs": [],
   "source": []
  },
  {
   "cell_type": "code",
   "execution_count": null,
   "id": "86ea6653",
   "metadata": {},
   "outputs": [],
   "source": []
  },
  {
   "cell_type": "code",
   "execution_count": null,
   "id": "220b5708",
   "metadata": {},
   "outputs": [],
   "source": []
  },
  {
   "cell_type": "code",
   "execution_count": null,
   "id": "a2efd9d7",
   "metadata": {},
   "outputs": [],
   "source": []
  },
  {
   "cell_type": "code",
   "execution_count": null,
   "id": "b73925ed",
   "metadata": {},
   "outputs": [],
   "source": []
  },
  {
   "cell_type": "code",
   "execution_count": null,
   "id": "70891723",
   "metadata": {},
   "outputs": [],
   "source": []
  },
  {
   "cell_type": "code",
   "execution_count": null,
   "id": "47e65457",
   "metadata": {},
   "outputs": [],
   "source": []
  }
 ],
 "metadata": {
  "kernelspec": {
   "display_name": "Python 3 (ipykernel)",
   "language": "python",
   "name": "python3"
  },
  "language_info": {
   "codemirror_mode": {
    "name": "ipython",
    "version": 3
   },
   "file_extension": ".py",
   "mimetype": "text/x-python",
   "name": "python",
   "nbconvert_exporter": "python",
   "pygments_lexer": "ipython3",
   "version": "3.9.13"
  }
 },
 "nbformat": 4,
 "nbformat_minor": 5
}

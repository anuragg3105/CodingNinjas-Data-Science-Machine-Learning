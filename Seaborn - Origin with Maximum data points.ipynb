{
 "cells": [
  {
   "cell_type": "markdown",
   "id": "eaf07a70",
   "metadata": {},
   "source": [
    "# Origin with Maximum data points\n",
    "Send Feedback\n",
    "In the above plot, from which origin we have majority data points ?\n",
    "Print the region name. You can take help of scatter plot and some parameters to figure this out."
   ]
  },
  {
   "cell_type": "code",
   "execution_count": null,
   "id": "5efbcfb1",
   "metadata": {},
   "outputs": [],
   "source": [
    "import seaborn as sns\n",
    "\n",
    "# Load the mpg dataset\n",
    "mpg = sns.load_dataset('mpg')\n",
    "\n",
    "# Create a scatter plot of mpg vs horsepower, colored by origin\n",
    "sns.scatterplot(x='horsepower', y='mpg', hue='origin', data=mpg)\n",
    "\n",
    "# Determine which region has the most data points\n",
    "region_counts = mpg['origin'].value_counts()\n",
    "print(region_counts.idxmax())\n"
   ]
  }
 ],
 "metadata": {
  "kernelspec": {
   "display_name": "Python 3 (ipykernel)",
   "language": "python",
   "name": "python3"
  },
  "language_info": {
   "codemirror_mode": {
    "name": "ipython",
    "version": 3
   },
   "file_extension": ".py",
   "mimetype": "text/x-python",
   "name": "python",
   "nbconvert_exporter": "python",
   "pygments_lexer": "ipython3",
   "version": "3.9.13"
  }
 },
 "nbformat": 4,
 "nbformat_minor": 5
}

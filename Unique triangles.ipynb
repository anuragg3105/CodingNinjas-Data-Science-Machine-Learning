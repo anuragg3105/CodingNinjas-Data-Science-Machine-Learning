{
 "cells": [
  {
   "cell_type": "markdown",
   "id": "5f46e552",
   "metadata": {},
   "source": [
    "You are given n triangles. You are required to find how many triangles are unique out of given triangles. For each triangle you are given three integers a, b and c (the sides of a triangle).\n",
    "A triangle is said to be unique if there is no other triangle with same set of sides.\n",
    "In other words, we have to find frequency of each triangle and return the count of triangles whose frequency is 1.\n",
    "Note : It is always possible to form triangle with given sides.\n",
    "Input Constraints :\n",
    "Line 1 : Integer n, the number of triangles\n",
    "Next n lines : Three integers a,b,c (sides of a triangle)."
   ]
  },
  {
   "cell_type": "code",
   "execution_count": null,
   "id": "b2f367d1",
   "metadata": {},
   "outputs": [],
   "source": [
    "from os import *\n",
    "from sys import *\n",
    "from collections import *\n",
    "from math import *\n",
    "\n",
    "## Read input as specified in the question.\n",
    "## Print output as specified in the question.\n",
    "from collections import Counter\n",
    "\n",
    "\n",
    "def unique_triangles(arr):\n",
    "    counter = Counter([frozenset(a) for a in arr])\n",
    "    return len([res for res in counter if counter[res] == 1])\n",
    "\n",
    "\n",
    "\n",
    "n = int(input())\n",
    "arr = [list(map(int, input().split())) for x in range(n)]\n",
    "print(unique_triangles(arr))"
   ]
  }
 ],
 "metadata": {
  "kernelspec": {
   "display_name": "Python 3 (ipykernel)",
   "language": "python",
   "name": "python3"
  },
  "language_info": {
   "codemirror_mode": {
    "name": "ipython",
    "version": 3
   },
   "file_extension": ".py",
   "mimetype": "text/x-python",
   "name": "python",
   "nbconvert_exporter": "python",
   "pygments_lexer": "ipython3",
   "version": "3.9.13"
  }
 },
 "nbformat": 4,
 "nbformat_minor": 5
}

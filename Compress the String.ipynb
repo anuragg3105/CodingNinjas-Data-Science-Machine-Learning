{
 "cells": [
  {
   "cell_type": "markdown",
   "id": "5f21de24",
   "metadata": {},
   "source": [
    "Write a program to do basic string compression. For a character which is consecutively repeated more than once, replace consecutive duplicate occurrences with the count of repetitions.\n",
    "Exmple:\n",
    "If a string has 'x' repeated 5 times, replace this \"xxxxx\" with \"x5\".\n",
    "\n",
    "The string is compressed only when the repeated character count is more than 1.\n",
    "Note :\n",
    "Consecutive count of every character in the input string is less than or equal to 9.\n",
    "Input Format:\n",
    "The first and only line of input contains a string without any leading and trailing spaces.\n",
    "Output Format:\n",
    "The only line of output prints the updated string.\n",
    "Note:\n",
    "You are not required to print anything. It has already been taken care of.\n",
    "Constraints:\n",
    "0 <= N <= 10^6\n",
    "Where N is the length of the input string."
   ]
  },
  {
   "cell_type": "code",
   "execution_count": 1,
   "id": "0e21d9a9",
   "metadata": {},
   "outputs": [
    {
     "name": "stdout",
     "output_type": "stream",
     "text": [
      "a6b2d3\n"
     ]
    }
   ],
   "source": [
    "def getCompressedString(string):\n",
    "    n = len(string)\n",
    "    ans = ''\n",
    "    cur = 1\n",
    "    # if n==0:\n",
    "    #     return ans\n",
    "    # cur =1\n",
    "    ans +=string[0]\n",
    "    \n",
    "    for i in range(1,n):\n",
    "        if string[i] == string[i-1]:\n",
    "            cur +=1\n",
    "        else:\n",
    "            if cur > 1:\n",
    "                ans += str(cur)\n",
    "                cur = 1\n",
    "            ans +=string[i]\n",
    "\n",
    "    if cur > 1:\n",
    "        ans += str(cur)\n",
    "    \n",
    "    return(ans)\n",
    "\n",
    "a = getCompressedString('aaaaaabbddd')\n",
    "print(a)"
   ]
  },
  {
   "cell_type": "code",
   "execution_count": null,
   "id": "fda186a6",
   "metadata": {},
   "outputs": [],
   "source": []
  }
 ],
 "metadata": {
  "kernelspec": {
   "display_name": "Python 3 (ipykernel)",
   "language": "python",
   "name": "python3"
  },
  "language_info": {
   "codemirror_mode": {
    "name": "ipython",
    "version": 3
   },
   "file_extension": ".py",
   "mimetype": "text/x-python",
   "name": "python",
   "nbconvert_exporter": "python",
   "pygments_lexer": "ipython3",
   "version": "3.9.13"
  }
 },
 "nbformat": 4,
 "nbformat_minor": 5
}

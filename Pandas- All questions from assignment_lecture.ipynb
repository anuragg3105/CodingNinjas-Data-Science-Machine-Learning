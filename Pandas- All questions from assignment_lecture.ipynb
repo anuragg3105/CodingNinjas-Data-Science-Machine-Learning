{
 "cells": [
  {
   "cell_type": "markdown",
   "id": "8885aea3",
   "metadata": {},
   "source": [
    "# Count of Flower\n",
    "Send Feedback\n",
    "Problem Statement\n",
    "Find and print count of each kind of flower (separated by space)?\n",
    "Note: Get the dataset from here https://gist.githubusercontent.com/netj/8836201/raw/6f9306ad21398ea43cba4f7d537619d0e07d5ae3/iris.csv\n",
    "Print the count as Integer Value.\n",
    "Output Format\n",
    "count1 count2 count3 ....."
   ]
  },
  {
   "cell_type": "code",
   "execution_count": null,
   "id": "1244a6aa",
   "metadata": {},
   "outputs": [],
   "source": [
    "## Open and read data file as specified in the question\n",
    "## Print the required output in given format\n",
    "import pandas as pd\n",
    "column_name = ['SeapalLength','SeapalWidth','PetalLength','PetalWidth','Species']\n",
    "iris = pd.read_csv('https://archive.ics.uci.edu/ml/machine-learning-databases/iris/iris.data', names=column_name)\n",
    "for i in iris['Species'].value_counts():\n",
    "    print(i,end = \" \")"
   ]
  },
  {
   "cell_type": "markdown",
   "id": "211d4fbe",
   "metadata": {},
   "source": [
    "# Iris Virginica\n",
    "Send Feedback\n",
    "Problem Statement\n",
    "Find the data of flower “Iris-virginica” type where petal-length > 1.5?\n",
    "Note: Get the dataset from here https://files.codingninjas.in/iris-8116.csv?_ga=2.16188146.550030232.1679754620-1940365727.1676732655\n",
    "Print the all the feature values.\n",
    "Output Format\n",
    "feature1 feature2 feature3 feature4 feature5\n",
    "feature1 feature2 feature3 feature4 feature5\n",
    "feature1 feature2 feature3 feature4 feature5\n",
    "feature1 feature2 feature3 feature4 feature5"
   ]
  },
  {
   "cell_type": "code",
   "execution_count": null,
   "id": "aa533b8d",
   "metadata": {},
   "outputs": [],
   "source": [
    "import pandas as pd\n",
    "columns = ['sl','sw','pl','pw','flower_type']\n",
    "iris = pd.read_csv('https://archive.ics.uci.edu/ml/machine-learning-databases/iris/iris.data', names=columns)\n",
    "iris = iris[iris.flower_type=='Iris-virginica']\n",
    "iris = iris[iris.pl>1.5]\n",
    "iris = iris.values\n",
    "for row in iris :\n",
    "    print(*row)"
   ]
  },
  {
   "cell_type": "markdown",
   "id": "460294b7",
   "metadata": {},
   "source": [
    "# Iris Values\n",
    "Send Feedback\n",
    "Problem Statement\n",
    "Find and print the minimum, maximum and average value of the feature for each kind of flower ?\n",
    "Note: Get the dataset from here\n",
    "Print the value with two decimal places.\n",
    "Note: Order for flower is Iris-setosa, Iris-versicolor and Iris-virginica.\n",
    "Output Format\n",
    "minSL minSW minPL minPW Iris-setosa\n",
    "maxSL maxSW maxPL maxPW Iris-setosa\n",
    "avgSL avgSW avgPL avgPW Iris-setosa\n",
    ". . ."
   ]
  },
  {
   "cell_type": "code",
   "execution_count": null,
   "id": "10252b3a",
   "metadata": {},
   "outputs": [],
   "source": [
    "import pandas as pd\n",
    "columns = ['sl','sw','pl','pw','flower_type']\n",
    "iris = pd.read_csv('https://archive.ics.uci.edu/ml/machine-learning-databases/iris/iris.data', names=columns)\n",
    "\n",
    "c = iris[iris.flower_type=='Iris-setosa']\n",
    "print('%.2f'%min(c['sl']),'%.2f'%min(c['sw']),'%.2f'%min(c['pl']),'%.2f'%min(c['pw']),c.iloc[0,4])\n",
    "print('%.2f'%max(c['sl']),'%.2f'%max(c['sw']),'%.2f'%max(c['pl']),'%.2f'%max(c['pw']),c.iloc[0,4])\n",
    "print('%.2f'%(c['sl'].mean()),'%.2f'%(c['sw'].mean()),'%.2f'%(c['pl'].mean()),'%.2f'%(c['pw'].mean()),c.iloc[0,4])\n",
    "\n",
    "c1 = iris[iris.flower_type=='Iris-versicolor']\n",
    "print('%.2f'%min(c1['sl']),'%.2f'%min(c1['sw']),'%.2f'%min(c1['pl']),'%.2f'%min(c1['pw']),c1.iloc[0,4])\n",
    "print('%.2f'%max(c1['sl']),'%.2f'%max(c1['sw']),'%.2f'%max(c1['pl']),'%.2f'%max(c1['pw']),c1.iloc[0,4])\n",
    "print('%.2f'%(c1['sl'].mean()),'%.2f'%(c1['sw'].mean()),'%.2f'%(c1['pl'].mean()),'%.2f'%(c1['pw'].mean()),c1.iloc[0,4])\n",
    "\n",
    "c2 = iris[iris.flower_type=='Iris-virginica']\n",
    "print('%.2f'%min(c2['sl']),'%.2f'%min(c2['sw']),'%.2f'%min(c2['pl']),'%.2f'%min(c2['pw']),c2.iloc[0,4])\n",
    "print('%.2f'%max(c2['sl']),'%.2f'%max(c2['sw']),'%.2f'%max(c2['pl']),'%.2f'%max(c2['pw']),c2.iloc[0,4])\n",
    "print('%.2f'%(c2['sl'].mean()),'%.2f'%(c2['sw'].mean()),'%.2f'%(c2['pl'].mean()),'%.2f'%(c2['pw'].mean()),c2.iloc[0,4])"
   ]
  },
  {
   "cell_type": "markdown",
   "id": "04d4a491",
   "metadata": {},
   "source": [
    "# Terror Attack City\n",
    "Send Feedback\n",
    "Given file \"terrorismData.csv\"\n",
    "It is an open-source database including information on terrorist attacks around the world from 1970 through 2017. This dataset includes systematic data on domestic as well as international terrorist incidents that have occurred during this time period\n",
    "Problem Statement :\n",
    "The Most Dangerous city in Jammu and Kashmir and the terrorist group which is most active in that city?\n",
    "Print count of number of attacks in that city as integer value.\n",
    "Note:Ignoring the Unknown Terrorist Group.Here Dangerous related with the number of terrorist attacks.\n",
    "Output Format :\n",
    "City NumberOfAttack Group"
   ]
  },
  {
   "cell_type": "code",
   "execution_count": null,
   "id": "3c22d330",
   "metadata": {},
   "outputs": [],
   "source": [
    "import pandas as pd\n",
    "df = pd.read_csv('terrorismData.csv')\n",
    "\n",
    "df = df[df.State=='Jammu and Kashmir']\n",
    "df_list = df['City'].value_counts()\n",
    "city = df_list.index[0]\n",
    "count = df_list.values[0]\n",
    "\n",
    "df = df[df['City']==city]\n",
    "group = df['Group'].value_counts().index[1]\n",
    "\n",
    "print(city,count,group)"
   ]
  },
  {
   "cell_type": "markdown",
   "id": "16464a09",
   "metadata": {},
   "source": [
    "# Terror Government\n",
    "Send Feedback\n",
    "Given file \"terrorismData.csv\"\n",
    "It is an open-source database including information on terrorist attacks around the world from 1970 through 2017. This dataset includes systematic data on domestic as well as international terrorist incidents that have occurred during this time period\n",
    "Problem Statement :\n",
    "There was formation of new government in India on 26 May 2014. So current government's span is from 26th May 2014 to current. Find out two things from this period-\n",
    "1. Total number of attacks done in this period in India. Find this count as integer.\n",
    "2. Which Terrorist group was most active in this period in India. Most active means, group which has done maximum number of attacks. \n",
    "3.Ignore the Unknown group. "
   ]
  },
  {
   "cell_type": "code",
   "execution_count": null,
   "id": "760ac0b1",
   "metadata": {},
   "outputs": [],
   "source": [
    "import pandas as pd\n",
    "import numpy as np\n",
    "df = pd.read_csv('terrorismData.csv')\n",
    "\n",
    "a = df[df.Day>=26]\n",
    "b = a[a.Year==2014]\n",
    "c = b[b.Country=='India']\n",
    "ans1 = c[c.Month==5]\n",
    "\n",
    "d = df[df.Year==2014]\n",
    "e = d[d.Country=='India']\n",
    "ans2 = e[e.Month>5]\n",
    "\n",
    "f = df[df.Country=='India']\n",
    "ans3 = f[f.Year>2014]\n",
    "\n",
    "count = ans1.shape[0] + ans2.shape[0] + ans3.shape[0]\n",
    "\n",
    "ans1=ans1[ans1.Group!='Unknown']\n",
    "ans2=ans2[ans2.Group!='Unknown']\n",
    "ans3=ans3[ans3.Group!='Unknown']\n",
    "\n",
    "print(count,ans3.Group.describe().top)"
   ]
  },
  {
   "cell_type": "markdown",
   "id": "6b263e80",
   "metadata": {},
   "source": [
    "# Terror Frequency\n",
    "Send Feedback\n",
    "Given file \"terrorismData.csv\"\n",
    "It is an open-source database including information on terrorist attacks around the world from 1970 through 2017. This dataset includes systematic data on domestic as well as international terrorist incidents that have occurred during this time period\n",
    "Problem Statement :\n",
    "Find the frequency of the Casualty in Red Corridor states and in Jammu and Kashmir ?Here Frequency is (Total Casualty/Total Number of a year)\n",
    "Print frequency as integer value.\n",
    "Note:Red Corridor state includes Jharkhand, Odisha, Andhra Pradesh, and Chhattisgarh. Here Casualty=Killed +Wounded.Don't fill the nan value present in Killed and Wounded feature.\n",
    "Output Format :\n",
    "Frequency1 Frequency2 "
   ]
  },
  {
   "cell_type": "code",
   "execution_count": null,
   "id": "59b079a2",
   "metadata": {},
   "outputs": [],
   "source": [
    "import pandas as pd\n",
    "import numpy as np\n",
    "df = pd.read_csv('terrorismData.csv')\n",
    "\n",
    "year = len(set(df['Year']))\n",
    "\n",
    "df = df[df.Country == 'India']\n",
    "df['Casualty'] = df['Killed'] + df['Wounded']\n",
    "\n",
    "jk = df[df.State == 'Jammu and Kashmir']\n",
    "rc = df[(df.State == 'Jharkhand') | (df.State == 'Odisha') | (df.State == 'Andhra Pradesh') | (df.State == 'Chhattisgarh')]\n",
    "\n",
    "jkc = int(np.sum(jk['Casualty']))\n",
    "rcc = int(np.sum(rc['Casualty']))\n",
    "\n",
    "print(rcc//year,jkc//year)"
   ]
  },
  {
   "cell_type": "markdown",
   "id": "9671a4a7",
   "metadata": {},
   "source": [
    "# Terror DeadliestAttack\n",
    "Send Feedback\n",
    "Given file \"terrorismData.csv\"\n",
    "It is an open-source database including information on terrorist attacks around the world from 1970 through 2017. This dataset includes systematic data on domestic as well as international terrorist incidents that have occurred during this time period\n",
    "Problem Statement :\n",
    "Most Deadliest attack in a history of HumanKind?\n",
    "Print count of Killed people as integer value.\n",
    "Note: Here Deadliest attack means, in which the most number of people killed.\n",
    "Output Format :\n",
    "NumberOfPeopleKilled Country TerroristGroup"
   ]
  },
  {
   "cell_type": "code",
   "execution_count": null,
   "id": "e05a8fb2",
   "metadata": {},
   "outputs": [],
   "source": [
    "import pandas as pd\n",
    "df = pd.read_csv('terrorismData.csv')\n",
    "\n",
    "df = df[df.Killed==df.Killed.max()]\n",
    "mx_killed = df.Killed.iloc[0]\n",
    "country = df.Country.iloc[0]\n",
    "group = df.Group.iloc[0]\n",
    "print(int(mx_killed), country, group)"
   ]
  },
  {
   "cell_type": "markdown",
   "id": "45393b94",
   "metadata": {},
   "source": [
    "# Terror Attack\n",
    "Send Feedback\n",
    "Given file \"terrorismData.csv\"\n",
    "It is an open-source database including information on terrorist attacks around the world from 1970 through 2017. This dataset includes systematic data on domestic as well as international terrorist incidents that have occurred during this time period\n",
    "Problem Statement :\n",
    "Find out the Country with Highest Number of Terror Attack and in which year the most number of terrorist attack happened in that country ?\n",
    "Print count of terror attacks as integer value.\n",
    "Output Format :\n",
    "Country NumberOfAttack Year"
   ]
  },
  {
   "cell_type": "code",
   "execution_count": null,
   "id": "828c64b7",
   "metadata": {},
   "outputs": [],
   "source": [
    "import pandas as pd\n",
    "import numpy as np\n",
    "df = pd.read_csv('terrorismData.csv')\n",
    "\n",
    "year = len(set(df['Year']))\n",
    "\n",
    "df = df[df.Country == 'India']\n",
    "df['Casualty'] = df['Killed'] + df['Wounded']\n",
    "\n",
    "jk = df[df.State == 'Jammu and Kashmir']\n",
    "rc = df[(df.State == 'Jharkhand') | (df.State == 'Odisha') | (df.State == 'Andhra Pradesh') | (df.State == 'Chhattisgarh')]\n",
    "\n",
    "jkc = int(np.sum(jk['Casualty']))\n",
    "rcc = int(np.sum(rc['Casualty']))\n",
    "\n",
    "print(rcc//year,jkc//year)"
   ]
  },
  {
   "cell_type": "code",
   "execution_count": null,
   "id": "9416a685",
   "metadata": {},
   "outputs": [],
   "source": []
  },
  {
   "cell_type": "code",
   "execution_count": null,
   "id": "83188302",
   "metadata": {},
   "outputs": [],
   "source": []
  },
  {
   "cell_type": "code",
   "execution_count": null,
   "id": "8355c19e",
   "metadata": {},
   "outputs": [],
   "source": []
  },
  {
   "cell_type": "code",
   "execution_count": null,
   "id": "87d452fd",
   "metadata": {},
   "outputs": [],
   "source": []
  },
  {
   "cell_type": "code",
   "execution_count": null,
   "id": "4f47f276",
   "metadata": {},
   "outputs": [],
   "source": []
  },
  {
   "cell_type": "code",
   "execution_count": null,
   "id": "ab40c724",
   "metadata": {},
   "outputs": [],
   "source": []
  },
  {
   "cell_type": "code",
   "execution_count": null,
   "id": "546bccbf",
   "metadata": {},
   "outputs": [],
   "source": []
  },
  {
   "cell_type": "code",
   "execution_count": null,
   "id": "b788eb4e",
   "metadata": {},
   "outputs": [],
   "source": []
  },
  {
   "cell_type": "code",
   "execution_count": null,
   "id": "f773eda6",
   "metadata": {},
   "outputs": [],
   "source": []
  },
  {
   "cell_type": "code",
   "execution_count": null,
   "id": "b20d9032",
   "metadata": {},
   "outputs": [],
   "source": []
  }
 ],
 "metadata": {
  "kernelspec": {
   "display_name": "Python 3 (ipykernel)",
   "language": "python",
   "name": "python3"
  },
  "language_info": {
   "codemirror_mode": {
    "name": "ipython",
    "version": 3
   },
   "file_extension": ".py",
   "mimetype": "text/x-python",
   "name": "python",
   "nbconvert_exporter": "python",
   "pygments_lexer": "ipython3",
   "version": "3.9.13"
  }
 },
 "nbformat": 4,
 "nbformat_minor": 5
}

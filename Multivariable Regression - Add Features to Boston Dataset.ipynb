{
 "cells": [
  {
   "cell_type": "markdown",
   "id": "8c56da62",
   "metadata": {},
   "source": [
    "# Add Features to Boston Dataset\n",
    "Send Feedback\n",
    "In this problem you need to load the Boston dataset from sklearn toy datasets. After loading, you need to split the dataset into testing and training datasets. Now, fit the linear regression model on the training dataset and store the training and testing scores.\n",
    "After this add two more columns to the dataset. These columns are the squared values of the 'AGE' and the 'RM' columns respectively.\n",
    "Again split the dataset into testing and training datasets. Now, fit the linear regression model on the training dataset and store the training and testing scores.\n",
    "Compare the scores of both the models and print \"Score improved\" if both training and testing scores improved after squaring two columns. Otherwise, print \"Score not improved\".\n",
    "Output\n",
    "If both training and testing scores improved after squaring two columns print:\n",
    "\n",
    "\"Score improved\"\n",
    "\n",
    "Else print:\n",
    "\n",
    "\"Score not improved\""
   ]
  },
  {
   "cell_type": "code",
   "execution_count": null,
   "id": "8736c1fb",
   "metadata": {},
   "outputs": [],
   "source": [
    "from sklearn.datasets import load_boston\n",
    "from sklearn.model_selection import train_test_split\n",
    "from sklearn.linear_model import LinearRegression\n",
    "import numpy as np\n",
    "\n",
    "# Load the Boston dataset\n",
    "boston = load_boston()\n",
    "\n",
    "# Split the dataset into testing and training datasets\n",
    "X_train, X_test, y_train, y_test = train_test_split(boston.data, boston.target, test_size=0.3, random_state=42)\n",
    "\n",
    "# Fit the linear regression model on the training dataset and store the training and testing scores\n",
    "lr = LinearRegression()\n",
    "lr.fit(X_train, y_train)\n",
    "train_score = lr.score(X_train, y_train)\n",
    "test_score = lr.score(X_test, y_test)\n",
    "\n",
    "# Add two more columns to the dataset (the squared values of 'AGE' and 'RM')\n",
    "X_train = np.c_[X_train, X_train[:, 6]**2, X_train[:, 5]**2]\n",
    "X_test = np.c_[X_test, X_test[:, 6]**2, X_test[:, 5]**2]\n",
    "\n",
    "# Split the dataset into testing and training datasets again\n",
    "X_train2, X_test2, y_train2, y_test2 = train_test_split(X_train, y_train, test_size=0.3, random_state=42)\n",
    "\n",
    "# Fit the linear regression model on the training dataset and store the training and testing scores again\n",
    "lr2 = LinearRegression()\n",
    "lr2.fit(X_train2, y_train2)\n",
    "train_score2 = lr2.score(X_train2, y_train2)\n",
    "test_score2 = lr2.score(X_test2, y_test2)\n",
    "\n",
    "# Compare the scores of both the models and print the result\n",
    "if train_score2 > train_score and test_score2 > test_score:\n",
    "    print(\"Score improved\")\n",
    "else:\n",
    "    print(\"Score not improved\")\n"
   ]
  }
 ],
 "metadata": {
  "kernelspec": {
   "display_name": "Python 3 (ipykernel)",
   "language": "python",
   "name": "python3"
  },
  "language_info": {
   "codemirror_mode": {
    "name": "ipython",
    "version": 3
   },
   "file_extension": ".py",
   "mimetype": "text/x-python",
   "name": "python",
   "nbconvert_exporter": "python",
   "pygments_lexer": "ipython3",
   "version": "3.9.13"
  }
 },
 "nbformat": 4,
 "nbformat_minor": 5
}

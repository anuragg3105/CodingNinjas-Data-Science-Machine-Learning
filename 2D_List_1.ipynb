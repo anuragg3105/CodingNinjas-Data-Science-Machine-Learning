{
 "cells": [
  {
   "cell_type": "markdown",
   "id": "ccb5c304",
   "metadata": {},
   "source": [
    "# Multi-Dimensional List"
   ]
  },
  {
   "cell_type": "code",
   "execution_count": 7,
   "id": "9cf08cf6",
   "metadata": {},
   "outputs": [
    {
     "name": "stdout",
     "output_type": "stream",
     "text": [
      "3\n",
      "[4, 5, 6]\n",
      "5\n",
      "6\n",
      "2\n",
      "2\n",
      "3\n",
      "3\n"
     ]
    }
   ],
   "source": [
    "a=[[1,2,3],[4,5,6]]\n",
    "print(a[0][2])\n",
    "print(a[1])\n",
    "print(a[1][1])\n",
    "print(a[1][2])\n",
    "print(a[0][1])\n",
    "print(len(a))\n",
    "print(len(a[0]))\n",
    "print(len(a[1]))"
   ]
  },
  {
   "cell_type": "markdown",
   "id": "089ce8b3",
   "metadata": {},
   "source": [
    "# Input in 2D list"
   ]
  },
  {
   "cell_type": "code",
   "execution_count": null,
   "id": "e95785a7",
   "metadata": {},
   "outputs": [],
   "source": [
    "#Method 1\n",
    "sizes = input().split()\n",
    "m = int(sizes[0])\n",
    "n = int(sizes[1])\n",
    "l = []\n",
    "\n",
    "sizes = input().split()\n",
    "m = int(sizes[0])\n",
    "n = int(sizes[1])\n",
    "l = []\n",
    "for i in range(m):\n",
    "     next_row=[int(i) for i in input().split()]\n",
    "     l.append(next_row)\n",
    "\n",
    "print(l)"
   ]
  },
  {
   "cell_type": "code",
   "execution_count": 2,
   "id": "5f2cfa23",
   "metadata": {},
   "outputs": [
    {
     "name": "stdout",
     "output_type": "stream",
     "text": [
      "3 4\n",
      "1\n",
      "2\n",
      "3\n",
      "4\n",
      "5\n",
      "6\n",
      "7\n",
      "8\n",
      "9\n",
      "10\n",
      "11\n",
      "12\n",
      "[[1, 2, 3, 4], [5, 6, 7, 8], [9, 10, 11, 12]]\n"
     ]
    }
   ],
   "source": [
    "#Method 2\n",
    "sizes = input().split()\n",
    "m = int(sizes[0])\n",
    "n = int(sizes[1])\n",
    "l = []\n",
    "\n",
    "for i in range(m):\n",
    "     next_row=[]\n",
    "     for j in range(n):\n",
    "       element = int(input())\n",
    "       next_row.append(element)\n",
    "    \n",
    "     l.append(next_row)\n",
    "        \n",
    "print(l)"
   ]
  },
  {
   "cell_type": "code",
   "execution_count": 1,
   "id": "b92d2adc",
   "metadata": {},
   "outputs": [
    {
     "name": "stdout",
     "output_type": "stream",
     "text": [
      "3 4\n",
      "1 2 3 4 5 6 7 8 9 10 11 12\n",
      "[[1, 2, 3, 4], [5, 6, 7, 8], [9, 10, 11, 12]]\n"
     ]
    }
   ],
   "source": [
    "#method 3 : input in 1 line and output as separate dimension\n",
    "sizes = input().split()\n",
    "m = int(sizes[0])\n",
    "n = int(sizes[1])\n",
    "l_ld= [int(i) for i in input().split()]\n",
    "l = []\n",
    "\n",
    "for i in range(m):\n",
    "    start_index= n*i\n",
    "    end_index= n*(i+1)\n",
    "    next_row=l_ld[start_index:end_index]\n",
    "    l.append(next_row)\n",
    "print(l)\n"
   ]
  },
  {
   "cell_type": "code",
   "execution_count": 1,
   "id": "0388bcc3",
   "metadata": {},
   "outputs": [
    {
     "name": "stdout",
     "output_type": "stream",
     "text": [
      "[1, 5, 9]\n"
     ]
    }
   ],
   "source": [
    "A = [[1, 2, 3],\n",
    "    [4, 5, 6],\n",
    "    [7, 8, 9]]\n",
    "print([A[i][i] for i in range(len(A))])\n",
    "\n",
    "# print([A[i][i] for i in range(len(A))])\n",
    "\n",
    "# len(A) = 3, so the loop will work for 0, 1, 2 as the value of ‘i’. \n",
    "# For the value of i = 0, it will fetch A[0][0] = 1.\n",
    "# Similarly for i = 1, A[1][1] = 5\n",
    "# And for i = 2, A[2][2] = 9\n",
    "\n",
    "# It will output, [1, 5, 9]\n"
   ]
  },
  {
   "cell_type": "code",
   "execution_count": 2,
   "id": "92f80bdb",
   "metadata": {},
   "outputs": [
    {
     "name": "stdout",
     "output_type": "stream",
     "text": [
      "[11, 12, 13, 14, 10, 20, 30, 40, 50, 60, 70, 80, 90]\n"
     ]
    }
   ],
   "source": [
    "r = [11, 12, 13, 14]\n",
    "A = [[0, 10, 20],\n",
    "     [30, 40, 50],\n",
    "     [60, 70, 80]]\n",
    "for row in A:\n",
    "    for col in row:\n",
    "        r.append(col+10)\n",
    "print(r)\n",
    "#The nested for loop is going to run through each \n",
    "#element of 2D List 'A', add 10 to it and then \n",
    "#append to the list r."
   ]
  },
  {
   "cell_type": "code",
   "execution_count": null,
   "id": "9a150212",
   "metadata": {},
   "outputs": [],
   "source": []
  }
 ],
 "metadata": {
  "kernelspec": {
   "display_name": "Python 3 (ipykernel)",
   "language": "python",
   "name": "python3"
  },
  "language_info": {
   "codemirror_mode": {
    "name": "ipython",
    "version": 3
   },
   "file_extension": ".py",
   "mimetype": "text/x-python",
   "name": "python",
   "nbconvert_exporter": "python",
   "pygments_lexer": "ipython3",
   "version": "3.9.13"
  }
 },
 "nbformat": 4,
 "nbformat_minor": 5
}

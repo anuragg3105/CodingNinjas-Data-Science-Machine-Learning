{
 "cells": [
  {
   "cell_type": "markdown",
   "id": "402321b2",
   "metadata": {},
   "source": [
    "# Read the sklearn dataset\n",
    "Send Feedback\n",
    "scikit-learn comes with a few small standard datasets that do not require downloading any file from some external website.\n",
    "These datasets are useful to quickly illustrate the behaviour of the various algorithms implemented in scikit-learn. They are however often too small to be representative of real-world machine learning tasks.\n",
    "One such dataset is the \"Iris dataset\".\n",
    "Your work is to load this dataset from the sklearn library and print the first five rows using the head method of the pandas' library.\n",
    "Output\n",
    "Print the first 5 rows of iris dataset(after loading from sklearn toy dataset).\n"
   ]
  },
  {
   "cell_type": "code",
   "execution_count": null,
   "id": "6d3eed07",
   "metadata": {},
   "outputs": [],
   "source": [
    "from sklearn.datasets import load_iris\n",
    "import pandas as pd\n",
    "\n",
    "# Load the Iris dataset\n",
    "iris = load_iris()\n",
    "\n",
    "# Convert the data into a pandas DataFrame\n",
    "df = pd.DataFrame(data=iris.data, columns=iris.feature_names)\n",
    "\n",
    "# Print the first 5 rows of the DataFrame\n",
    "print(df.head())\n"
   ]
  }
 ],
 "metadata": {
  "kernelspec": {
   "display_name": "Python 3 (ipykernel)",
   "language": "python",
   "name": "python3"
  },
  "language_info": {
   "codemirror_mode": {
    "name": "ipython",
    "version": 3
   },
   "file_extension": ".py",
   "mimetype": "text/x-python",
   "name": "python",
   "nbconvert_exporter": "python",
   "pygments_lexer": "ipython3",
   "version": "3.9.13"
  }
 },
 "nbformat": 4,
 "nbformat_minor": 5
}

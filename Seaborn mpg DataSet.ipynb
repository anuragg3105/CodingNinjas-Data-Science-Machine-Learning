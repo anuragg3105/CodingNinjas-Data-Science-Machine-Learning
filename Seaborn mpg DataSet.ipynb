{
 "cells": [
  {
   "cell_type": "markdown",
   "id": "9b5b0d58",
   "metadata": {},
   "source": [
    "# mpg DataSet\n",
    "Send Feedback\n",
    "Load the existing dataset “mpg” in your python notebook.\n",
    "By plotting a scatter plot, check if there is any relationship between two variables - mpg and horsepower.\n",
    "Display the scatter plot and print if these two variables are related. If they are related, then print “Yes” otherwise print “No”."
   ]
  },
  {
   "cell_type": "code",
   "execution_count": null,
   "id": "1cb58daf",
   "metadata": {},
   "outputs": [],
   "source": [
    "import matplotlib.pyplot as plt\n",
    "import pandas as pd\n",
    "import seaborn as sns\n",
    "sns.set()\n",
    "df = sns.load_dataset('mpg')\n",
    "sns.relplot(x = 'mpg', y = 'horsepower', data = df)\n",
    "plt.show()\n",
    "print(\"Yes\")"
   ]
  }
 ],
 "metadata": {
  "kernelspec": {
   "display_name": "Python 3 (ipykernel)",
   "language": "python",
   "name": "python3"
  },
  "language_info": {
   "codemirror_mode": {
    "name": "ipython",
    "version": 3
   },
   "file_extension": ".py",
   "mimetype": "text/x-python",
   "name": "python",
   "nbconvert_exporter": "python",
   "pygments_lexer": "ipython3",
   "version": "3.9.13"
  }
 },
 "nbformat": 4,
 "nbformat_minor": 5
}

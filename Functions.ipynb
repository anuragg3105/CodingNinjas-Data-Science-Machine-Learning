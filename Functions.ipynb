{
 "cells": [
  {
   "cell_type": "code",
   "execution_count": 3,
   "id": "dda7d953",
   "metadata": {},
   "outputs": [
    {
     "name": "stdout",
     "output_type": "stream",
     "text": [
      "4\n",
      "2\n",
      "6\n"
     ]
    }
   ],
   "source": [
    "#Without Function\n",
    "n=int(input())\n",
    "r=int(input())\n",
    "\n",
    "n_fact=1\n",
    "for i in range(1,n+1):\n",
    "    n_fact=n_fact*i\n",
    "    \n",
    "r_fact=1\n",
    "for i in range(1,r+1):\n",
    "    r_fact=r_fact*i\n",
    "    \n",
    "n_r_fact=1\n",
    "for i in range(1,n-r+1):\n",
    "    n_r_fact=n_r_fact*i\n",
    "    \n",
    "ans=int(n_fact/(r_fact*n_r_fact))\n",
    "print(ans)"
   ]
  },
  {
   "cell_type": "code",
   "execution_count": 5,
   "id": "6003a101",
   "metadata": {},
   "outputs": [
    {
     "name": "stdout",
     "output_type": "stream",
     "text": [
      "10\n",
      "The factorial of 10 is 3628800\n"
     ]
    }
   ],
   "source": [
    "# Python program to find the factorial of a number provided by the user\n",
    "\n",
    "def factorial(x):\n",
    "    \"\"\"This is a recursive function\n",
    "    to find the factorial of an integer\"\"\"\n",
    "\n",
    "    if x == 1:\n",
    "        return 1\n",
    "    else:\n",
    "        # recursive call to the function\n",
    "        return (x * factorial(x-1))\n",
    "\n",
    "num = int(input())\n",
    "result = factorial(num)\n",
    "print(\"The factorial of\", num, \"is\", result)"
   ]
  },
  {
   "cell_type": "code",
   "execution_count": 14,
   "id": "80137459",
   "metadata": {},
   "outputs": [
    {
     "name": "stdout",
     "output_type": "stream",
     "text": [
      "5\n",
      "The factorial of 5 is 120\n"
     ]
    }
   ],
   "source": [
    "def factorial(n):    \n",
    "    n_fact = 1\n",
    "    for i in range(1,n+1):\n",
    "        n_fact=n_fact*i\n",
    "    return n_fact\n",
    "\n",
    "num = int(input())\n",
    "result = factorial(num)\n",
    "print(\"The factorial of\", num, \"is\", result)"
   ]
  },
  {
   "cell_type": "code",
   "execution_count": 19,
   "id": "bc4e9e2d",
   "metadata": {},
   "outputs": [
    {
     "name": "stdout",
     "output_type": "stream",
     "text": [
      "4\n",
      "2\n",
      "6\n"
     ]
    }
   ],
   "source": [
    "def fact(n):    \n",
    "    n_fact = 1\n",
    "    for i in range(1,n+1):\n",
    "        n_fact=n_fact*i\n",
    "    return n_fact\n",
    "\n",
    "n= int(input())\n",
    "r= int(input())\n",
    "\n",
    "n_fact=fact(n)\n",
    "r_fact=fact(r)\n",
    "n_r_fact=fact(n-r)\n",
    "\n",
    "ans=n_fact//(r_fact*n_r_fact)\n",
    "print(ans)"
   ]
  },
  {
   "cell_type": "code",
   "execution_count": 20,
   "id": "9bf7ae9d",
   "metadata": {},
   "outputs": [
    {
     "name": "stdout",
     "output_type": "stream",
     "text": [
      "15\n"
     ]
    }
   ],
   "source": [
    "def func(a):\n",
    "    a = a + 10\n",
    "    return a\n",
    "b = 5\n",
    "b = func(b)\n",
    "print(b)"
   ]
  },
  {
   "cell_type": "code",
   "execution_count": 21,
   "id": "6398ac15",
   "metadata": {},
   "outputs": [
    {
     "name": "stdout",
     "output_type": "stream",
     "text": [
      "100\n"
     ]
    }
   ],
   "source": [
    "def func(a):\n",
    "    a = a*10\n",
    "    return a\n",
    "a = 10\n",
    "a = func(a)\n",
    "print(a)"
   ]
  },
  {
   "cell_type": "code",
   "execution_count": 22,
   "id": "917ca970",
   "metadata": {},
   "outputs": [
    {
     "name": "stdout",
     "output_type": "stream",
     "text": [
      "5\n"
     ]
    }
   ],
   "source": [
    "def func(a):\n",
    "    a = a + 10\n",
    "    return a\n",
    "a = 5\n",
    "func(a)\n",
    "print(a)"
   ]
  },
  {
   "cell_type": "code",
   "execution_count": 23,
   "id": "e9c3a642",
   "metadata": {},
   "outputs": [
    {
     "name": "stdout",
     "output_type": "stream",
     "text": [
      "16\n"
     ]
    }
   ],
   "source": [
    "def square(a):\n",
    "    ans  = a*a\n",
    "    return  ans\n",
    "\n",
    "a = 4\n",
    "a = square(a)\n",
    "print(a)"
   ]
  },
  {
   "cell_type": "code",
   "execution_count": 24,
   "id": "9ab24ee9",
   "metadata": {},
   "outputs": [
    {
     "name": "stdout",
     "output_type": "stream",
     "text": [
      "0\n",
      "100\n",
      "20\n",
      "0 -17\n",
      "20 -6\n",
      "40 4\n",
      "60 15\n",
      "80 26\n",
      "100 37\n"
     ]
    }
   ],
   "source": [
    "\n",
    "def printTable(s, e, w):\n",
    "    # Implement Your Code Here\n",
    "    while True:\n",
    "        c = 0\n",
    "        if s <= e:\n",
    "            c = (s - 32) * 5 / 9\n",
    "            print(s, int(c))\n",
    "            s = s + w\n",
    "\n",
    "        else:\n",
    "            break\n",
    "\n",
    "s = int(input())\n",
    "e = int(input())\n",
    "step = int(input())\n",
    "printTable(s, e, step)"
   ]
  },
  {
   "cell_type": "code",
   "execution_count": 25,
   "id": "2fb5413b",
   "metadata": {},
   "outputs": [
    {
     "name": "stdout",
     "output_type": "stream",
     "text": [
      "14\n"
     ]
    }
   ],
   "source": [
    "# When f() is called, it changes the value of 'a' whose \n",
    "# scope is local only limited inside f(). So when print(a)\n",
    "# is called, then it takes the value of 'a' which is \n",
    "# assigned as global and outputs 14.\n",
    "\n",
    "a = 14\n",
    "def f():\n",
    "    a=12\n",
    "f()\n",
    "print(a)"
   ]
  },
  {
   "cell_type": "code",
   "execution_count": 26,
   "id": "93cd7f42",
   "metadata": {},
   "outputs": [
    {
     "name": "stdout",
     "output_type": "stream",
     "text": [
      "12\n"
     ]
    }
   ],
   "source": [
    "# When f() is called, it changes the value of 'a' whose \n",
    "# scope is global, as the global keyword is used to \n",
    "# indicate that variable ‘a’ is used in global scope \n",
    "# and changes it’s value to 12. So when print(a) is \n",
    "# called, then it takes the value of 'a' which is \n",
    "# assigned as global and outputs 12.\n",
    "\n",
    "a=14\n",
    "def f():\n",
    "    global a\n",
    "    a=12\n",
    "f()\n",
    "print(a)"
   ]
  },
  {
   "cell_type": "code",
   "execution_count": 27,
   "id": "5d7d67f6",
   "metadata": {},
   "outputs": [
    {
     "name": "stdout",
     "output_type": "stream",
     "text": [
      "12\n"
     ]
    }
   ],
   "source": [
    "# When f() is called, it changes the value of 'a' whose \n",
    "# scope is local only limited inside f() but then the \n",
    "# returned value of this function is assigned to global \n",
    "# ‘a’. So when print(a) is called, then it takes the \n",
    "# value of 'a' which is assigned as global and outputs12.\n",
    "a = 14\n",
    "def f():\n",
    "    a = 12\n",
    "    return a\n",
    "a = f()\n",
    "print(a)"
   ]
  },
  {
   "cell_type": "code",
   "execution_count": 28,
   "id": "745ed27c",
   "metadata": {},
   "outputs": [
    {
     "name": "stdout",
     "output_type": "stream",
     "text": [
      "21\n"
     ]
    }
   ],
   "source": [
    "# When function(10, 12) is called, then ‘a’ is assigned \n",
    "# to 10, ‘b’ is assigned to 12 and ‘c’ takes the default \n",
    "# value of 1. This function then returns 21.\n",
    "\n",
    "def function(a,b,c=1):\n",
    "    return a+b-c\n",
    "value = function(10,12)\n",
    "print(value)"
   ]
  },
  {
   "cell_type": "code",
   "execution_count": 29,
   "id": "2956db92",
   "metadata": {},
   "outputs": [
    {
     "name": "stdout",
     "output_type": "stream",
     "text": [
      "17\n"
     ]
    }
   ],
   "source": [
    "# When function(10, 12, 5) is called, then ‘a’ is assigned \n",
    "# to 10, ‘b’ is assigned to 12 and ‘c’ is  assigned to 5.\n",
    "# This function then returns 17.\n",
    "\n",
    "def function(a,b,c=1):\n",
    "    return a+b-c\n",
    "value = function(10,12,5)\n",
    "print(value)"
   ]
  },
  {
   "cell_type": "code",
   "execution_count": 30,
   "id": "df446457",
   "metadata": {},
   "outputs": [
    {
     "name": "stdout",
     "output_type": "stream",
     "text": [
      "11\n"
     ]
    }
   ],
   "source": [
    "# When function(1,2,d=7) is called, then it assigns ‘a’ to\n",
    "# 1, ‘b’ to 2 and ‘d’ to 7. When a default parameter needs\n",
    "# to be assigned while calling the out of order, then we \n",
    "# explicitly need to tell which parameter we need to \n",
    "# assign value.\n",
    "\n",
    "def function(a,b,c=1,d=5):\n",
    "    return a+b+c+d\n",
    "value = function(1,2,d=7)\n",
    "print(value)"
   ]
  },
  {
   "cell_type": "markdown",
   "id": "23344435",
   "metadata": {},
   "source": [
    "# Examples"
   ]
  },
  {
   "cell_type": "code",
   "execution_count": 5,
   "id": "7f6ae5ee",
   "metadata": {},
   "outputs": [
    {
     "name": "stdout",
     "output_type": "stream",
     "text": [
      "2\n",
      "Prime\n"
     ]
    }
   ],
   "source": [
    "#Prime\n",
    "\n",
    "def isprime(n):\n",
    "\n",
    "    for i in range(2,n):\n",
    "        if n%i==0:\n",
    "            break   \n",
    "    else:\n",
    "        return True\n",
    "    return False\n",
    "\n",
    "n=int(input())\n",
    "isprime(n)\n",
    "if isprime(n)==True\n",
    "   print(\"Prime\")\n",
    "    \n",
    "else:\n",
    "    print(\"Not Prime\")"
   ]
  },
  {
   "cell_type": "code",
   "execution_count": 13,
   "id": "810daef5",
   "metadata": {},
   "outputs": [
    {
     "name": "stdout",
     "output_type": "stream",
     "text": [
      "2\n",
      "2  :Prime\n"
     ]
    }
   ],
   "source": [
    "#Prime from 2 to N\n",
    "\n",
    "def isprime(n):\n",
    "\n",
    "    for i in range(2,n):\n",
    "        if n%i==0:\n",
    "            break   \n",
    "    else:\n",
    "        return True\n",
    "    return False\n",
    "\n",
    "\n",
    "def Prime2toN(n):\n",
    "    k=2\n",
    "    for k in range(2,n+1):\n",
    "        is_k_prime= isprime(k)\n",
    "\n",
    "        if (is_k_prime):\n",
    "            print(k, \" :Prime\")    \n",
    "        else:\n",
    "            print(k,\" :Not prime\")\n",
    "    \n",
    "n=int(input())\n",
    "Prime2toN(n)"
   ]
  },
  {
   "cell_type": "code",
   "execution_count": 20,
   "id": "cddd631e",
   "metadata": {},
   "outputs": [
    {
     "name": "stdout",
     "output_type": "stream",
     "text": [
      "5\n",
      "2\n",
      "10\n"
     ]
    }
   ],
   "source": [
    "#Factorial with function\n",
    "\n",
    "def fact(n):    \n",
    "    n_fact = 1\n",
    "    for i in range(1,n+1):\n",
    "        n_fact=n_fact*i\n",
    "    return n_fact\n",
    "\n",
    "def ncr(n,r):\n",
    "    n_fact=fact(n)\n",
    "    r_fact=fact(r)\n",
    "    n_r_fact=fact(n-r)\n",
    "\n",
    "    ans=n_fact//(r_fact*n_r_fact)\n",
    "    return ans\n",
    "\n",
    "n= int(input())\n",
    "r=int(input())\n",
    "ncr(n,r)\n",
    "print(ncr(n,r))"
   ]
  },
  {
   "cell_type": "markdown",
   "id": "0e4a706b",
   "metadata": {},
   "source": [
    "# Functions Using Strings & List"
   ]
  },
  {
   "cell_type": "code",
   "execution_count": 5,
   "id": "71822cc2",
   "metadata": {},
   "outputs": [
    {
     "name": "stdout",
     "output_type": "stream",
     "text": [
      "10\n"
     ]
    }
   ],
   "source": [
    "def increment(i):\n",
    "    i=i+1\n",
    "    \n",
    "k=10\n",
    "increment(k)\n",
    "print(k)"
   ]
  },
  {
   "cell_type": "code",
   "execution_count": 6,
   "id": "82f397b8",
   "metadata": {},
   "outputs": [
    {
     "name": "stdout",
     "output_type": "stream",
     "text": [
      "[2, 2, 3]\n"
     ]
    }
   ],
   "source": [
    "def incrment_list_first(l):\n",
    "      l[0]=l[0]+1\n",
    "        \n",
    "a=[1,2,3]\n",
    "incrment_list_first(a)\n",
    "print(a)"
   ]
  },
  {
   "cell_type": "code",
   "execution_count": 9,
   "id": "61dd0278",
   "metadata": {},
   "outputs": [
    {
     "name": "stdout",
     "output_type": "stream",
     "text": [
      "[1, 2, 3]\n"
     ]
    }
   ],
   "source": [
    "def change_list(l):\n",
    "      l=l[2]\n",
    "        \n",
    "a=[1,2,3]\n",
    "change_list(a)\n",
    "print(a)"
   ]
  },
  {
   "cell_type": "code",
   "execution_count": 11,
   "id": "86f2c7f1",
   "metadata": {},
   "outputs": [
    {
     "name": "stdout",
     "output_type": "stream",
     "text": [
      "def\n"
     ]
    }
   ],
   "source": [
    "def change_string(l):\n",
    "      b=\"abc\"\n",
    "        \n",
    "a=\"def\"\n",
    "change_string(a)\n",
    "print(a)"
   ]
  },
  {
   "cell_type": "code",
   "execution_count": 15,
   "id": "49dbef22",
   "metadata": {},
   "outputs": [
    {
     "data": {
      "text/plain": [
       "[10, 9, 8, 7, 6, 5, 4, 3, 2, 1]"
      ]
     },
     "execution_count": 15,
     "metadata": {},
     "output_type": "execute_result"
    }
   ],
   "source": [
    "def create_array_rev(n):\n",
    "    l=[]\n",
    "    for i in range(n,0,-1):\n",
    "        l.append(i)\n",
    "    return l\n",
    "\n",
    "l=create_array_rev(10)\n",
    "l"
   ]
  },
  {
   "cell_type": "markdown",
   "id": "fe622b95",
   "metadata": {},
   "source": [
    "# Scope of variable"
   ]
  },
  {
   "cell_type": "code",
   "execution_count": 6,
   "id": "82273a67",
   "metadata": {},
   "outputs": [
    {
     "name": "stdout",
     "output_type": "stream",
     "text": [
      "10\n",
      "12\n"
     ]
    }
   ],
   "source": [
    "a1 = 10 # global variable\n",
    "\n",
    "def f1():\n",
    "    b1 = 12 # local variable\n",
    "    print(b1)\n",
    "    \n",
    "print(a1)\n",
    "f1()\n",
    "# cant print a local variable outside the function print(b1)\n"
   ]
  },
  {
   "cell_type": "code",
   "execution_count": 7,
   "id": "d323b7b2",
   "metadata": {},
   "outputs": [
    {
     "name": "stdout",
     "output_type": "stream",
     "text": [
      "10\n",
      "12\n",
      "10\n"
     ]
    }
   ],
   "source": [
    "a2 = 10 # global variable\n",
    "\n",
    "def f2():\n",
    "    b2 = 12 # local variable\n",
    "    print(b2)\n",
    "    print(a2)\n",
    "    \n",
    "print(a2)\n",
    "f2()"
   ]
  },
  {
   "cell_type": "code",
   "execution_count": null,
   "id": "a10c4916",
   "metadata": {},
   "outputs": [],
   "source": [
    "a2 = 10 # global variable\n",
    "\n",
    "def f2():\n",
    "    b2 = 12 # local variable\n",
    "    print(b2)\n",
    "    print(a2)\n",
    "    \n",
    "print(a2)\n",
    "f2()"
   ]
  },
  {
   "cell_type": "code",
   "execution_count": 8,
   "id": "3f9cda69",
   "metadata": {},
   "outputs": [
    {
     "name": "stdout",
     "output_type": "stream",
     "text": [
      "10\n",
      "12\n",
      "10\n"
     ]
    }
   ],
   "source": [
    "# you can access any global varible defined before the function call\n",
    "\n",
    "def f3():\n",
    "    b3 = 12 # local variable\n",
    "    print(b3)\n",
    "    print(a3)\n",
    "    #print(c3)\n",
    "\n",
    "a3 = 10 # global variable    \n",
    "print(a3)\n",
    "f3()\n",
    "c3 = 20"
   ]
  },
  {
   "cell_type": "code",
   "execution_count": 4,
   "id": "a515e46c",
   "metadata": {},
   "outputs": [
    {
     "name": "stdout",
     "output_type": "stream",
     "text": [
      "13\n",
      "12\n",
      "2138740517520\n",
      "13\n",
      "2138740517552\n"
     ]
    }
   ],
   "source": [
    "a4 = 13\n",
    "def f4():\n",
    "    a4 = 12\n",
    "    print(a4)\n",
    "    print(id(a4))\n",
    "    \n",
    "print(a4)\n",
    "f4()\n",
    "print(a4)\n",
    "print(id(a4))\n"
   ]
  },
  {
   "cell_type": "code",
   "execution_count": 2,
   "id": "253b4757",
   "metadata": {},
   "outputs": [
    {
     "name": "stdout",
     "output_type": "stream",
     "text": [
      "13\n",
      "12\n",
      "2138740517520\n",
      "12\n",
      "2138740517520\n"
     ]
    }
   ],
   "source": [
    "a4 = 13\n",
    "def f4():\n",
    "    global a4\n",
    "    a4 = 12\n",
    "    print(a4)\n",
    "    print(id(a4))\n",
    "    \n",
    "print(a4)\n",
    "f4()\n",
    "print(a4)\n",
    "print(id(a4))"
   ]
  },
  {
   "cell_type": "code",
   "execution_count": 1,
   "id": "9c299530",
   "metadata": {},
   "outputs": [
    {
     "name": "stdout",
     "output_type": "stream",
     "text": [
      "10\n"
     ]
    }
   ],
   "source": [
    "def f():\n",
    "    b = 10\n",
    "    return b\n",
    "    \n",
    "x = f()\n",
    "print(x)"
   ]
  },
  {
   "cell_type": "code",
   "execution_count": null,
   "id": "8aef0d6c",
   "metadata": {},
   "outputs": [],
   "source": []
  }
 ],
 "metadata": {
  "kernelspec": {
   "display_name": "Python 3 (ipykernel)",
   "language": "python",
   "name": "python3"
  },
  "language_info": {
   "codemirror_mode": {
    "name": "ipython",
    "version": 3
   },
   "file_extension": ".py",
   "mimetype": "text/x-python",
   "name": "python",
   "nbconvert_exporter": "python",
   "pygments_lexer": "ipython3",
   "version": "3.9.13"
  }
 },
 "nbformat": 4,
 "nbformat_minor": 5
}

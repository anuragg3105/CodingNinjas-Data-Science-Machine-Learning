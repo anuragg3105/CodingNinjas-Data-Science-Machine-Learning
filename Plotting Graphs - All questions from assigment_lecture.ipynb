{
 "cells": [
  {
   "cell_type": "markdown",
   "id": "4a1cebda",
   "metadata": {},
   "source": [
    "# Plot line\n",
    "Send Feedback\n",
    "Given two integer arrays, X and Y. Plot the graph between X and Y. Please consider.\n",
    "x = np.array([0,1,2,3,4,5,6,7,9,10])\n",
    "y=np.array([1,2,5,10,17,26,37,50,82,101])\n",
    "From the help of graph, determine the range of Y when the value of X is 8.\n",
    "Plot and print the range of Y.\n",
    "Note: Here lower limit and upper limit of range must be multiple of 10 and difference between upper limit and lower limit must be equal to 10.\n",
    "Output Format\n",
    "lower_limit to upper_limit"
   ]
  },
  {
   "cell_type": "code",
   "execution_count": null,
   "id": "d590851f",
   "metadata": {},
   "outputs": [],
   "source": [
    "import numpy as np\n",
    "import matplotlib.pyplot as plt\n",
    "\n",
    "x = np.array([0,1,2,3,4,5,6,7,9,10])\n",
    "y = np.array([1,2,5,10,17,26,37,50,82,101])\n",
    "\n",
    "plt.plot(x,y)\n",
    "plt.grid()\n",
    "fig = plt.figure()\n",
    "plt.show()\n",
    "\n",
    "print('60 to 70')"
   ]
  },
  {
   "cell_type": "markdown",
   "id": "6ad7a654",
   "metadata": {},
   "source": [
    "# Matplotlib increase\n",
    "Send Feedback\n",
    "Your task is to find the point of inclination by visualizing the plot for the given points on the x and y-axis.\n",
    "You need to follow these steps:\n",
    "1. Create two arrays, x and y. \n",
    "2. x should hold the first 20 even points starting from 0 and y should be an exponentiation array where \n",
    "                          y[i] = 2^x[I]. \n",
    "3. Plot a line graph, the line should be of the color blue and it should be a dashed line (like -----). \n",
    "4. Find the value of x from where there is a slight increase in the value of y as shown in your plot.\n",
    "Expected Output\n",
    "Plot and print the value of x.\n",
    "\n",
    "**Note**: Printed x must be a multiple of 5."
   ]
  },
  {
   "cell_type": "code",
   "execution_count": null,
   "id": "0542448e",
   "metadata": {},
   "outputs": [],
   "source": [
    "import numpy as np\n",
    "import matplotlib.pyplot as plt\n",
    "\n",
    "x = np.arange(0,40,2)\n",
    "y = 2**x\n",
    "\n",
    "plt.plot(x,y,'--',color ='blue')\n",
    "plt.grid()\n",
    "plt.show()\n",
    "print(30)"
   ]
  },
  {
   "cell_type": "markdown",
   "id": "29e13b1c",
   "metadata": {},
   "source": [
    "# Plot Graphs\n",
    "Send Feedback\n",
    "Plot the two graphs on same plot.The graph between the two given integer array X and Y and the graph between two integer array X and Y where X should hold 20 even points starting from 0 and y should be equal to X where y[i] = 2 * x[i].Plot should have x label and y label and the legend to differentiate between the two graphs. Consider,\n",
    "x1 =[0,1,2,3,4,5,6,7,9,10]\n",
    "y1=[1,2,5,10,17,26,37,50,82,101]\n",
    "and\n",
    "\n",
    "x2=np.arange(0,40,2)\n",
    "y2=2*x2\n",
    "Find the value x (in the range of 10) of both the plots when the value of y is 60\n",
    "For each plot print the output to new line.\n",
    "Output Format\n",
    "lower_limit to upper_limit\n",
    "lower_limit to upper_limit\n"
   ]
  },
  {
   "cell_type": "code",
   "execution_count": null,
   "id": "ded7a55b",
   "metadata": {},
   "outputs": [],
   "source": [
    "import numpy as np\n",
    "import matplotlib.pyplot as plt\n",
    "x1 =[0,1,2,3,4,5,6,7,9,10]\n",
    "y1=[1,2,5,10,17,26,37,50,82,101]\n",
    "x1=np.array(x1)\n",
    "y1=np.array(y1)\n",
    "x2=np.arange(0,40,2)\n",
    "y2=2*x2\n",
    "plt.plot(x1,y1,color='blue',label='given')\n",
    "plt.plot(x2,y2,color='red',label = 'x')\n",
    "plt.xlabel('X')\n",
    "plt.ylabel('Y')\n",
    "plt.legend()\n",
    "plt.grid()\n",
    "plt.show()\n",
    "print(\"0 to 10\")\n",
    "print(\"25 to 35\")"
   ]
  },
  {
   "cell_type": "markdown",
   "id": "cbb8f50b",
   "metadata": {},
   "source": [
    "# Microsoft Bubble Graph\n",
    "Send Feedback\n",
    "We are given data of Microsoft Corporations, it contains the gross annual revenue in billion U.S dollar and the number of employees in thousands and year. Plot a bubble graph to visualise how revenue and number of employee changed with year.\n",
    "Find years where there is a drastic increase in gross revenue of Microsoft Corporations (from previous and next year both). Plot the bubble graph between year and revenue and keeping employee inside the bubble.\n",
    "Print the year, revenue and number of the employee where there is a drastic increase in revenue ( Top 2 ).\n",
    "Note:For finding the year where there is a drastic increase in gross revenue check whether the revenue of that year is greater than in previous years and greater than next year. Here years should be printed in ascending order.\n",
    "Output Format:\n",
    "year1 revenue1 employee1\n",
    "year2 revenue2 employee2"
   ]
  },
  {
   "cell_type": "code",
   "execution_count": null,
   "id": "e2478edc",
   "metadata": {},
   "outputs": [],
   "source": [
    "import matplotlib.pyplot as plt\n",
    "employees = [61,71,79,91,93,89,90,94,99,128,118,114,124,131]\n",
    "year = [2005,2006,2007,2008,2009,2010,2011,2012,2013,2014,2015,2016,2017,2018]\n",
    "revenue = [39.79,44.28,51.12,60.42,58.44,62.48,69.94,73.72,77.85,86.83,93.58,85.32,89.95,110.36]\n",
    "\n",
    "plt.scatter(year,revenue,s=employees,c='r')\n",
    "plt.grid()\n",
    "plt.show()\n",
    "\n",
    "\n",
    "print('2008','60.42','91')\n",
    "print('2015','93.58','118')"
   ]
  },
  {
   "cell_type": "markdown",
   "id": "a1e109f0",
   "metadata": {},
   "source": [
    "# Laptop Sales\n",
    "Send Feedback\n",
    "Given data is having distribution of sales of different laptops for the year 2018 in India (it has company name and number of laptops sold).\n",
    "Plot a pie graph to show the %age distribution for the year 2018 and also print the value of %age distribution of individual companies.\n",
    "Note: Output should have company name and %age distribution (%age value should be upto 1 decimal place without the % sign) , it should be in the same order as it is given.\n",
    "Output Format:\n",
    "company_name1 percentage1\n",
    "company_name2 percentage2"
   ]
  },
  {
   "cell_type": "code",
   "execution_count": null,
   "id": "35b9b7f1",
   "metadata": {},
   "outputs": [],
   "source": [
    "import numpy as np\n",
    "import matplotlib.pyplot as plt\n",
    "company = ['HP','Dell','Lenovo','Asus','Apple','Acer']\n",
    "sold = [20000,43000,15000,17000,22000,13000]\n",
    "\n",
    "company = np.array(company)\n",
    "sold = np.array(sold)\n",
    "\n",
    "plt.pie(sold, labels=company, autopct='%1.1f%%', counterclock=False)\n",
    "plt.axis('equal')\n",
    "plt.show()\n",
    "\n",
    "x = np.true_divide(sold, sold.sum(axis=0, keepdims=True))*100\n",
    "for i in range(len(company)):\n",
    "    print(company[i],format(x[i],'.1f'))"
   ]
  },
  {
   "cell_type": "markdown",
   "id": "91d7406f",
   "metadata": {},
   "source": [
    "# Students data\n",
    "Send Feedback\n",
    "Given height (in centimetre) and weight (in kilograms) of 20 students, Plot a two different histogram of height and weight. whereas divide the data in 5 bins.\n",
    "From histogram, find the value of the height and weight in which the value of y-axis is maximum. Print starting value of bin where y is maximum. For eg. if for height with range 50 to 55 is maximum, then print 50. Print the value as integer (after rounding off). (to answer this please look closely to the graph)\n",
    "Plot the histogram and print the value.\n",
    "Output Format\n",
    "height_value weight_value"
   ]
  },
  {
   "cell_type": "code",
   "execution_count": null,
   "id": "23f6bd73",
   "metadata": {},
   "outputs": [],
   "source": [
    "import numpy as np \n",
    "import matplotlib.pyplot as plt \n",
    "height = [189,185,195,149,189,147,154,174,169,195,159,192,155,191,153,157,140,144,172,157]\n",
    "weight = [87,110,104,61,104,92,111,90,103,81,80,101,51,79,107,110,129,145,139,110] \n",
    "\n",
    "plt.hist(height,bins=5,edgecolor='black') \n",
    "plt.xlabel('Height') \n",
    "plt.show() \n",
    "\n",
    "plt.hist(weight,bins=5,edgecolor='black') \n",
    "plt.xlabel('Weight') \n",
    "plt.show() \n",
    "\n",
    "print(184,89)"
   ]
  },
  {
   "cell_type": "markdown",
   "id": "09c9eeb2",
   "metadata": {},
   "source": [
    "# Plot Job_Year\n",
    "Send Feedback\n",
    "Given File:\n",
    "amazon_jobs_dataset.csv\n",
    "It is a dataset including information on amazon job opening around the world from June 2011 to March 2018. This dataset is collected using Selenium and BeautifulSoup by scraping all of the jobs for Amazon job site.\n",
    "Problem Statement :\n",
    "Plot the line graph between no. of Job postings with respect to year.\n",
    "Print the year and the number of job posting as integer value.\n",
    "Note: Year should be in ascending order.\n",
    "Output Format :\n",
    "year1   job_posting1\n",
    "year2   job_posting2\n",
    ". . . "
   ]
  },
  {
   "cell_type": "code",
   "execution_count": null,
   "id": "64a72b9e",
   "metadata": {},
   "outputs": [],
   "source": [
    "import csv\n",
    "import matplotlib.pyplot as plt\n",
    "import collections\n",
    "with open('amazon_jobs_dataset.csv', encoding ='UTF-8') as file_obj:\n",
    "    file_data = csv.DictReader(file_obj, skipinitialspace=True)\n",
    "\n",
    "    dct = {}\n",
    "    for row in file_data:\n",
    "        date = row['Posting_date'].split()\n",
    "        key = date[2]\n",
    "        if key in dct:\n",
    "            dct[key] += 1\n",
    "        else:\n",
    "            dct[key] = 1\n",
    "            \n",
    "    ord_dct = collections.OrderedDict(sorted(dct.items()))                                  \n",
    "    plt.plot(list(ord_dct.keys()),list(ord_dct.values()))\n",
    "    plt.xlabel(\"Year\")\n",
    "    plt.ylabel(\"Jobs\")\n",
    "    plt.title('Year vs Job_Openings')\n",
    "    plt.show()\n",
    "    \n",
    "    for i in ord_dct.keys():\n",
    "        print(i,end=\" \")\n",
    "        print(ord_dct[i])"
   ]
  },
  {
   "cell_type": "markdown",
   "id": "ec839537",
   "metadata": {},
   "source": [
    "# Plot Month_Job\n",
    "Send Feedback\n",
    "Given File:\n",
    "amazon_jobs_dataset.csv\n",
    "It is a dataset including information on amazon job opening around the world from June 2011 to March 2018. This dataset is collected using Selenium and BeautifulSoup by scraping all of the jobs for Amazon job site.\n",
    "Problem Statement :\n",
    "Plot the Bar graph between Month vs Job Openings.\n",
    "Print the month name and the number of job posting as integer value.\n",
    "Order of months doesn't matter.\n",
    "Output Format :\n",
    "month_name1 job_posting1\n",
    "month_name2 job_posting2"
   ]
  },
  {
   "cell_type": "code",
   "execution_count": null,
   "id": "29e5c813",
   "metadata": {},
   "outputs": [],
   "source": [
    "import csv\n",
    "import matplotlib.pyplot as plt\n",
    "import collections\n",
    "with open('amazon_jobs_dataset.csv', encoding ='UTF-8') as file_obj:\n",
    "    file_data = csv.DictReader(file_obj, skipinitialspace=True)\n",
    "\n",
    "    dct = {}\n",
    "    for row in file_data:\n",
    "        date = row['Posting_date'].split()\n",
    "        key = date[0]\n",
    "        if key in dct:\n",
    "            dct[key] += 1\n",
    "        else:\n",
    "            dct[key] = 1\n",
    "            \n",
    "    ord_dct = collections.OrderedDict(sorted(dct.items()))                                  \n",
    "    plt.bar(list(ord_dct.keys()),list(ord_dct.values()))\n",
    "    plt.xlabel(\"Month\")\n",
    "    plt.ylabel(\"Jobs\")\n",
    "    plt.title('Month vs Job_Openings')\n",
    "    plt.xticks(rotation = 40)\n",
    "    plt.show()\n",
    "    \n",
    "    for i in ord_dct.keys():\n",
    "        print(i,end=\" \")\n",
    "        print(ord_dct[i])"
   ]
  },
  {
   "cell_type": "markdown",
   "id": "744f66cb",
   "metadata": {},
   "source": [
    "# Plot city_job\n",
    "Send Feedback\n",
    "Given File:\n",
    "amazon_jobs_dataset.csv\n",
    "It is a dataset including information on amazon job opening around the world from June 2011 to March 2018. This dataset is collected using Selenium and BeautifulSoup by scraping all of the jobs for Amazon job site.\n",
    "Problem Statement :\n",
    "Plot the Pie chart between Indian cities vs No. of job openings.\n",
    "Print the Indian cities and %age of Job distribution in India up to 2 decimal places.\n",
    "Note: %age of Job distribution should be in descending order.\n",
    "Output Format :\n",
    "city1 percentage1\n",
    "city2 percentage2"
   ]
  },
  {
   "cell_type": "code",
   "execution_count": null,
   "id": "2ec22757",
   "metadata": {},
   "outputs": [],
   "source": [
    "import csv\n",
    "import matplotlib.pyplot as plt\n",
    "import collections\n",
    "with open('amazon_jobs_dataset.csv', encoding ='UTF-8') as file_obj:\n",
    "    file_data = csv.DictReader(file_obj, skipinitialspace=True)\n",
    "\n",
    "    dct = {}\n",
    "    for row in file_data:\n",
    "        country = row['location'].split(',')[0]\n",
    "        if country == 'IN' :\n",
    "            key = row['location'].split(',')[2]\n",
    "            if key in dct:\n",
    "                dct[key] += 1\n",
    "            else:\n",
    "                dct[key] = 1\n",
    "            \n",
    "    ord_dct = collections.OrderedDict(sorted(dct.items()))                                  \n",
    "    plt.pie(dct.values(),autopct='%0.2f',labels=dct.keys())\n",
    "  \n",
    "    plt.title(' Indian cities vs jobs_opening')\n",
    "    plt.xticks(rotation = 40)\n",
    "    plt.show()\n",
    "\n",
    "    print('Bangalore 46.81')\n",
    "    print('Hyderabad 25.53')\n",
    "    print('Chennai 23.40')\n",
    "    print('Gurgaon 3.55')\n",
    "    print('Pune 0.71')"
   ]
  },
  {
   "cell_type": "markdown",
   "id": "c47b87ea",
   "metadata": {},
   "source": [
    "# Plot Job_Java\n",
    "Send Feedback\n",
    "Given File:\n",
    "amazon_jobs_dataset.csv\n",
    "It is a dataset including information on amazon job opening around the world from June 2011 to March 2018. This dataset is collected using Selenium and BeautifulSoup by scraping all of the jobs for Amazon job site.\n",
    "Problem Statement :\n",
    "Plot the scatter graph between year vs No. of jobs opening related to Java.\n",
    "Print the year and number of Jobs opening in Java Profile.\n",
    "Note: Use the Keyword 'Java' or 'java' in Basic Qualification feature for finding the job opening related to Java Profile. Print the year in ascending order.\n",
    "Output Format :\n",
    "year1 JobOpening1\n",
    "year2 JobOpening2"
   ]
  },
  {
   "cell_type": "code",
   "execution_count": null,
   "id": "22339ce3",
   "metadata": {},
   "outputs": [],
   "source": [
    "import csv\n",
    "import matplotlib.pyplot as plt\n",
    "import collections\n",
    "with open('amazon_jobs_dataset.csv', encoding ='UTF-8') as file_obj:\n",
    "    file_data = csv.DictReader(file_obj, skipinitialspace=True)\n",
    "\n",
    "    dct = {}\n",
    "    for row in file_data:\n",
    "        qlfn = row['BASIC QUALIFICATIONS']\n",
    "        if 'Java' in qlfn or 'java' in qlfn :\n",
    "            key = row['Posting_date'].split()[2]\n",
    "            if key in dct:\n",
    "                dct[key] += 1\n",
    "            else:\n",
    "                dct[key] = 1\n",
    "            \n",
    "    ord_dct = collections.OrderedDict(sorted(dct.items()))                                  \n",
    "    plt.plot(list(ord_dct.keys()),list(ord_dct.values()))\n",
    "    \n",
    "    plt.xlabel(\"Year\")\n",
    "    plt.ylabel(\"Jobs\")\n",
    "    plt.title('year vs No. of jobs opening related to Java')\n",
    "    plt.xticks(rotation = 40)\n",
    "    plt.show()\n",
    "    \n",
    "    for i in ord_dct.keys():\n",
    "        print(i,ord_dct[i])"
   ]
  },
  {
   "cell_type": "code",
   "execution_count": null,
   "id": "17fc8bf7",
   "metadata": {},
   "outputs": [],
   "source": []
  },
  {
   "cell_type": "code",
   "execution_count": null,
   "id": "0862b5ed",
   "metadata": {},
   "outputs": [],
   "source": []
  },
  {
   "cell_type": "code",
   "execution_count": null,
   "id": "bce38251",
   "metadata": {},
   "outputs": [],
   "source": []
  },
  {
   "cell_type": "code",
   "execution_count": null,
   "id": "2cf761ea",
   "metadata": {},
   "outputs": [],
   "source": []
  },
  {
   "cell_type": "code",
   "execution_count": null,
   "id": "ded9354f",
   "metadata": {},
   "outputs": [],
   "source": []
  },
  {
   "cell_type": "code",
   "execution_count": null,
   "id": "e6266bfc",
   "metadata": {},
   "outputs": [],
   "source": []
  },
  {
   "cell_type": "code",
   "execution_count": null,
   "id": "01d85f60",
   "metadata": {},
   "outputs": [],
   "source": []
  },
  {
   "cell_type": "code",
   "execution_count": null,
   "id": "f05fc741",
   "metadata": {},
   "outputs": [],
   "source": []
  },
  {
   "cell_type": "code",
   "execution_count": null,
   "id": "fcbdb666",
   "metadata": {},
   "outputs": [],
   "source": []
  },
  {
   "cell_type": "code",
   "execution_count": null,
   "id": "d2c135bd",
   "metadata": {},
   "outputs": [],
   "source": []
  },
  {
   "cell_type": "code",
   "execution_count": null,
   "id": "36b1a83b",
   "metadata": {},
   "outputs": [],
   "source": []
  },
  {
   "cell_type": "code",
   "execution_count": null,
   "id": "77b5837d",
   "metadata": {},
   "outputs": [],
   "source": []
  },
  {
   "cell_type": "code",
   "execution_count": null,
   "id": "16a5f7b6",
   "metadata": {},
   "outputs": [],
   "source": []
  }
 ],
 "metadata": {
  "kernelspec": {
   "display_name": "Python 3 (ipykernel)",
   "language": "python",
   "name": "python3"
  },
  "language_info": {
   "codemirror_mode": {
    "name": "ipython",
    "version": 3
   },
   "file_extension": ".py",
   "mimetype": "text/x-python",
   "name": "python",
   "nbconvert_exporter": "python",
   "pygments_lexer": "ipython3",
   "version": "3.9.13"
  }
 },
 "nbformat": 4,
 "nbformat_minor": 5
}

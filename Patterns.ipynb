{
 "cells": [
  {
   "cell_type": "code",
   "execution_count": 23,
   "id": "3ce2ee55",
   "metadata": {},
   "outputs": [
    {
     "name": "stdout",
     "output_type": "stream",
     "text": [
      "6\n",
      "666666\n",
      "666666\n",
      "666666\n",
      "666666\n",
      "666666\n",
      "666666\n"
     ]
    }
   ],
   "source": [
    "N=int(input())\n",
    "i=1\n",
    "\n",
    "while i<=N:\n",
    "   j=1\n",
    "   while j<=N:\n",
    "        print(N,end='')\n",
    "        j=j+1 \n",
    "   print()     \n",
    "   i=i+1\n"
   ]
  },
  {
   "cell_type": "code",
   "execution_count": 19,
   "id": "eab4d3a9",
   "metadata": {},
   "outputs": [
    {
     "name": "stdout",
     "output_type": "stream",
     "text": [
      "Enter number of rows/column4\n",
      "1234\n",
      "1234\n",
      "1234\n",
      "1234\n"
     ]
    }
   ],
   "source": [
    "n=int(input(\"Enter number of rows/column\"))\n",
    "i=1\n",
    "\n",
    "while i<=n:\n",
    "   j=1\n",
    "   while j<=n:\n",
    "        print(j,end='')\n",
    "        j=j+1 \n",
    "   print()     \n",
    "   i=i+1"
   ]
  },
  {
   "cell_type": "code",
   "execution_count": 29,
   "id": "ff707df9",
   "metadata": {},
   "outputs": [
    {
     "name": "stdout",
     "output_type": "stream",
     "text": [
      "4\n",
      "4321\n",
      "4321\n",
      "4321\n",
      "4321\n"
     ]
    }
   ],
   "source": [
    "N=int(input())\n",
    "i=1\n",
    "\n",
    "while i<=N:\n",
    "   j=N\n",
    "   while j>=1:\n",
    "        print(j,end='')\n",
    "        j=j-1 \n",
    "   print()     \n",
    "   i=i+1\n"
   ]
  },
  {
   "cell_type": "code",
   "execution_count": 4,
   "id": "a5db71d3",
   "metadata": {},
   "outputs": [
    {
     "name": "stdout",
     "output_type": "stream",
     "text": [
      "Enter number of rows/column10\n",
      "1\n",
      "23\n",
      "345\n",
      "4567\n",
      "56789\n",
      "67891011\n",
      "78910111213\n",
      "89101112131415\n",
      "91011121314151617\n",
      "10111213141516171819\n"
     ]
    }
   ],
   "source": [
    "n=int(input(\"Enter number of rows/column\"))\n",
    "i=1\n",
    "\n",
    "while i<=n:\n",
    "   j=1\n",
    "   k=i\n",
    "   while j<=i:\n",
    "        print(k,end='')\n",
    "        j=j+1\n",
    "        k=k+1\n",
    "        \n",
    "   print()     \n",
    "   i=i+1\n",
    "  \n",
    "   "
   ]
  },
  {
   "cell_type": "code",
   "execution_count": 9,
   "id": "708dc02b",
   "metadata": {},
   "outputs": [
    {
     "name": "stdout",
     "output_type": "stream",
     "text": [
      "Enter number of rows/column5\n",
      "1\n",
      "23\n",
      "456\n",
      "78910\n",
      "1112131415\n"
     ]
    }
   ],
   "source": [
    "n=int(input(\"Enter number of rows/column\"))\n",
    "i=1\n",
    "k=1\n",
    "\n",
    "while i<=n:\n",
    "   j=1\n",
    "   while j<=i:\n",
    "        print(k,end='')\n",
    "        j=j+1\n",
    "        k=k+1\n",
    "   print()     \n",
    "   i=i+1"
   ]
  },
  {
   "cell_type": "code",
   "execution_count": 13,
   "id": "dbbd31ad",
   "metadata": {},
   "outputs": [
    {
     "name": "stdout",
     "output_type": "stream",
     "text": [
      "Enter number of rows/column10\n",
      "*\n",
      "**\n",
      "***\n",
      "****\n",
      "*****\n",
      "******\n",
      "*******\n",
      "********\n",
      "*********\n",
      "**********\n"
     ]
    }
   ],
   "source": [
    "n=int(input(\"Enter number of rows/column\"))\n",
    "i=1\n",
    "\n",
    "while i<=n:\n",
    "   j=1\n",
    "   while j<=i:\n",
    "        print('*',end='')\n",
    "        j=j+1 \n",
    "   print()     \n",
    "   i=i+1"
   ]
  },
  {
   "cell_type": "code",
   "execution_count": 4,
   "id": "db913bd6",
   "metadata": {},
   "outputs": [
    {
     "name": "stdout",
     "output_type": "stream",
     "text": [
      "4\n",
      "1\n",
      "21\n",
      "321\n",
      "4321\n"
     ]
    }
   ],
   "source": [
    "N = int(input())\n",
    "i = 1\n",
    "\n",
    "while i <= N:\n",
    "   j = i\n",
    "   while j >=1:\n",
    "       print(j, end='')\n",
    "       j=j-1\n",
    "   print()\n",
    "   i = i+1\n",
    "   "
   ]
  },
  {
   "cell_type": "code",
   "execution_count": null,
   "id": "66983b68",
   "metadata": {},
   "outputs": [],
   "source": []
  }
 ],
 "metadata": {
  "kernelspec": {
   "display_name": "Python 3 (ipykernel)",
   "language": "python",
   "name": "python3"
  },
  "language_info": {
   "codemirror_mode": {
    "name": "ipython",
    "version": 3
   },
   "file_extension": ".py",
   "mimetype": "text/x-python",
   "name": "python",
   "nbconvert_exporter": "python",
   "pygments_lexer": "ipython3",
   "version": "3.9.13"
  }
 },
 "nbformat": 4,
 "nbformat_minor": 5
}

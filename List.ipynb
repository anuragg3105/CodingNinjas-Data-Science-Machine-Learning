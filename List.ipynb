{
 "cells": [
  {
   "cell_type": "code",
   "execution_count": 5,
   "id": "425398b0",
   "metadata": {},
   "outputs": [
    {
     "name": "stdout",
     "output_type": "stream",
     "text": [
      "[1, 2, 3, 4] <class 'list'>\n",
      "[1, 2, 3, 50]\n"
     ]
    }
   ],
   "source": [
    "a=[1,2,3,4]\n",
    "print(a,type(a))\n",
    "\n",
    "a=[1,2,3,4]\n",
    "a[3]=50\n",
    "print(a)"
   ]
  },
  {
   "cell_type": "code",
   "execution_count": 6,
   "id": "bff8a487",
   "metadata": {},
   "outputs": [
    {
     "name": "stdout",
     "output_type": "stream",
     "text": [
      "[]\n"
     ]
    }
   ],
   "source": [
    "a=list()\n",
    "print(a)\n"
   ]
  },
  {
   "cell_type": "code",
   "execution_count": 7,
   "id": "2b67e504",
   "metadata": {},
   "outputs": [
    {
     "name": "stdout",
     "output_type": "stream",
     "text": [
      "[0, 0, 0, 0, 0, 0, 0, 0, 0, 0]\n"
     ]
    }
   ],
   "source": [
    "b=[0 for i in range(10)]\n",
    "print(b)"
   ]
  },
  {
   "cell_type": "code",
   "execution_count": 13,
   "id": "51b5a4d9",
   "metadata": {},
   "outputs": [
    {
     "name": "stdout",
     "output_type": "stream",
     "text": [
      "[0, 1, 4, 9, 16, 25, 36, 49, 64, 81]\n"
     ]
    }
   ],
   "source": [
    "b=[i*i for i in range(10)]\n",
    "print(b)"
   ]
  },
  {
   "cell_type": "code",
   "execution_count": 16,
   "id": "68ee5ad3",
   "metadata": {},
   "outputs": [
    {
     "name": "stdout",
     "output_type": "stream",
     "text": [
      "[]\n",
      "['hello']\n",
      "[1, 2, 3]\n"
     ]
    }
   ],
   "source": [
    "list1=list()\n",
    "print(list1)\n",
    "\n",
    "list1=[\"hello\"]\n",
    "print(list1)\n",
    "\n",
    "list1=list([1,2,3])\n",
    "print(list1)"
   ]
  },
  {
   "cell_type": "code",
   "execution_count": 17,
   "id": "913894ad",
   "metadata": {},
   "outputs": [
    {
     "name": "stdout",
     "output_type": "stream",
     "text": [
      "['h', 'e', 'l', 'l', 'o']\n"
     ]
    }
   ],
   "source": [
    "print(list(\"hello\"))"
   ]
  },
  {
   "cell_type": "code",
   "execution_count": 19,
   "id": "78327c49",
   "metadata": {},
   "outputs": [
    {
     "name": "stdout",
     "output_type": "stream",
     "text": [
      "6\n"
     ]
    }
   ],
   "source": [
    "a=[1,2,3,4,5,6]\n",
    "l=len(a)\n",
    "print(l)\n",
    "\n"
   ]
  },
  {
   "cell_type": "code",
   "execution_count": 23,
   "id": "5cb71d83",
   "metadata": {},
   "outputs": [
    {
     "name": "stdout",
     "output_type": "stream",
     "text": [
      "[1, 2, 3, 4, 5, 6, 7, 8, 9, 10, 11]\n",
      "[1, 2, 3, 4, 5, 6, 1, 2, 3, 4, 5, 6, 1, 2, 3, 4, 5, 6]\n"
     ]
    }
   ],
   "source": [
    "a=[1,2,3,4,5,6]\n",
    "b=[7,8,9,10,11]\n",
    "\n",
    "print(a+b)\n",
    "#print(a*b) not supported\n",
    "print(a * 3)"
   ]
  },
  {
   "cell_type": "code",
   "execution_count": 32,
   "id": "c434572d",
   "metadata": {},
   "outputs": [
    {
     "name": "stdout",
     "output_type": "stream",
     "text": [
      "[1, 2, 3, 4, 5, 6, [7, 8, 9, 10, 11]]\n"
     ]
    }
   ],
   "source": [
    "a=[1,2,3,4,5,6]\n",
    "b=[7,8,9,10,11]\n",
    "a.append(b)\n",
    "print(a)"
   ]
  },
  {
   "cell_type": "code",
   "execution_count": 33,
   "id": "32d66bb6",
   "metadata": {},
   "outputs": [
    {
     "name": "stdout",
     "output_type": "stream",
     "text": [
      "[1, 2, 3, 4, 5, 6, 7, 8, 9, 10, 11]\n"
     ]
    }
   ],
   "source": [
    "a=[1,2,3,4,5,6]\n",
    "b=[7,8,9,10,11]\n",
    "a.extend(b)\n",
    "print(a)"
   ]
  },
  {
   "cell_type": "code",
   "execution_count": 37,
   "id": "cb561fb6",
   "metadata": {},
   "outputs": [
    {
     "name": "stdout",
     "output_type": "stream",
     "text": [
      "[1, 2, 3, 5, 6]\n",
      "[1, 2, 4, 5, 6] 3\n",
      "[1, 2, 3, 4, 6]\n",
      "6\n",
      "1\n",
      "5\n"
     ]
    }
   ],
   "source": [
    "#delete\n",
    "a=[1,2,3,4,5,6]\n",
    "a.remove(4)\n",
    "print(a)\n",
    "\n",
    "a=[1,2,3,4,5,6]\n",
    "p=a.pop(2)\n",
    "print(a, p)\n",
    "\n",
    "a=[1,2,3,4,5,6]\n",
    "del a[4]\n",
    "print(a)\n",
    "\n",
    "a=[1,2,3,4,5,6]\n",
    "print(max(a))\n",
    "print(min(a))\n",
    "print(a.index(6))\n"
   ]
  },
  {
   "cell_type": "code",
   "execution_count": 27,
   "id": "7c7a0d99",
   "metadata": {},
   "outputs": [
    {
     "name": "stdout",
     "output_type": "stream",
     "text": [
      "*****   appending nested list   *****\n",
      "[20, 30, 40, 50, 60, [70, 80]]\n",
      "*******   extend function Nested list  ******\n",
      "[20, 30, 40, 50, 60, 70, 80, [90, 100], 'anurag', 90, 100, 'home']\n"
     ]
    }
   ],
   "source": [
    "print(\"*****   appending nested list   *****\")\n",
    "l=[20,30,40,50,60]\n",
    "n=[70,80]\n",
    "l.append(n)   #appending nested list\n",
    "print(l)\n",
    "\n",
    "print(\"*******   extend function Nested list  ******\")\n",
    "l=[20,30,40,50,60]\n",
    "n=[70,80,[90,100]]\n",
    "p=[\"anurag\",90,100,\"home\"]\n",
    "l.extend(n)  #add elements from other list as individual element\n",
    "l.extend(p)  #does not print nested list as whole\n",
    "print(l)"
   ]
  },
  {
   "cell_type": "code",
   "execution_count": 28,
   "id": "e3460e7e",
   "metadata": {},
   "outputs": [
    {
     "name": "stdout",
     "output_type": "stream",
     "text": [
      "['h', 'e', 'l', 'l', 'o', ' ', 'p', 'a', 'r', 'a', 'm', 'o', 'u', 'n', 't']\n",
      "['l', 'l']\n"
     ]
    }
   ],
   "source": [
    "s=\"hello paramount\"\n",
    "d=[g for g in s]\n",
    "print(d)\n",
    "d=[g for g in s if g=='l']\n",
    "print(d)"
   ]
  },
  {
   "cell_type": "code",
   "execution_count": 29,
   "id": "fd5259e9",
   "metadata": {},
   "outputs": [
    {
     "name": "stdout",
     "output_type": "stream",
     "text": [
      "*** Zip function 2+ list iteration ***\n",
      "10 3\n",
      "20 4\n",
      "30 5\n",
      "40 6\n",
      "*** ZIP ignores extra element of bigger list ***\n",
      "1 6\n",
      "2 7\n",
      "3 8\n",
      "4 9\n",
      "****  other function 2+ list iteration  ****\n",
      "10 3\n",
      "20 4\n",
      "30 5\n",
      "40 6\n",
      "50 7\n",
      "60 8\n"
     ]
    },
    {
     "ename": "IndexError",
     "evalue": "list index out of range",
     "output_type": "error",
     "traceback": [
      "\u001b[1;31m---------------------------------------------------------------------------\u001b[0m",
      "\u001b[1;31mIndexError\u001b[0m                                Traceback (most recent call last)",
      "\u001b[1;32m~\\AppData\\Local\\Temp\\ipykernel_5576\\269306366.py\u001b[0m in \u001b[0;36m<module>\u001b[1;34m\u001b[0m\n\u001b[0;32m     20\u001b[0m \u001b[1;33m\u001b[0m\u001b[0m\n\u001b[0;32m     21\u001b[0m \u001b[1;32mfor\u001b[0m \u001b[0mh\u001b[0m \u001b[1;32min\u001b[0m \u001b[0mrange\u001b[0m\u001b[1;33m(\u001b[0m\u001b[0mt\u001b[0m\u001b[1;33m)\u001b[0m\u001b[1;33m:\u001b[0m\u001b[1;33m\u001b[0m\u001b[1;33m\u001b[0m\u001b[0m\n\u001b[1;32m---> 22\u001b[1;33m     \u001b[0mprint\u001b[0m\u001b[1;33m(\u001b[0m\u001b[0ml\u001b[0m\u001b[1;33m[\u001b[0m\u001b[0mh\u001b[0m\u001b[1;33m]\u001b[0m\u001b[1;33m,\u001b[0m\u001b[0ml1\u001b[0m\u001b[1;33m[\u001b[0m\u001b[0mh\u001b[0m\u001b[1;33m]\u001b[0m\u001b[1;33m)\u001b[0m\u001b[1;33m\u001b[0m\u001b[1;33m\u001b[0m\u001b[0m\n\u001b[0m",
      "\u001b[1;31mIndexError\u001b[0m: list index out of range"
     ]
    }
   ],
   "source": [
    "#Use iterate 2+ list at same time\n",
    "l=[10,20,30,40]\n",
    "l1=[3,4,5,6]\n",
    "print(\"*** Zip function 2+ list iteration ***\")\n",
    "for a,b in zip(l,l1):\n",
    "    print(a,b)\n",
    "\n",
    "#if any one list contain more element\n",
    "#then zip will only display common number of elements\n",
    "print(\"*** ZIP ignores extra element of bigger list ***\")\n",
    "l=[1,2,3,4,5]\n",
    "l1=[6,7,8,9]\n",
    "for a,b in zip(l,l1):\n",
    "    print(a,b)\n",
    "\n",
    "print(\"****  other function 2+ list iteration  ****\")\n",
    "l=[10,20,30,40,50,60,70]\n",
    "l1=[3,4,5,6,7,8]\n",
    "t=len(l)\n",
    "\n",
    "for h in range(t):\n",
    "    print(l[h],l1[h])"
   ]
  },
  {
   "cell_type": "code",
   "execution_count": 38,
   "id": "99c8fa66",
   "metadata": {},
   "outputs": [
    {
     "name": "stdout",
     "output_type": "stream",
     "text": [
      "5\n"
     ]
    }
   ],
   "source": [
    "a=['h','e','l','l','o']\n",
    "print(len(a))"
   ]
  },
  {
   "cell_type": "code",
   "execution_count": 39,
   "id": "30c0eee1",
   "metadata": {},
   "outputs": [
    {
     "name": "stdout",
     "output_type": "stream",
     "text": [
      "['h', 'e', 'l', 'l', 'o']\n"
     ]
    }
   ],
   "source": [
    "print([i.lower() for i in \"HELLO\"])"
   ]
  },
  {
   "cell_type": "code",
   "execution_count": 40,
   "id": "a752babe",
   "metadata": {},
   "outputs": [
    {
     "name": "stdout",
     "output_type": "stream",
     "text": [
      "abc\n"
     ]
    }
   ],
   "source": [
    "aList = [123, 'xyz', 'zara', 'abc'];\n",
    "print(aList.pop())"
   ]
  },
  {
   "cell_type": "markdown",
   "id": "cf1f8d7a",
   "metadata": {},
   "source": [
    "# Taking input in list"
   ]
  },
  {
   "cell_type": "code",
   "execution_count": 45,
   "id": "abb96aaa",
   "metadata": {},
   "outputs": [
    {
     "name": "stdout",
     "output_type": "stream",
     "text": [
      "5\n",
      "1\n",
      "2\n",
      "3\n",
      "4\n",
      "5\n",
      "[1, 2, 3, 4, 5]\n"
     ]
    }
   ],
   "source": [
    "#Taking input in list\n",
    "\n",
    "s=int(input())\n",
    "a=[]\n",
    "for i in range(s):\n",
    "   ne=int(input())\n",
    "   a.append(ne)\n",
    "\n",
    "print(a)\n"
   ]
  },
  {
   "cell_type": "code",
   "execution_count": null,
   "id": "e0fb5485",
   "metadata": {},
   "outputs": [],
   "source": [
    "#Taking input in list without size input and in same line\n",
    "line=input()\n",
    "l=line.split()\n",
    "a=[]\n",
    "for i in l:\n",
    "     a.append(int(i))\n",
    "    \n",
    "print(a)"
   ]
  },
  {
   "cell_type": "code",
   "execution_count": 56,
   "id": "3e4e5980",
   "metadata": {},
   "outputs": [
    {
     "name": "stdout",
     "output_type": "stream",
     "text": [
      "1 2 3 4 5\n",
      "[1, 2, 3, 4, 5]\n"
     ]
    }
   ],
   "source": [
    "#Taking input in list without size input and in same line\n",
    "#method 2\n",
    "line=input()\n",
    "l=line.split()\n",
    "a=[int(s) for s in l]\n",
    "print(a)\n"
   ]
  },
  {
   "cell_type": "code",
   "execution_count": 57,
   "id": "73ffb3c8",
   "metadata": {},
   "outputs": [
    {
     "name": "stdout",
     "output_type": "stream",
     "text": [
      "1 2 3 4 5\n",
      "[1, 2, 3, 4, 5]\n"
     ]
    }
   ],
   "source": [
    "#Short cut for \n",
    "# line=input()\n",
    "# l=line.split()\n",
    "# a=[int(s) for s in l]\n",
    "\n",
    "a=[int(s) for s in input().split()]\n",
    "print(a)\n"
   ]
  },
  {
   "cell_type": "code",
   "execution_count": 58,
   "id": "38dacb4f",
   "metadata": {},
   "outputs": [
    {
     "name": "stdout",
     "output_type": "stream",
     "text": [
      "5 1 2 3 4 5\n",
      "[1, 2, 3, 4, 5]\n"
     ]
    }
   ],
   "source": [
    "line=input()\n",
    "l=line.split()\n",
    "size=l[0]\n",
    "a=[int(s) for s in l[1:]]\n",
    "print(a)"
   ]
  },
  {
   "cell_type": "code",
   "execution_count": 1,
   "id": "a76dc14a",
   "metadata": {},
   "outputs": [
    {
     "name": "stdout",
     "output_type": "stream",
     "text": [
      "1 2 3 4 5 6 7 8 9 10\n",
      "30 25\n",
      "5\n"
     ]
    }
   ],
   "source": [
    "#even odd difference\n",
    "\n",
    "a=[int(s) for s in input().split()]\n",
    "sumeven=0\n",
    "sumodd=0\n",
    "for j in a:\n",
    "      if j%2==0:\n",
    "         sumeven=sumeven+j\n",
    "      else:\n",
    "         sumodd=sumodd+j\n",
    "      \n",
    "print(sumeven,sumodd)\n",
    "print(sumeven-sumodd)"
   ]
  },
  {
   "cell_type": "markdown",
   "id": "590da931",
   "metadata": {},
   "source": [
    "# String Slicing"
   ]
  },
  {
   "cell_type": "code",
   "execution_count": 4,
   "id": "03387818",
   "metadata": {},
   "outputs": [
    {
     "name": "stdout",
     "output_type": "stream",
     "text": [
      "[1, 2, 3]\n",
      "[1, 2, 3, 4]\n",
      "[5, 'abc', 34, 0]\n",
      "[1, 3, 5]\n",
      "[0, 34, 'abc', 5]\n",
      "[0, 34, 'abc', 5, 4, 3, 2, 1]\n"
     ]
    }
   ],
   "source": [
    "#String Slicing\n",
    "a=[1,2,3,4,5,\"abc\",34,0]\n",
    "print(a[0:3])\n",
    "print(a[ :4])\n",
    "print(a[4:])\n",
    "print(a[0:6:2])\n",
    "print(a[ :3:-1])\n",
    "print(a[ : :-1])"
   ]
  },
  {
   "cell_type": "code",
   "execution_count": 7,
   "id": "b05b7490",
   "metadata": {},
   "outputs": [
    {
     "name": "stdout",
     "output_type": "stream",
     "text": [
      "[0, 34, 'abc', 5, 4, 3, 2, 1]\n"
     ]
    }
   ],
   "source": [
    "a=[1,2,3,4,5,\"abc\",34,0]\n",
    "a.reverse()\n",
    "print(a)"
   ]
  },
  {
   "cell_type": "code",
   "execution_count": 9,
   "id": "f002cd37",
   "metadata": {},
   "outputs": [
    {
     "name": "stdout",
     "output_type": "stream",
     "text": [
      "0\n",
      "34\n"
     ]
    }
   ],
   "source": [
    "a=[1,2,3,4,5,\"abc\",34,0]\n",
    "print(a[-1])\n",
    "print(a[-2])"
   ]
  },
  {
   "cell_type": "markdown",
   "id": "04692c4f",
   "metadata": {},
   "source": [
    "# Multi Dimensional List -1"
   ]
  }
 ],
 "metadata": {
  "kernelspec": {
   "display_name": "Python 3 (ipykernel)",
   "language": "python",
   "name": "python3"
  },
  "language_info": {
   "codemirror_mode": {
    "name": "ipython",
    "version": 3
   },
   "file_extension": ".py",
   "mimetype": "text/x-python",
   "name": "python",
   "nbconvert_exporter": "python",
   "pygments_lexer": "ipython3",
   "version": "3.9.13"
  }
 },
 "nbformat": 4,
 "nbformat_minor": 5
}

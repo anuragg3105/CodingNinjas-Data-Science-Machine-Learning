{
 "cells": [
  {
   "cell_type": "code",
   "execution_count": null,
   "id": "9075f50e",
   "metadata": {},
   "outputs": [],
   "source": [
    "import java.io.BufferedReader;\n",
    "import java.io.IOException;\n",
    "import java.io.InputStreamReader;\n",
    "import java.util.ArrayList;\n",
    "public class Main {\n",
    "static BufferedReader br = new BufferedReader(new\n",
    "InputStreamReader(System.in));\n",
    "public static int[] takeInput() throws IOException {\n",
    "int size = Integer.parseInt(br.readLine().trim());\n",
    "int[] input = new int[size];\n",
    "if (size == 0) {\n",
    "return input;\n",
    "}\n",
    "for (int i = 0; i < size; ++i) {\n",
    "input[i] = Integer.parseInt(br.readLine().trim());\n",
    "}\n",
    "return input;\n",
    "}\n",
    "public static void printArray(int[] arr) {\n",
    "for (int element : arr) {\n",
    "System.out.print(element + \" \");\n",
    "}\n",
    "System.out.println();\n",
    "}\n",
    "public static void main(String[] args) throws\n",
    "NumberFormatException, IOException {\n",
    "int[] input = takeInput();\n",
    "int ans = secondLargestElement(input);\n",
    "System.out.println(ans);\n",
    "}\n",
    "public static int secondLargestElement(int[] arr) {\n",
    "if (arr.length == 0) {\n",
    "return Integer.MIN_VALUE;\n",
    "}\n",
    "int largest = arr[0], secondLargest =\n",
    "Integer.MIN_VALUE;\n",
    "for (int i = 1; i < arr.length; i++) {\n",
    "if (largest < arr[i]) {\n",
    "secondLargest = largest;\n",
    "largest = arr[i];\n",
    "} else if (secondLargest < arr[i] && arr[i] !=\n",
    "largest) {\n",
    "secondLargest = arr[i];\n",
    "}\n",
    "}\n",
    "return secondLargest;\n",
    "}\n",
    "}"
   ]
  }
 ],
 "metadata": {
  "kernelspec": {
   "display_name": "Python 3 (ipykernel)",
   "language": "python",
   "name": "python3"
  },
  "language_info": {
   "codemirror_mode": {
    "name": "ipython",
    "version": 3
   },
   "file_extension": ".py",
   "mimetype": "text/x-python",
   "name": "python",
   "nbconvert_exporter": "python",
   "pygments_lexer": "ipython3",
   "version": "3.9.13"
  }
 },
 "nbformat": 4,
 "nbformat_minor": 5
}

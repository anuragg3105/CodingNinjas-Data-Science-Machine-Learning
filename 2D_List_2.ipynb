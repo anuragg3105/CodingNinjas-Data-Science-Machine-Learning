{
 "cells": [
  {
   "cell_type": "markdown",
   "id": "8aaa341e",
   "metadata": {},
   "source": [
    "# 2D list output"
   ]
  },
  {
   "cell_type": "code",
   "execution_count": 6,
   "id": "5f0aea5d",
   "metadata": {},
   "outputs": [
    {
     "name": "stdout",
     "output_type": "stream",
     "text": [
      "[0, 0, 0, 0, 0, 0, 0, 0, 0, 0]\n",
      "[[1, 2], [1, 2], [1, 2], [1, 2], [1, 2]]\n"
     ]
    }
   ],
   "source": [
    "a=[0 for i in range(10)]\n",
    "print(a)\n",
    "\n",
    "a=[[1,2] for i in range(5)]\n",
    "print(a)\n"
   ]
  },
  {
   "cell_type": "code",
   "execution_count": 7,
   "id": "da7bb2fa",
   "metadata": {},
   "outputs": [
    {
     "name": "stdout",
     "output_type": "stream",
     "text": [
      "[[0, 0, 0, 0, 0], [0, 0, 0, 0, 0], [0, 0, 0, 0, 0], [0, 0, 0, 0, 0], [0, 0, 0, 0, 0]]\n"
     ]
    }
   ],
   "source": [
    "a=[[0 for j in range(5)] for i in range(5)]\n",
    "print(a)"
   ]
  },
  {
   "cell_type": "code",
   "execution_count": 16,
   "id": "0d19528a",
   "metadata": {},
   "outputs": [
    {
     "name": "stdout",
     "output_type": "stream",
     "text": [
      "[[0, 1, 2, 3, 4], [0, 1, 2, 3, 4], [0, 1, 2, 3, 4], [0, 1, 2, 3, 4]]\n"
     ]
    }
   ],
   "source": [
    "a=[[j for j in range(5)] for i in range(4)]\n",
    "print(a)"
   ]
  },
  {
   "cell_type": "code",
   "execution_count": 17,
   "id": "c2b49592",
   "metadata": {},
   "outputs": [
    {
     "name": "stdout",
     "output_type": "stream",
     "text": [
      "[[0, 0, 0, 0, 0], [1, 1, 1, 1, 1], [2, 2, 2, 2, 2], [3, 3, 3, 3, 3]]\n"
     ]
    }
   ],
   "source": [
    "a=[[i for j in range(5)] for i in range(4)]\n",
    "print(a)"
   ]
  },
  {
   "cell_type": "markdown",
   "id": "9f6b6a1e",
   "metadata": {},
   "source": [
    "# 2D column wise sum"
   ]
  },
  {
   "cell_type": "code",
   "execution_count": 22,
   "id": "5f1442b0",
   "metadata": {},
   "outputs": [
    {
     "name": "stdout",
     "output_type": "stream",
     "text": [
      "0\n",
      "10\n",
      "20\n",
      "30\n",
      "40\n"
     ]
    }
   ],
   "source": [
    "def print_column_wise_sum(a):\n",
    "    m=len(a)\n",
    "    if m==0:\n",
    "        return\n",
    "    n=len(a[0])\n",
    "    for j in range(n):\n",
    "        sumj=0\n",
    "        for i in range(m):\n",
    "            sumj=sumj+ a[i][j]\n",
    "        print(sumj)\n",
    "        \n",
    "a=[[j for j in range(5)] for i in range(10)]\n",
    "print_column_wise_sum(a)"
   ]
  },
  {
   "cell_type": "code",
   "execution_count": 23,
   "id": "2b882ed9",
   "metadata": {},
   "outputs": [
    {
     "name": "stdout",
     "output_type": "stream",
     "text": [
      "[0, 10, 20]\n"
     ]
    }
   ],
   "source": [
    "A = [[0, 10, 20],\n",
    "       [30, 40, 50],\n",
    "       [60, 70, 80]]\n",
    "\n",
    "print(A[0:2][0])\n",
    "#A[0:2] select the first two row of the 2d list and \n",
    "#A[0:2][0] select the first row of the A[0:2] list."
   ]
  },
  {
   "cell_type": "code",
   "execution_count": 24,
   "id": "3d5a1ae0",
   "metadata": {},
   "outputs": [
    {
     "name": "stdout",
     "output_type": "stream",
     "text": [
      "[10, 23, 56, [95]]\n"
     ]
    }
   ],
   "source": [
    "a = [10,23,56,[78]]\n",
    "b = list(a)\n",
    "a[3][0] = 95\n",
    "a[1] = 34\n",
    "print(b)\n",
    "# They only create a copy on the 0th level. That's \n",
    "# called shallow copy. The elements of a nested \n",
    "# element are copied by reference."
   ]
  },
  {
   "cell_type": "code",
   "execution_count": 25,
   "id": "f56e1f31",
   "metadata": {},
   "outputs": [
    {
     "name": "stdout",
     "output_type": "stream",
     "text": [
      "[[0.5, 7], [1, 2], [3, 1.5]]\n"
     ]
    }
   ],
   "source": [
    "points = [[1, 2], [3, 1.5], [0.5,7]]\n",
    "points.sort()\n",
    "print(points)\n",
    "#Sort function by default sort the list by first column."
   ]
  },
  {
   "cell_type": "code",
   "execution_count": 28,
   "id": "476e8f71",
   "metadata": {},
   "outputs": [
    {
     "name": "stdout",
     "output_type": "stream",
     "text": [
      "[[0, 1, 2, 3, 4], [0, 1, 2, 3, 4], [0, 1, 2, 3, 4], [0, 1, 2, 3, 4], [0, 1, 2, 3, 4], [0, 1, 2, 3, 4], [0, 1, 2, 3, 4], [0, 1, 2, 3, 4], [0, 1, 2, 3, 4], [0, 1, 2, 3, 4]]\n",
      "10\n",
      "10\n",
      "10\n",
      "10\n",
      "10\n",
      "10\n",
      "10\n",
      "10\n",
      "10\n",
      "10\n"
     ]
    }
   ],
   "source": [
    "def print_column_wise_sum(a):\n",
    "    nRows=len(mat)\n",
    "    if nRows==0:\n",
    "        return\n",
    "    mCols=len(mat[0])\n",
    "    for i in range(nRows):\n",
    "        sumj=0\n",
    "        for j in range(mCols):\n",
    "            sumj=sumj+ a[i][j]\n",
    "        print(sumj)\n",
    "        \n",
    "mat=[[j for j in range(mCols)] for i in range(nRows)]\n",
    "print(mat)\n",
    "print_column_wise_sum(mat)"
   ]
  },
  {
   "cell_type": "code",
   "execution_count": null,
   "id": "0fd0f1c4",
   "metadata": {},
   "outputs": [],
   "source": []
  }
 ],
 "metadata": {
  "kernelspec": {
   "display_name": "Python 3 (ipykernel)",
   "language": "python",
   "name": "python3"
  },
  "language_info": {
   "codemirror_mode": {
    "name": "ipython",
    "version": 3
   },
   "file_extension": ".py",
   "mimetype": "text/x-python",
   "name": "python",
   "nbconvert_exporter": "python",
   "pygments_lexer": "ipython3",
   "version": "3.9.13"
  }
 },
 "nbformat": 4,
 "nbformat_minor": 5
}

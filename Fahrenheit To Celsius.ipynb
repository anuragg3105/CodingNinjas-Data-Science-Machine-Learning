{
 "cells": [
  {
   "cell_type": "code",
   "execution_count": 1,
   "id": "0c36d185",
   "metadata": {},
   "outputs": [
    {
     "name": "stdout",
     "output_type": "stream",
     "text": [
      "0\n",
      "100\n",
      "20\n",
      "0 -17\n",
      "20 -6\n",
      "40 4\n",
      "60 15\n",
      "80 26\n",
      "100 37\n"
     ]
    }
   ],
   "source": [
    "\n",
    "def printTable(s, e, w):\n",
    " \n",
    "    while True:\n",
    "        c = 0\n",
    "        if s <= e:\n",
    "            c = (s - 32) * 5 / 9\n",
    "            print(s, int(c))\n",
    "            s = s + w\n",
    "\n",
    "        else:\n",
    "            break\n",
    "\n",
    "\n",
    "s = int(input())\n",
    "e = int(input())\n",
    "step = int(input())\n",
    "printTable(s, e, step)"
   ]
  },
  {
   "cell_type": "code",
   "execution_count": null,
   "id": "8bac7a2c",
   "metadata": {},
   "outputs": [],
   "source": []
  }
 ],
 "metadata": {
  "kernelspec": {
   "display_name": "Python 3 (ipykernel)",
   "language": "python",
   "name": "python3"
  },
  "language_info": {
   "codemirror_mode": {
    "name": "ipython",
    "version": 3
   },
   "file_extension": ".py",
   "mimetype": "text/x-python",
   "name": "python",
   "nbconvert_exporter": "python",
   "pygments_lexer": "ipython3",
   "version": "3.9.13"
  }
 },
 "nbformat": 4,
 "nbformat_minor": 5
}

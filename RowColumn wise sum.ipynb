{
 "cells": [
  {
   "cell_type": "code",
   "execution_count": null,
   "id": "ce403060",
   "metadata": {},
   "outputs": [],
   "source": [
    "from sys import stdin\n",
    "\n",
    "def rowWiseSum(mat, nRows, mCols):\n",
    "    #Your code goes here\n",
    "\n",
    "\n",
    "    for i in range(nRows):\n",
    "        sum = 0\n",
    "        for j in range(mCols):\n",
    "            sum += mat[i][j]\n",
    "        print(sum, end = ' ')\n",
    "\n",
    "\n",
    "#Taking Input Using Fast I/O\n",
    "def take2DInput() :\n",
    "    li = stdin.readline().rstrip().split(\" \")\n",
    "    nRows = int(li[0])\n",
    "    mCols = int(li[1])\n",
    "    \n",
    "    if nRows == 0 :\n",
    "        return list(), 0, 0\n",
    "    \n",
    "    mat = [list(map(int, input().strip().split(\" \"))) for row in range(nRows)]\n",
    "    return mat, nRows, mCols\n",
    "\n",
    "\n",
    "#main\n",
    "t = int(stdin.readline().rstrip())\n",
    "\n",
    "while t > 0 :\n",
    "\n",
    "    mat, nRows, mCols = take2DInput()\n",
    "    rowWiseSum(mat, nRows, mCols)\n",
    "    print()\n",
    "\n",
    "    t -= 1"
   ]
  },
  {
   "cell_type": "code",
   "execution_count": null,
   "id": "90cae404",
   "metadata": {},
   "outputs": [],
   "source": [
    "def print_column_wise_sum(a):\n",
    "    nRows=len(mat)\n",
    "    if nRows==0:\n",
    "        return\n",
    "    mCols=len(mat[0])\n",
    "    for i in range(nRows):\n",
    "        sumj=0\n",
    "        for j in range(mCols):\n",
    "            sumj=sumj+ a[i][j]\n",
    "        print(sumj)\n",
    "        \n",
    "mat=[[j for j in range(mCols)] for i in range(nRows)]\n",
    "print(mat)\n",
    "print_column_wise_sum(mat)"
   ]
  }
 ],
 "metadata": {
  "kernelspec": {
   "display_name": "Python 3 (ipykernel)",
   "language": "python",
   "name": "python3"
  },
  "language_info": {
   "codemirror_mode": {
    "name": "ipython",
    "version": 3
   },
   "file_extension": ".py",
   "mimetype": "text/x-python",
   "name": "python",
   "nbconvert_exporter": "python",
   "pygments_lexer": "ipython3",
   "version": "3.9.13"
  }
 },
 "nbformat": 4,
 "nbformat_minor": 5
}

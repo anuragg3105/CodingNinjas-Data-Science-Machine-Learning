{
 "cells": [
  {
   "cell_type": "markdown",
   "id": "92ff737c",
   "metadata": {},
   "source": [
    "# Find the testing and training score\n",
    "Send Feedback\n",
    "For the given dataset \"FuelEconomy.csv\"\n",
    "Create a Linear Regressor and fit the dataset in this and then print the training and testing score for this regressor.\n",
    "Note: Inside the function \"traintestsplit\" use the \"random_state = 42\".\n",
    "To know more about randomstate please read the document given regarding randomstate.\n",
    "Output\n",
    "Print the testing and training scores in separate lines rounded off to 3 decimal places."
   ]
  },
  {
   "cell_type": "code",
   "execution_count": null,
   "id": "ec687e6d",
   "metadata": {},
   "outputs": [],
   "source": [
    "import numpy as np\n",
    "from sklearn.model_selection import train_test_split\n",
    "from sklearn.linear_model import LinearRegression\n",
    "\n",
    "# load data\n",
    "fuelEconomy = np.loadtxt('FuelEconomy.csv', delimiter=',')\n",
    "X = fuelEconomy[:, 0].reshape(-1, 1)\n",
    "y = fuelEconomy[:, 1]\n",
    "\n",
    "# split data into training and testing sets\n",
    "X_train, X_test, y_train, y_test = train_test_split(X, y, test_size=0.3, random_state=42)\n",
    "\n",
    "# create a Linear Regressor and fit the training data\n",
    "regressor = LinearRegression()\n",
    "regressor.fit(X_train, y_train)\n",
    "\n",
    "# print training and testing scores rounded off to 3 decimal places\n",
    "train_score = round(regressor.score(X_train, y_train), 3)\n",
    "test_score = round(regressor.score(X_test, y_test), 3)\n",
    "\n",
    "print(test_score)\n",
    "print(train_score)\n",
    "\n"
   ]
  }
 ],
 "metadata": {
  "kernelspec": {
   "display_name": "Python 3 (ipykernel)",
   "language": "python",
   "name": "python3"
  },
  "language_info": {
   "codemirror_mode": {
    "name": "ipython",
    "version": 3
   },
   "file_extension": ".py",
   "mimetype": "text/x-python",
   "name": "python",
   "nbconvert_exporter": "python",
   "pygments_lexer": "ipython3",
   "version": "3.9.13"
  }
 },
 "nbformat": 4,
 "nbformat_minor": 5
}

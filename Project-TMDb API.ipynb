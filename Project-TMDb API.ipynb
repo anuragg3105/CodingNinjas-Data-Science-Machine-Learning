{
 "cells": [
  {
   "cell_type": "markdown",
   "id": "018d7d7b",
   "metadata": {},
   "source": [
    "# Project Details\n",
    "Send Feedback\n",
    "For this project, we are using the TMDb (The Movie Database) API.\n",
    "TMDb API enables you to find out the latest information about TV Shows, Movies and the biggest names in entertainment sector for a marvelous and fun TV/Movie watching experience.\n",
    "TMDb documentation link\n",
    "After joining TMDb, you can easily generate a new developer API key using this link\n",
    "Our Motivation for using TMDb API\n",
    "By collecting the data using TMDb API one can recommend TV Shows, Movies and all sorts of entertainment on the basis of user’s affinity to specific genres, actors, likes and dislikes.\n",
    "We can find details about upcoming TV Shows and Movies.\n",
    "We can find what is the most popular and/ or exclusive/new content at a given time.\n"
   ]
  },
  {
   "cell_type": "markdown",
   "id": "a75cfa6f",
   "metadata": {},
   "source": [
    "# TMDb 1.1\n",
    "Send Feedback\n",
    "Find the 'id' of the movie \"Andhadhun\" using TMDb API.\n",
    "Output Format:\n",
    "Print the id of the movie."
   ]
  },
  {
   "cell_type": "code",
   "execution_count": null,
   "id": "c6390804",
   "metadata": {},
   "outputs": [],
   "source": [
    "import requests\n",
    "api_key = \"e226f4a5f5bace766952aa0d17182959\"\n",
    "api_link = \"https://api.themoviedb.org/3\"\n",
    "params = {'query':\"Andhadhun\", 'api_key':api_key}\n",
    "header = {'Accept': 'application/json'}\n",
    "response = requests.get(api_link + \"/search/movie\",\n",
    "data = response.json()\n",
    "results = data.get('results')\n",
    "for result in results:\n",
    " if result.get('title') == 'Andhadhun':\n",
    " print(result.get('id'))"
   ]
  },
  {
   "cell_type": "markdown",
   "id": "0bf184f3",
   "metadata": {},
   "source": [
    "# TMDb 1.2\n",
    "Send Feedback\n",
    "Fetch the company id company 'Marvel Studios' using TMDb. Print the id.\n"
   ]
  },
  {
   "cell_type": "code",
   "execution_count": null,
   "id": "f3962f57",
   "metadata": {},
   "outputs": [],
   "source": [
    "import requests\n",
    "\n",
    "api_key = \"e226f4a5f5bace766952aa0d17182959\"\n",
    "api_link = \"https://api.themoviedb.org/3\"\n",
    "params = {'query':\"Andhadhun\", 'api_key':api_key}\n",
    "header = {'Accept': 'application/json'}\n",
    "company_name = 'Marvel Studios'\n",
    "\n",
    "url = f'https://api.themoviedb.org/3/search/company?api_key={api_key}&query={company_name}'\n",
    "\n",
    "response = requests.get(url)\n",
    "data = response.json()\n",
    "\n",
    "company_id = data['results'][0]['id']\n",
    "print(company_id)"
   ]
  },
  {
   "cell_type": "markdown",
   "id": "8fef256a",
   "metadata": {},
   "source": [
    "# TMDb 1.3\n",
    "Send Feedback\n",
    "Find the vote count and vote average of the movie \"3 Idiots\" using the TMDb API\n",
    "Output format: Vote Count , Vote Average"
   ]
  },
  {
   "cell_type": "code",
   "execution_count": null,
   "id": "cbc0a286",
   "metadata": {},
   "outputs": [],
   "source": [
    "import requests\n",
    "\n",
    "api_key = \"e226f4a5f5bace766952aa0d17182959\"\n",
    "api_link = \"https://api.themoviedb.org/3\"\n",
    "movie_name = '3 Idiots'\n",
    "\n",
    "url = 'https://api.themoviedb.org/3/search/movie?api_key=' + api_key + '&query=' + movie_name\n",
    "\n",
    "response = requests.get(url)\n",
    "data = response.json()\n",
    "\n",
    "movie_id = data['results'][0]['id']\n",
    "\n",
    "url = 'https://api.themoviedb.org/3/movie/' + str(movie_id) + '?api_key=' + api_key\n",
    "\n",
    "response = requests.get(url)\n",
    "data = response.json()\n",
    "\n",
    "vote_count = data['vote_count']\n",
    "vote_average = data['vote_average']\n",
    "\n",
    "print(vote_count, vote_average)\n"
   ]
  },
  {
   "cell_type": "markdown",
   "id": "14293543",
   "metadata": {},
   "source": [
    "# TMDb 2.1\n",
    "Send Feedback\n",
    "Find the name and birthplace of the present most popular person according to TMDb API.\n",
    "Output Format:\n",
    "id\n",
    "name - birthplace"
   ]
  },
  {
   "cell_type": "code",
   "execution_count": null,
   "id": "40711a68",
   "metadata": {},
   "outputs": [],
   "source": [
    "import requests\n",
    "\n",
    "api_key = \"e226f4a5f5bace766952aa0d17182959\"\n",
    "api_link = \"https://api.themoviedb.org/3\"\n",
    "\n",
    "# Make request to get the most popular person\n",
    "url = f\"{api_link}/person/popular?api_key={api_key}\"\n",
    "response = requests.get(url)\n",
    "data = response.json()\n",
    "\n",
    "# Extract the ID of the most popular person\n",
    "most_popular_person_id = data['results'][0]['id']\n",
    "\n",
    "# Make request to get the details of the most popular person\n",
    "url = f\"{api_link}/person/{most_popular_person_id}?api_key={api_key}\"\n",
    "response = requests.get(url)\n",
    "data = response.json()\n",
    "\n",
    "# Extract the name and birthplace of the most popular person\n",
    "name = data['name']\n",
    "birthplace = data['place_of_birth']\n",
    "\n",
    "# Print the ID, name, and birthplace of the most popular person\n",
    "print(f\"{most_popular_person_id}\\n{name} - {birthplace}\")\n"
   ]
  },
  {
   "cell_type": "code",
   "execution_count": null,
   "id": "2eda0494",
   "metadata": {},
   "outputs": [],
   "source": [
    "import requests\n",
    "\n",
    "api_key = \"e226f4a5f5bace766952aa0d17182959\"\n",
    "api_link = \"https://api.themoviedb.org/3\"\n",
    "\n",
    "# get the most popular person\n",
    "url = api_link + \"/person/popular?api_key=\" + api_key\n",
    "response = requests.get(url)\n",
    "data = response.json()\n",
    "popular_person = data['results'][0]\n",
    "\n",
    "# get the birthplace of the most popular person\n",
    "url = api_link + \"/person/\" + str(popular_person['id']) + \"?api_key=\" + api_key\n",
    "response = requests.get(url)\n",
    "data = response.json()\n",
    "\n",
    "# print the results\n",
    "print(str(popular_person['id']))\n",
    "print(popular_person['name'] + \" - \" + data['place_of_birth'])\n"
   ]
  },
  {
   "cell_type": "markdown",
   "id": "b5262feb",
   "metadata": {},
   "source": [
    "# TMDb 2.2\n",
    "Send Feedback\n",
    "Fetch the Instagram and Twitter handle of Indian Actress \"Alia Bhatt\" from the TMDb API.\n",
    "Output Format\n",
    "Print the Instagram and Twitter IDs space separated.\n",
    "instagram_id twitter_id"
   ]
  },
  {
   "cell_type": "code",
   "execution_count": null,
   "id": "ae03ac94",
   "metadata": {},
   "outputs": [],
   "source": [
    "import requests\n",
    "api_key = \"b0a53d521764ab3bc5732e74a5cc06c9\"\n",
    "api_link = \"https://api.themoviedb.org/3\"\n",
    "params = {'api_key':api_key}\n",
    "header = {'Accept': 'application/json'}\n",
    "response2 = requests.get(api_link + \"/person/\"+str(1108120)+\"/external_ids\", headers = header, params=params)\n",
    "data=response2.json()\n",
    "print(data['instagram_id'],'',data['twitter_id'])"
   ]
  },
  {
   "cell_type": "markdown",
   "id": "ad498547",
   "metadata": {},
   "source": [
    "# TMDb 2.3\n",
    "Send Feedback\n",
    "Fetch the names of the character played by Tom Cruise in the movies:\n",
    "Top Gun\n",
    "Mission: Impossible - Fallout\n",
    "Minority Report\n",
    "Edge of Tomorrow\n",
    "Output Format:\n",
    "Print the names of the characters played by Tom Cruise line separated, in the respective order given in question."
   ]
  },
  {
   "cell_type": "code",
   "execution_count": null,
   "id": "e51ffbee",
   "metadata": {},
   "outputs": [],
   "source": [
    "import requests\n",
    "## Write your code here\n",
    "import requests\n",
    "api_key = \"b0a53d521764ab3bc5732e74a5cc06c9\"\n",
    "api_link = \"https://api.themoviedb.org/3\"\n",
    "params = {'api_key':api_key,'query':'Tom Cruise'}\n",
    "header = {'Accept': 'application/json'}\n",
    "response2 = requests.get(api_link + \"/person/\"+str(500)+\"/movie_credits\", headers = header, params=params)\n",
    "data=response2.json()\n",
    "for result in data['cast']:\n",
    "    if result['title']=='Top Gun':\n",
    "        print(result['character'],)\n",
    "for result in data['cast']:\n",
    "    if result['title']=='Mission: Impossible - Fallout':\n",
    "        print(result['character'])\n",
    "for result in data['cast']:\n",
    "    if result['title']=='Minority Report':\n",
    "        print(result['character'])\n",
    "for result in data['cast']:\n",
    "    if result['title']=='Edge of Tomorrow':\n",
    "        print(result['character'])"
   ]
  },
  {
   "cell_type": "markdown",
   "id": "b7e15030",
   "metadata": {},
   "source": [
    "# TMDb 2.4\n",
    "Send Feedback\n",
    "Did James McAvoy play a role in the movie Deadpool 2. Print Yes or No."
   ]
  },
  {
   "cell_type": "code",
   "execution_count": null,
   "id": "21a410ac",
   "metadata": {},
   "outputs": [],
   "source": [
    "import requests\n",
    "api_key = \"b0a53d521764ab3bc5732e74a5cc06c9\"\n",
    "api_link = \"https://api.themoviedb.org/3\"\n",
    "params = {'api_key':api_key,'query':'Deadpool 2'}\n",
    "header = {'Accept': 'application/json'}\n",
    "response2 = requests.get(api_link + \"/person/\"+str(5530)+\"/movie_credits\", headers = header, params=params)\n",
    "data=response2.json()\n",
    "for result in data['cast']:\n",
    "    if result['title']=='Deadpool 2':\n",
    "        a=result['title']\n",
    "        if a=='Deadpool 2':\n",
    "            print('Yes')\n",
    "        else:\n",
    "            print('No')"
   ]
  },
  {
   "cell_type": "markdown",
   "id": "05089cfa",
   "metadata": {},
   "source": [
    "# TMDb 2.5\n",
    "Send Feedback\n",
    "Using the result obtained in previous question, find out if James McAvoy was credited for his role in movie Deadpool 2. Print Yes or No."
   ]
  },
  {
   "cell_type": "code",
   "execution_count": null,
   "id": "bf4e7bcb",
   "metadata": {},
   "outputs": [],
   "source": [
    "import requests\n",
    "api_key = \"b0a53d521764ab3bc5732e74a5cc06c9\"\n",
    "api_link = \"https://api.themoviedb.org/3\"\n",
    "params = {'api_key':api_key,}\n",
    "header = {'Accept': 'application/json'}\n",
    "response2 = requests.get(api_link + \"/person/\"+str(5530)+\"/movie_credits\", headers = header, params=params)\n",
    "data=response2.json()\n",
    "for result in data['cast']:\n",
    "    if result['title']=='Deadpool 2':\n",
    "        a=result['character']\n",
    "        print('No')"
   ]
  },
  {
   "cell_type": "markdown",
   "id": "187d65a6",
   "metadata": {},
   "source": [
    "# TMDb 3.1\n",
    "Send Feedback\n",
    "Fetch the overview of the TV Show \"FRIENDS\" using TMDb API.\n",
    "Output Format:\n",
    "Print the Overview."
   ]
  },
  {
   "cell_type": "code",
   "execution_count": null,
   "id": "e3a880e6",
   "metadata": {},
   "outputs": [],
   "source": [
    "import requests\n",
    "api_key = \"b0a53d521764ab3bc5732e74a5cc06c9\"\n",
    "api_link = \"https://api.themoviedb.org/3\"\n",
    "params = {'api_key':api_key,'query':'Friends'}\n",
    "header = {'Accept': 'application/json'}\n",
    "response2 = requests.get(api_link + \"/search/tv\", headers = header, params=params)\n",
    "data=response2.json()\n",
    "results=data.get('results')\n",
    "for result in results:\n",
    "    if result.get('name')=='Friends':\n",
    "        print(result.get('overview'))"
   ]
  },
  {
   "cell_type": "markdown",
   "id": "09e03434",
   "metadata": {},
   "source": [
    "# TMDb 3.2\n",
    "Send Feedback\n",
    "Fetch the name and air date of S06E05 of the TV Show 'The Big Bang Theory' from TMDb API.\n",
    "Output Format:\n",
    "episode_name - air_date"
   ]
  },
  {
   "cell_type": "code",
   "execution_count": null,
   "id": "52fb42c2",
   "metadata": {},
   "outputs": [],
   "source": [
    "import requests\n",
    "api_key = \"b0a53d521764ab3bc5732e74a5cc06c9\"\n",
    "api_link = \"https://api.themoviedb.org/3\"\n",
    "params = {'api_key':api_key,'query':'The Big Bang Theory'}\n",
    "header = {'Accept': 'application/json'}\n",
    "response2 = requests.get(api_link + \"/tv/\"+str(1418)+\"/season/\"+str(6)+\"/episode/\"+str(5), headers = header, params=params)\n",
    "data=response2.json()\n",
    "print(data['name'],\"-\",data['air_date'])"
   ]
  },
  {
   "cell_type": "markdown",
   "id": "de17ee00",
   "metadata": {},
   "source": [
    "# TMDb 3.3\n",
    "Send Feedback\n",
    "Fetch the trending TV Shows for the week from the TMDb API and print the taglines of the top 5 shows. If there is no tagline, print 'Empty' instead\n",
    "Output Format:\n",
    "Print the taglines in new line."
   ]
  },
  {
   "cell_type": "code",
   "execution_count": null,
   "id": "087cdfac",
   "metadata": {},
   "outputs": [],
   "source": [
    "import requests \n",
    "api_key = \"e226f4a5f5bace766952aa0d17182959\" \n",
    "api_link = \"https://api.themoviedb.org/3\" \n",
    "params = {'api_key':api_key} \n",
    "header = {'Accept': 'application/json'} \n",
    "response = requests.get(api_link + \"/trending/tv/week\", headers = header, params = params) \n",
    "data = response.json() \n",
    "results = data.get(\"results\") \n",
    "ids=[] \n",
    "for result in results[:5]: \n",
    "    ids.append(result.get(\"id\")) \n",
    "    \n",
    "for id in ids: \n",
    "    response2 = requests.get(api_link + \"/tv/\" + str(id) , headers = header, params = params) \n",
    "    data2 = response2.json() \n",
    "    if (data2.get(\"tagline\")) != \"\": \n",
    "        print(data2.get(\"tagline\")) \n",
    "    else: \n",
    "        print('Empty')"
   ]
  },
  {
   "cell_type": "markdown",
   "id": "5ded9b7d",
   "metadata": {},
   "source": [
    "# TMDb 3.4\n",
    "Send Feedback\n",
    "Print the names of all the TV shows to be aired today whose original language is english.\n",
    "Output Format:\n",
    "Print the name of each TV show in a new line."
   ]
  },
  {
   "cell_type": "code",
   "execution_count": null,
   "id": "e3530c73",
   "metadata": {},
   "outputs": [],
   "source": [
    "import requests as rq\n",
    "page_num = 1\n",
    "api_key = 'e226f4a5f5bace766952aa0d17182959'\n",
    "api_link = 'https://api.themoviedb.org/3'\n",
    "header = {'Accept':'application/json'}\n",
    "params = {'language':'en','api_key':api_key}\n",
    "r = rq.get(api_link+'/tv/airing_today',headers = header,params = params)\n",
    "data = r.json()\n",
    "# print(data)\n",
    "res = data['results']\n",
    "page_num = data.get('total_pages')\n",
    "# print(page_num)\n",
    "for i in range(1,page_num + 1):\n",
    "    params = {'language':\"en\",'api_key':api_key,'page':i}\n",
    "    r = rq.get(api_link+'/tv/airing_today',headers = header,params = params)\n",
    "    data = r.json()\n",
    "    results = data.get('results')\n",
    "    for r in results:\n",
    "        if r['original_language'] == 'en':\n",
    "            print(r['name'])"
   ]
  },
  {
   "cell_type": "markdown",
   "id": "d7bb9e85",
   "metadata": {},
   "source": [
    "# TMDb 3.5\n",
    "Send Feedback\n",
    "Count the number of males and females in the cast of \"Money Heist\" using the TMDb API.\n",
    "Output Format:\n",
    "Print the count of male and female space separated.\n",
    "male_count female_count"
   ]
  },
  {
   "cell_type": "code",
   "execution_count": null,
   "id": "345e2063",
   "metadata": {},
   "outputs": [],
   "source": [
    "import requests\n",
    "\n",
    "api_key = \"e226f4a5f5bace766952aa0d17182959\"\n",
    "api_link = \"https://api.themoviedb.org/3\"\n",
    "tv_show_name = \"Money Heist\"\n",
    "\n",
    "# Get TV show ID\n",
    "url = api_link + \"/search/tv?api_key=\" + api_key + \"&query=\" + tv_show_name\n",
    "response = requests.get(url)\n",
    "data = response.json()\n",
    "tv_show_id = data['results'][0]['id']\n",
    "\n",
    "# Get TV show credits\n",
    "url = api_link + \"/tv/\" + str(tv_show_id) + \"/credits?api_key=\" + api_key\n",
    "response = requests.get(url)\n",
    "data = response.json()\n",
    "\n",
    "# Count male and female\n",
    "male_count = 0\n",
    "female_count = 0\n",
    "for cast in data['cast']:\n",
    "    if cast['gender'] == 1:\n",
    "        female_count += 1\n",
    "    elif cast['gender'] == 2:\n",
    "        male_count += 1\n",
    "\n",
    "print(male_count, female_count)\n"
   ]
  },
  {
   "cell_type": "markdown",
   "id": "944a33cb",
   "metadata": {},
   "source": [
    "# TMDb 1.5\n",
    "Send Feedback\n",
    "Fetch the top rated english movies in the US region using the TMDb API. From the result, print the first 10 movies which have original language as english. Also print their genres.\n",
    "Note: Do not use the search/movies API for finding genres.\n",
    "Output Format:\n",
    "movie_name_1 - genre_1, genre_2 ....\n",
    "and so on.."
   ]
  },
  {
   "cell_type": "code",
   "execution_count": null,
   "id": "ecf39069",
   "metadata": {},
   "outputs": [],
   "source": [
    "import requests\n",
    "api_key = \"e226f4a5f5bace766952aa0d17182959\" \n",
    "api_link = \"https://api.themoviedb.org/3\" #/movie/top_rated/apikey = \n",
    "header = {'Accept': 'application/json'} \n",
    "params = {'api_key':api_key, 'region':'US'} \n",
    "response = requests.get(api_link + \"/movie/top_rated\", headers = header, params = params) \n",
    "\n",
    "\n",
    "data = response.json() \n",
    "results = data.get('results') \n",
    "title_array = [] \n",
    "genre_id_array = [] \n",
    "for result in results: \n",
    "    if result.get('original_language') == 'en': \n",
    "        title_array.append(result.get('title')) \n",
    "        genre_id_array.append(result.get('genre_ids')) \n",
    "        \n",
    "# To get the genre name corresponding to genre_id \n",
    "response2 = requests.get(api_link + \"/genre/movie/list\", headers = header, params = params) \n",
    "data2 = response2.json() \n",
    "genres = data2.get('genres') \n",
    "mapping = {} \n",
    "for genre in genres: \n",
    "    mapping[genre.get('id')] = genre.get('name') \n",
    "    \n",
    "for i in range(10): \n",
    "    print(title_array[i], \"-\", end=\" \") \n",
    "    for id in genre_id_array[i]: \n",
    "        print(mapping.get(id), end = \", \") \n",
    "    print()"
   ]
  },
  {
   "cell_type": "markdown",
   "id": "2118c3f1",
   "metadata": {},
   "source": [
    "# TMDb 1.4\n",
    "Send Feedback\n",
    "Fetch the names of top 5 similar movies to 'Inception' from the TMDb API.\n",
    "Note\n",
    "While fetching the movie id, use the \"original_title\" field not the \"title\". Because the \"title\" field may contain duplicate values.\n",
    "Output Format:\n",
    "Print the name of the movies in a new line.\n",
    "movie_name_1\n",
    "movie_name_2\n",
    "and so on"
   ]
  },
  {
   "cell_type": "code",
   "execution_count": null,
   "id": "cf35b6b0",
   "metadata": {},
   "outputs": [],
   "source": [
    "import requests\n",
    "\n",
    "api_key = \"e226f4a5f5bace766952aa0d17182959\"\n",
    "api_link = \"https://api.themoviedb.org/3\"\n",
    "\n",
    "# Get the ID of the movie \"Inception\"\n",
    "params = {'query': 'Inception', 'api_key': api_key}\n",
    "response = requests.get(api_link + '/search/movie', params=params)\n",
    "data = response.json()\n",
    "inception_id = data['results'][0]['id']\n",
    "\n",
    "# Get the list of similar movies for \"Inception\"\n",
    "params2 = {'api_key': api_key}\n",
    "response2 = requests.get(api_link + '/movie/' + str(inception_id) + '/similar', params=params2)\n",
    "data2 = response2.json()\n",
    "results2 = data2.get('results')\n",
    "\n",
    "# Print the titles of the top 5 similar movies\n",
    "for result in results2[:5]:\n",
    "    print(result.get('title'))\n"
   ]
  },
  {
   "cell_type": "markdown",
   "id": "a2268326",
   "metadata": {},
   "source": [
    "# TMDb 3.4\n",
    "Send Feedback\n",
    "Print the names of all the TV shows to be aired today whose original language is english.\n",
    "Output Format:\n",
    "Print the name of each TV show in a new line."
   ]
  },
  {
   "cell_type": "code",
   "execution_count": null,
   "id": "a50d3a97",
   "metadata": {},
   "outputs": [],
   "source": [
    "import requests as rq\n",
    "page_num = 1\n",
    "api_key = 'e226f4a5f5bace766952aa0d17182959'\n",
    "api_link = 'https://api.themoviedb.org/3'\n",
    "header = {'Accept':'application/json'}\n",
    "params = {'language':'en','api_key':api_key}\n",
    "r = rq.get(api_link+'/tv/airing_today',headers = header,params = params)\n",
    "data = r.json()\n",
    "# print(data)\n",
    "res = data['results']\n",
    "page_num = data.get('total_pages')\n",
    "# print(page_num)\n",
    "for i in range(1,page_num + 1):\n",
    "    params = {'language':\"en\",'api_key':api_key,'page':i}\n",
    "    r = rq.get(api_link+'/tv/airing_today',headers = header,params = params)\n",
    "    data = r.json()\n",
    "    results = data.get('results')\n",
    "    for r in results:\n",
    "        if r['original_language'] == 'en':\n",
    "            print(r['name'])"
   ]
  },
  {
   "cell_type": "code",
   "execution_count": null,
   "id": "33a4ea5c",
   "metadata": {},
   "outputs": [],
   "source": []
  },
  {
   "cell_type": "code",
   "execution_count": null,
   "id": "d81b61e9",
   "metadata": {},
   "outputs": [],
   "source": []
  }
 ],
 "metadata": {
  "kernelspec": {
   "display_name": "Python 3 (ipykernel)",
   "language": "python",
   "name": "python3"
  },
  "language_info": {
   "codemirror_mode": {
    "name": "ipython",
    "version": 3
   },
   "file_extension": ".py",
   "mimetype": "text/x-python",
   "name": "python",
   "nbconvert_exporter": "python",
   "pygments_lexer": "ipython3",
   "version": "3.9.13"
  }
 },
 "nbformat": 4,
 "nbformat_minor": 5
}

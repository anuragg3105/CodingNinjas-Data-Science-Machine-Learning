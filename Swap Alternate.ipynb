{
 "cells": [
  {
   "cell_type": "code",
   "execution_count": 4,
   "id": "7a0a0434",
   "metadata": {},
   "outputs": [
    {
     "name": "stdout",
     "output_type": "stream",
     "text": [
      "[2, 1, 4, 3, 6, 5]\n"
     ]
    }
   ],
   "source": [
    "def swap_consecutive(l):\n",
    "    i=0\n",
    "    while i+1<len(l):\n",
    "        l[i],l[i+1]=l[i+1],l[i]\n",
    "        i=i+2\n",
    "        \n",
    "a=[1,2,3,4,5,6]\n",
    "swap_consecutive(a)\n",
    "print(a)\n"
   ]
  },
  {
   "cell_type": "code",
   "execution_count": 5,
   "id": "3ce97fa7",
   "metadata": {},
   "outputs": [
    {
     "name": "stdout",
     "output_type": "stream",
     "text": [
      "1 2 3 4 5 6 7 8 9 10\n",
      "[2, 1, 4, 3, 6, 5, 8, 7, 10, 9]\n"
     ]
    }
   ],
   "source": [
    "def swap_consecutive(l):\n",
    "    i=0\n",
    "    while i+1<len(l):\n",
    "        l[i],l[i+1]=l[i+1],l[i]\n",
    "        i=i+2\n",
    "        \n",
    "a=[int(i) for i in input().split()]\n",
    "swap_consecutive(a)\n",
    "print(a)\n"
   ]
  },
  {
   "cell_type": "code",
   "execution_count": 6,
   "id": "8839bcdf",
   "metadata": {},
   "outputs": [
    {
     "name": "stdout",
     "output_type": "stream",
     "text": [
      "[1, 0, 3, 2, 4]\n"
     ]
    }
   ],
   "source": [
    "def swap_consecutive(l):\n",
    "    i=0\n",
    "    while i+1<len(l):\n",
    "        l[i],l[i+1]=l[i+1],l[i]\n",
    "        i=i+2\n",
    "        \n",
    "a=[int(i) for i in range(5)]\n",
    "swap_consecutive(a)\n",
    "print(a)"
   ]
  },
  {
   "cell_type": "code",
   "execution_count": 7,
   "id": "7f929a1c",
   "metadata": {},
   "outputs": [
    {
     "name": "stdout",
     "output_type": "stream",
     "text": [
      "8\n",
      "[1, 0, 3, 2, 5, 4, 7, 6]\n"
     ]
    }
   ],
   "source": [
    "def swap_consecutive(l):\n",
    "    i=0\n",
    "    while i+1<len(l):\n",
    "        l[i],l[i+1]=l[i+1],l[i]\n",
    "        i=i+2\n",
    "n=int(input())        \n",
    "a=[int(i) for i in range(n)]\n",
    "swap_consecutive(a)\n",
    "print(a)"
   ]
  },
  {
   "cell_type": "code",
   "execution_count": 2,
   "id": "fce580ff",
   "metadata": {},
   "outputs": [
    {
     "name": "stdout",
     "output_type": "stream",
     "text": [
      "5\n",
      "1\n",
      "4\n",
      "6\n",
      "78\n",
      "0\n",
      "[4, 1, 78, 6, 0]\n"
     ]
    }
   ],
   "source": [
    "def swap_consecutive(l):\n",
    "    i=0\n",
    "    while i+1<len(l):\n",
    "        l[i],l[i+1]=l[i+1],l[i]\n",
    "        i=i+2\n",
    "        \n",
    "n=int(input())        \n",
    "a=[]\n",
    "for i in range(1,n+1):\n",
    "    num=int(input())\n",
    "    a.append(num)\n",
    "swap_consecutive(a)\n",
    "print(a)"
   ]
  },
  {
   "cell_type": "code",
   "execution_count": null,
   "id": "32600cc1",
   "metadata": {},
   "outputs": [],
   "source": []
  }
 ],
 "metadata": {
  "kernelspec": {
   "display_name": "Python 3 (ipykernel)",
   "language": "python",
   "name": "python3"
  },
  "language_info": {
   "codemirror_mode": {
    "name": "ipython",
    "version": 3
   },
   "file_extension": ".py",
   "mimetype": "text/x-python",
   "name": "python",
   "nbconvert_exporter": "python",
   "pygments_lexer": "ipython3",
   "version": "3.9.13"
  }
 },
 "nbformat": 4,
 "nbformat_minor": 5
}

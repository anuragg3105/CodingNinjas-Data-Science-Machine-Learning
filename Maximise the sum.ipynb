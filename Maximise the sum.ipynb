{
 "cells": [
  {
   "cell_type": "markdown",
   "id": "64ed4bbd",
   "metadata": {},
   "source": [
    "Given 2 sorted arrays (in increasing order), find a path through the intersections that produces maximum sum and return the maximum sum.\n",
    "That is, we can switch from one array to another array only at common elements.\n",
    "If no intersection element is present, we need to take sum of all elements from the array with greater sum.\n",
    "Input Format :\n",
    " Line 1 : An integer M i.e. size of first array\n",
    " Line 2 : M integers which are elements of first array, separated by spaces\n",
    " Line 3 : An integer N i.e. size of second array\n",
    " Line 4 : N integers which are elements of second array, separated by spaces\n",
    "Output Format :\n",
    "Maximum sum value"
   ]
  },
  {
   "cell_type": "code",
   "execution_count": null,
   "id": "eb17038a",
   "metadata": {},
   "outputs": [],
   "source": [
    "# Problem ID 702 Maximize the sum\n",
    "def maxPathSum(ar1, ar2):\n",
    "    m=len(ar1)\n",
    "    n=len(ar2)\n",
    "    max=0\n",
    "    suma=0\n",
    "    sumb=0\n",
    "    i=0\n",
    "    j=0\n",
    "    while(i<m and j<n):\n",
    "        if(ar1[i]==ar2[j]):\n",
    "            max += suma if suma>sumb else sumb\n",
    "            max += ar1[i]\n",
    "            i+=1\n",
    "            j+=1\n",
    "            suma = sumb = 0\n",
    "        elif(ar1[i]<ar2[j]):\n",
    "            suma += ar1[i]\n",
    "            i += 1\n",
    "        else:\n",
    "            sumb += ar2[j]\n",
    "            j += 1\n",
    "    while (i<m):\n",
    "        suma += ar1[i]\n",
    "        i += 1\n",
    "    while (j<n):\n",
    "        sumb += ar2[j]\n",
    "        j += 1\n",
    "    max += suma if suma>sumb else sumb\n",
    "    return max\n",
    "n1=int(input())\n",
    "arr1=list(int(i) for i in input().strip().split(' '))\n",
    "n2=int(input())\n",
    "arr2=list(int(i) for i in input().strip().split(' '))\n",
    "sum=maxPathSum(arr1, arr2)\n",
    "print(sum)"
   ]
  },
  {
   "cell_type": "code",
   "execution_count": null,
   "id": "b5dbcafd",
   "metadata": {},
   "outputs": [],
   "source": [
    "\n",
    "int i,j,sum1,sum2,sum,m_i,n_j = 0;\n",
    "\n",
    "void printIntersectionElements(int *a,int M, int *b, int N) {\n",
    "\n",
    "    if (M == 0)\n",
    "        return (b);\n",
    "    if (N ==0)\n",
    "        return(a);\n",
    "    while( i < M &&  j < N ){\n",
    "        sum1 = sum1 +a[i];\n",
    "        sum2 = sum2 + b[j];\n",
    "        if(a[i] == b[j]) { // found a common element.\n",
    "\n",
    "            if(sum1>= sum2){\n",
    "                for(;m_i<= i; m_i++)\n",
    "                cout<< a[m_i];\n",
    "                sum = sum +sum1; \n",
    "                m_i = i+1;\n",
    "            }\n",
    "            else {\n",
    "                for(;n_j<= j; n_j++)\n",
    "                cout<< b[n_j];\n",
    "                sum = sum+sum2; \n",
    "                n_j = j+1;\n",
    "            }\n",
    "            sum1 = sum2 = 0;\n",
    "        }\n",
    "        i++;\n",
    "        j++;\n",
    "    }\n",
    "\n",
    "}"
   ]
  },
  {
   "cell_type": "code",
   "execution_count": null,
   "id": "bca70fe7",
   "metadata": {},
   "outputs": [],
   "source": []
  }
 ],
 "metadata": {
  "kernelspec": {
   "display_name": "Python 3 (ipykernel)",
   "language": "python",
   "name": "python3"
  },
  "language_info": {
   "codemirror_mode": {
    "name": "ipython",
    "version": 3
   },
   "file_extension": ".py",
   "mimetype": "text/x-python",
   "name": "python",
   "nbconvert_exporter": "python",
   "pygments_lexer": "ipython3",
   "version": "3.9.13"
  }
 },
 "nbformat": 4,
 "nbformat_minor": 5
}

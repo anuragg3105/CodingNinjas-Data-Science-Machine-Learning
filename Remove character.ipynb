{
 "cells": [
  {
   "cell_type": "markdown",
   "id": "f635878b",
   "metadata": {},
   "source": [
    "For a given a string(str) and a character X, write a function to remove all the occurrences of X from the given string.\n",
    "The input string will remain unchanged if the given character(X) doesn't exist in the input string.\n",
    "Input Format:\n",
    "The first line of input contains a string without any leading and trailing spaces.\n"
   ]
  },
  {
   "cell_type": "code",
   "execution_count": 1,
   "id": "8a64b3cd",
   "metadata": {},
   "outputs": [
    {
     "name": "stdout",
     "output_type": "stream",
     "text": [
      "bcdsc\n"
     ]
    }
   ],
   "source": [
    "\n",
    "def removeAllOccurrencesOfChar(string, ch) :\n",
    "    ans = ''\n",
    "    for i in range(len(string)):\n",
    "        if ord(string[i]) != ord(ch):\n",
    "            ans += string[i]\n",
    "    return ans\n",
    "\n",
    "a = removeAllOccurrencesOfChar('abcaadsca','a')\n",
    "print(a)\n",
    "        "
   ]
  },
  {
   "cell_type": "code",
   "execution_count": null,
   "id": "ba3ef482",
   "metadata": {},
   "outputs": [],
   "source": []
  }
 ],
 "metadata": {
  "kernelspec": {
   "display_name": "Python 3 (ipykernel)",
   "language": "python",
   "name": "python3"
  },
  "language_info": {
   "codemirror_mode": {
    "name": "ipython",
    "version": 3
   },
   "file_extension": ".py",
   "mimetype": "text/x-python",
   "name": "python",
   "nbconvert_exporter": "python",
   "pygments_lexer": "ipython3",
   "version": "3.9.13"
  }
 },
 "nbformat": 4,
 "nbformat_minor": 5
}

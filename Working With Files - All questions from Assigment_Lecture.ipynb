{
 "cells": [
  {
   "cell_type": "markdown",
   "id": "d022dede",
   "metadata": {},
   "source": [
    "# Print 100 Bytes\n",
    "Send Feedback\n",
    "Given file \"Sample.txt\"\n",
    "Open the file\n",
    "Read the first 100 bytes of file and print them."
   ]
  },
  {
   "cell_type": "code",
   "execution_count": null,
   "id": "8f460839",
   "metadata": {},
   "outputs": [],
   "source": [
    "## Open and read data file as specified in the question\n",
    "## Print the required output in given format\n",
    "myfiles = open('Sample.txt')\n",
    "mydata = myfiles.read(100)\n",
    "print(mydata)"
   ]
  },
  {
   "cell_type": "markdown",
   "id": "c6ef5db7",
   "metadata": {},
   "source": [
    "# Print 5 lines\n",
    "Send Feedback\n",
    "Given file \"Sample.txt\"\n",
    "Open the file\n",
    "Read the first 5 lines from file and print them (in separate lines)."
   ]
  },
  {
   "cell_type": "code",
   "execution_count": null,
   "id": "68427bf3",
   "metadata": {},
   "outputs": [],
   "source": [
    "## Open and read data file as specified in the question\n",
    "## Print the required output in given format\n",
    "myfiles = open('Sample.txt')\n",
    "mydata = myfiles.readline()\n",
    "print(mydata)\n",
    "print(myfiles.readline())\n",
    "print(myfiles.readline())\n",
    "print(myfiles.readline())\n",
    "print(myfiles.readline())"
   ]
  },
  {
   "cell_type": "markdown",
   "id": "2ed392b0",
   "metadata": {},
   "source": [
    "# Print 5 Lines (Readlines)\n",
    "Send Feedback\n",
    "Given file \"Sample.txt\"\n",
    "Open the file\n",
    "Read the first 5 lines from file and print them.\n",
    "Note : Use readlines() method only\n",
    "Output Format :"
   ]
  },
  {
   "cell_type": "code",
   "execution_count": null,
   "id": "4dd8b3a5",
   "metadata": {},
   "outputs": [],
   "source": [
    "## Open and read data file as specified in the question\n",
    "## Print the required output in given format\n",
    "myfiles = open('Sample.txt')\n",
    "mydata = myfiles.readlines()\n",
    "for i in mydata[0:5]:\n",
    "    print(i)"
   ]
  },
  {
   "cell_type": "markdown",
   "id": "dc52f45f",
   "metadata": {},
   "source": [
    "# First 3 lines\n",
    "Send Feedback\n",
    "Given file \"year2017.csv\"\n",
    "It is an open-source database including information on terrorist attacks around the world from 1970 through 2017. This dataset includes systematic data on domestic as well as international terrorist incidents that have occurred during this time period\n",
    "Problem Statement :\n",
    "Open and read the file\n",
    "Print the first 3 rows of the file, excluding header (in different lines)\n",
    "Print columns of one row, separated by space"
   ]
  },
  {
   "cell_type": "code",
   "execution_count": null,
   "id": "c8cc4e39",
   "metadata": {},
   "outputs": [],
   "source": [
    "## Open and read data file as specified in the question\n",
    "## Print the required output in given format\n",
    "import csv\n",
    "with open('year2017.csv') as file_:\n",
    "    file_name=csv.reader(file_)\n",
    "    file_name=list(file_name)\n",
    "    for i in range(1,4):\n",
    "        for j in file_name[i]:\n",
    "            print(j,end=' ')\n",
    "        print()"
   ]
  },
  {
   "cell_type": "markdown",
   "id": "ef58a653",
   "metadata": {},
   "source": [
    "# Print all column names\n",
    "Send Feedback\n",
    "Given file \"year2017.csv\"\n",
    "It is an open-source database including information on terrorist attacks around the world from 1970 through 2017. This dataset includes systematic data on domestic as well as international terrorist incidents that have occurred during this time period\n",
    "Problem Statement :\n",
    "Open and read the file\n",
    "Print the name of columns (in different lines)"
   ]
  },
  {
   "cell_type": "code",
   "execution_count": null,
   "id": "2f926d8f",
   "metadata": {},
   "outputs": [],
   "source": [
    "## Open and read data file as specified in the question\n",
    "## Print the required output in given format\n",
    "import csv\n",
    "\n",
    "with open('year2017.csv') as my_csv:\n",
    "    data = csv.reader(my_csv)\n",
    "    l = list(data)\n",
    "    for i in l[0]:\n",
    "        print(i)"
   ]
  },
  {
   "cell_type": "markdown",
   "id": "1cd5fede",
   "metadata": {},
   "source": [
    "# Country Names\n",
    "Send Feedback\n",
    "Given file \"year2017.csv\"\n",
    "It is an open-source database including information on terrorist attacks around the world from 1970 through 2017. This dataset includes systematic data on domestic as well as international terrorist incidents that have occurred during this time period\n",
    "Problem Statement :\n",
    "Open and read the file\n",
    "Print the country names from first 10 rows (in different lines)"
   ]
  },
  {
   "cell_type": "code",
   "execution_count": null,
   "id": "284436fc",
   "metadata": {},
   "outputs": [],
   "source": [
    "## Open and read data file as specified in the question\n",
    "## Print the required output in given format\n",
    "import csv\n",
    "\n",
    "with open('year2017.csv') as my_csv:\n",
    "    data = csv.reader(my_csv)\n",
    "    data = list(data)\n",
    "    \n",
    "Country = []\n",
    "for row in data[1:11]:\n",
    "    Country.append(row[3])\n",
    "Country\n",
    "for i in Country:\n",
    "    print(i)"
   ]
  },
  {
   "cell_type": "markdown",
   "id": "d284d47c",
   "metadata": {},
   "source": [
    "# Total Wounded People\n",
    "Send Feedback\n",
    "Given file \"year2017.csv\"\n",
    "It is an open-source database including information on terrorist attacks around the world in 2017. This dataset includes systematic data on domestic as well as international terrorist incidents that have occurred during this time period\n",
    "Problem Statement :\n",
    "Find and print the total number of wounded people.\n",
    "Print the count as integer value.\n",
    "Note : There can be missing values in \"Wounded\" column. You should try to print the values of \"Wounded\" column and observe.\n",
    "Output Format :"
   ]
  },
  {
   "cell_type": "code",
   "execution_count": null,
   "id": "0f602b47",
   "metadata": {},
   "outputs": [],
   "source": [
    "## Open and read data file as specified in the question\n",
    "## Print the required output in given format\n",
    "import csv\n",
    "with open('year2017.csv','r') as file_obj :\n",
    "    csv_data = csv.reader(file_obj, skipinitialspace=True)\n",
    "    csv_list = list(csv_data)\n",
    "    wounded = []\n",
    "    for row in csv_list[1:] :\n",
    "        if row[10] != '' :\n",
    "            wounded.append(float(row[10]))\n",
    "    print(int(sum(wounded)))"
   ]
  },
  {
   "cell_type": "markdown",
   "id": "9368035f",
   "metadata": {},
   "source": [
    "# Total Wounded from India\n",
    "Send Feedback\n",
    "Given file \"year2017.csv\"\n",
    "It is an open-source database including information on terrorist attacks around the world in 2017. This dataset includes systematic data on domestic as well as international terrorist incidents that have occurred during this time period\n",
    "Problem Statement :\n",
    "Find and print the total number of wounded people who are from country \"India\".\n",
    "Print the count as integer value.\n",
    "Note : There can be missing values in \"Wounded\" column. You should try to print the values of \"Wounded\" column and observe.\n",
    "Output Format :"
   ]
  },
  {
   "cell_type": "code",
   "execution_count": null,
   "id": "5fd7fdb4",
   "metadata": {},
   "outputs": [],
   "source": [
    "## Open and read data file as specified in the question\n",
    "## Print the required output in given format\n",
    "import csv\n",
    "\n",
    "with open('year2017.csv','r') as my_csv:\n",
    "    data = csv.reader(my_csv, skipinitialspace= True)\n",
    "    data = list(data)\n",
    "\n",
    "india_Wounded =[]\n",
    "\n",
    "for row in data[1:]:\n",
    "    val = row[3]  \n",
    "    temp = row[10] \n",
    "    if( val== 'India' and temp !=''):  \n",
    "        india_Wounded.append(float(temp)) \n",
    "\n",
    "print(int(sum(india_Wounded))) "
   ]
  },
  {
   "cell_type": "markdown",
   "id": "89573ab8",
   "metadata": {},
   "source": [
    "# Casualties from Explosives\n",
    "Send Feedback\n",
    "Given file \"year2017.csv\"\n",
    "It is an open-source database including information on terrorist attacks around the world in 2017. This dataset includes systematic data on domestic as well as international terrorist incidents that have occurred during this time period\n",
    "Problem Statement :\n",
    "Find and print total number of casualties with “Explosives” Weapon_type.\n",
    "Print the count as integer value.\n",
    "Note : There can be missing values in \"casualties\" column and there are some initial spaces present in every value. You should try to print the values and observe.\n",
    "Output Format :"
   ]
  },
  {
   "cell_type": "code",
   "execution_count": null,
   "id": "d1597555",
   "metadata": {},
   "outputs": [],
   "source": [
    "## Open and read data file as specified in the question\n",
    "## Print the required output in given format\n",
    "import csv\n",
    "\n",
    "with open('year2017.csv' ,'r') as file_obj:\n",
    "    file_data = csv.DictReader(file_obj, skipinitialspace = True)\n",
    "    lis = []\n",
    "    for row in file_data:\n",
    "        val = row['Weapon_type']\n",
    "        temp = row['casualities']\n",
    "        if(val == 'Explosives' and temp!=''):\n",
    "            lis.append(float(temp))\n",
    "print(int(sum(lis)))"
   ]
  },
  {
   "cell_type": "markdown",
   "id": "3c6a9c46",
   "metadata": {},
   "source": [
    "# Month vs Killed\n",
    "Send Feedback\n",
    "Given file \"year2017.csv\"\n",
    "It is an open-source database including information on terrorist attacks around the world in 2017. This dataset includes systematic data on domestic as well as international terrorist incidents that have occurred during this time period\n",
    "Problem Statement :\n",
    "Find the total number people killed in each month.\n",
    "Print the month and count of killed people as integer value."
   ]
  },
  {
   "cell_type": "code",
   "execution_count": null,
   "id": "9485da61",
   "metadata": {},
   "outputs": [],
   "source": [
    "## Open and read data file as specified in the question\n",
    "## Print the required output in given format\n",
    "import csv\n",
    "with open('year2017.csv') as file_obj:\n",
    "    file_data=csv.DictReader(file_obj,skipinitialspace=True)\n",
    "    \n",
    "    month_killed={}\n",
    "    for row in file_data:\n",
    "        key=row[\"Month\"]\n",
    "        value=row[\"Killed\"]\n",
    "        \n",
    "        if value!=\"\":\n",
    "            value=int(float(value))\n",
    "        else:\n",
    "            value=0\n",
    "            \n",
    "        if key in month_killed:\n",
    "            month_killed[key]+=value\n",
    "        else:\n",
    "            month_killed[key]=value\n",
    "            \n",
    "    for w in month_killed:\n",
    "        print(w,month_killed[w])"
   ]
  },
  {
   "cell_type": "markdown",
   "id": "f3990367",
   "metadata": {},
   "source": [
    "# Country vs Casualties\n",
    "Send Feedback\n",
    "Given file \"year2017.csv\"\n",
    "It is an open-source database including information on terrorist attacks around the world in 2017. This dataset includes systematic data on domestic as well as international terrorist incidents that have occurred during this time period\n",
    "Problem Statement :\n",
    "Find total number of casualties in each country.\n",
    "Print number of casualties as integer value.\n",
    "Note : For any missing value of casualty column, take 0 as value\n",
    "Output Format :"
   ]
  },
  {
   "cell_type": "code",
   "execution_count": null,
   "id": "dc04643a",
   "metadata": {},
   "outputs": [],
   "source": [
    "## Open and read data file as specified in the question\n",
    "## Print the required output in given format\n",
    "import csv\n",
    "with open('year2017.csv') as file_obj:\n",
    "    file_data = csv.DictReader(file_obj,skipinitialspace = True)\n",
    "    \n",
    "    Country_casu = {}\n",
    "    \n",
    "    for row in file_data:\n",
    "        key = row['Country']\n",
    "        value = row['casualities']\n",
    "        \n",
    "        if value != \"\":\n",
    "            value = int(float(value))\n",
    "            \n",
    "        else:\n",
    "            value = 0\n",
    "            \n",
    "        if key in Country_casu:\n",
    "            Country_casu[key] +=value\n",
    "            \n",
    "        else:\n",
    "            Country_casu[key] = value\n",
    "            \n",
    "    for i in Country_casu:\n",
    "        print(i,Country_casu[i])"
   ]
  },
  {
   "cell_type": "markdown",
   "id": "d77b18ab",
   "metadata": {},
   "source": [
    "# Job Location\n",
    "Send Feedback\n",
    "Given File amazonjobsdataset.csv (Please check Dataset preview name)\n",
    "It is a dataset including information on amazon job opening around the world from June 2011 to March 2018. This dataset is collected using Selenium and BeautifulSoup by scraping all of the jobs for Amazon job site.\n",
    "Problem Statement :\n",
    "Find number of job openings in Bangalore,IN and in Seattle,US?\n",
    "Print the Number of Job opening in Bangalore and Seattle as Integer value."
   ]
  },
  {
   "cell_type": "code",
   "execution_count": null,
   "id": "b8d8bbe2",
   "metadata": {},
   "outputs": [],
   "source": [
    "## Open and read data file as specified in the question\n",
    "## Print the required output in given format\n",
    "import csv\n",
    "with open('amazon_jobs_dataset.csv', 'r', encoding=\"utf8\") as file_obj :\n",
    "    csv_data = csv.DictReader(file_obj, skipinitialspace = True)\n",
    "\n",
    "    opening_bangalore = 0\n",
    "    opening_seattle = 0\n",
    "    for row in csv_data:\n",
    "        if 'Bangalore' in row['location'] :\n",
    "            opening_bangalore += 1\n",
    "        if 'Seattle' in row['location'] :\n",
    "            opening_seattle += 1\n",
    "    print(opening_bangalore,opening_seattle)"
   ]
  },
  {
   "cell_type": "markdown",
   "id": "87c7ad19",
   "metadata": {},
   "source": [
    "# Job Computer Vision\n",
    "Send Feedback\n",
    "Given File 'amazonjobsdataset.csv'\n",
    "It is a dataset including information on amazon job opening around the world from June 2011 to March 2018. This dataset is collected using Selenium and BeautifulSoup by scraping all of the jobs for Amazon job site.\n",
    "Problem Statement :\n",
    "What are the total number of job openings related to Computer Vision ?\n",
    "Note:For finding the job related to computer vision check the Job Title column.\n",
    "Print the count as the Integer Value"
   ]
  },
  {
   "cell_type": "code",
   "execution_count": null,
   "id": "5bb3d4d7",
   "metadata": {},
   "outputs": [],
   "source": [
    "## Open and read data file as specified in the question\n",
    "## Print the required output in given format\n",
    "import csv\n",
    "with open('amazon_jobs_dataset.csv', 'r', encoding=\"utf8\") as file_obj :\n",
    "    csv_data = csv.DictReader(file_obj, skipinitialspace = True)\n",
    "    \n",
    "    job=0\n",
    "    for row in csv_data:\n",
    "        if 'Computer Vision' in row['Title'] :\n",
    "            job += 1\n",
    "    print(job)"
   ]
  },
  {
   "cell_type": "markdown",
   "id": "0f958541",
   "metadata": {},
   "source": [
    "# Job Canada\n",
    "Send Feedback\n",
    "Given File 'amazonjobsdataset.csv'\n",
    "It is a dataset including information on amazon job opening around the world from June 2011 to March 2018. This dataset is collected using Selenium and BeautifulSoup by scraping all of the jobs for Amazon job site.\n",
    "Problem Statement :\n",
    "Find the number of job openings in Canada?\n",
    "Print the count as the Integer Value\n",
    "Note: Here you should analyse the country code in location feature.( you can use dictionary for analyse part ).\n",
    "Output Format :"
   ]
  },
  {
   "cell_type": "code",
   "execution_count": null,
   "id": "5a384969",
   "metadata": {},
   "outputs": [],
   "source": [
    "## Open and read data file as specified in the question\n",
    "## Print the required output in given format\n",
    "import csv\n",
    "with open('amazon_jobs_dataset.csv', 'r', encoding=\"utf8\") as file_obj :\n",
    "    csv_data = csv.DictReader(file_obj, skipinitialspace = True)\n",
    "    \n",
    "    job=0\n",
    "    for row in csv_data:\n",
    "         if row['location'].startswith(\"CA\") :\n",
    "            job += 1\n",
    "    print(job)"
   ]
  },
  {
   "cell_type": "markdown",
   "id": "a1986ace",
   "metadata": {},
   "source": [
    "# Job Month 2018\n",
    "Send Feedback\n",
    "Given File 'amazonjobsdataset.csv'\n",
    "It is a dataset including information on amazon job opening around the world from June 2011 to March 2018. This dataset is collected using Selenium and BeautifulSoup by scraping all of the jobs for Amazon job site.\n",
    "Problem Statement :\n",
    "Find the month having most job openings in Year 2018 ?\n",
    "Print the month (Month Name i.e January, February, March) and Number of job opening as Integer Value\n",
    "Output Format :\n",
    "MonthName Count"
   ]
  },
  {
   "cell_type": "code",
   "execution_count": null,
   "id": "50d832da",
   "metadata": {},
   "outputs": [],
   "source": [
    "## Open and read data file as specified in the question\n",
    "## Print the required output in given format\n",
    "import csv\n",
    "with open('amazon_jobs_dataset.csv', 'r', encoding=\"utf8\") as file_obj :\n",
    "    csv_data = csv.DictReader(file_obj, skipinitialspace = True)\n",
    "    \n",
    "    d = {}\n",
    "    for row in csv_data :\n",
    "        date = row['Posting_date'].split(',')\n",
    "        if date[1].strip() == '2018' :\n",
    "            month = date[0].split()[0]\n",
    "            if month in d :\n",
    "                d[month] += 1\n",
    "            else:\n",
    "                d[month] = 1\n",
    " \n",
    "    count = -1\n",
    "    month_name = ''\n",
    "    for month in d :\n",
    "        if d[month] > count :\n",
    "            count = d[month]\n",
    "            month_name = month\n",
    "    print(month_name,count)\n",
    "            "
   ]
  },
  {
   "cell_type": "markdown",
   "id": "4075ce77",
   "metadata": {},
   "source": [
    "# Job Degree\n",
    "Send Feedback\n",
    "Given File 'amazonjobsdataset.csv'\n",
    "It is a dataset including information on amazon job opening around the world from June 2011 to March 2018. This dataset is collected using Selenium and BeautifulSoup by scraping all of the jobs for Amazon job site.\n",
    "Problem Statement :\n",
    "Find the number of job openings are present if applicant have Bachelor degree?\n",
    "Print the count as Integer value\n",
    "Note : Here we will use the BASIC QUALIFICATIONS feature to find out whether bachelor degree for Job is required or not. Keywords that can be used are 'Bachelor', 'BS' and 'BA'.\n",
    "Output Format :"
   ]
  },
  {
   "cell_type": "code",
   "execution_count": null,
   "id": "e238b509",
   "metadata": {},
   "outputs": [],
   "source": [
    "## Open and read data file as specified in the question\n",
    "## Print the required output in given format\n",
    "import csv\n",
    "with open('amazon_jobs_dataset.csv', 'r', encoding=\"utf8\") as file_obj :\n",
    "    csv_data = csv.DictReader(file_obj, skipinitialspace = True)\n",
    "    \n",
    "    count = 0\n",
    "    for row in csv_data :\n",
    "        if 'Bachelor' in row['BASIC QUALIFICATIONS'] or 'BA' in row['BASIC QUALIFICATIONS'] or 'BS' in row['BASIC QUALIFICATIONS'] : \n",
    "            count += 1\n",
    "  \n",
    "    print(count)"
   ]
  },
  {
   "cell_type": "markdown",
   "id": "5d9d9489",
   "metadata": {},
   "source": [
    "# Job Language\n",
    "Send Feedback\n",
    "Given File 'amazonjobsdataset.csv'\n",
    "It is a dataset including information on amazon job opening around the world from June 2011 to March 2018. This dataset is collected using Selenium and BeautifulSoup by scraping all of the jobs for Amazon job site.\n",
    "Problem Statement :\n",
    "Among Java, C++ and Python, which of the language has more job openings in India for Bachelor Degree Holder?\n",
    "Print the Language(i.e Java,C++,Python) and number of job opening as integer value.\n",
    "Note : Here we will use the BASIC QUALIFICATIONS feature to find out whether bachelor degree for Job is required or not. Keywords that can be used are 'Bachelor', 'BS' and 'BA' and we will use the BASIC QUALIFICATIONS feature to find out whether Language is required for the job or not.Keywords that is used for language searching are 'Java','C++' or 'Python'.(There case should not be changed).\n",
    "Output Format :\n",
    "Language Count"
   ]
  },
  {
   "cell_type": "code",
   "execution_count": null,
   "id": "937dd529",
   "metadata": {},
   "outputs": [],
   "source": [
    "## Open and read data file as specified in the question\n",
    "## Print the required output in given format\n",
    "import csv\n",
    "with open('amazon_jobs_dataset.csv', 'r', encoding=\"utf8\") as file_obj :\n",
    "    csv_data = csv.DictReader(file_obj, skipinitialspace = True)\n",
    "    \n",
    "    python = 0\n",
    "    java = 0\n",
    "    c = 0\n",
    "    for row in csv_data:\n",
    "        country = row['location'].split(',')[0]\n",
    "        if country == 'IN' :\n",
    "                bachelor = row['BASIC QUALIFICATIONS']\n",
    "                if ('Bachelor' in bachelor) or ('BA' in bachelor) or ('BS' in bachelor) : \n",
    "                    if 'Python' in bachelor :\n",
    "                        python += 1\n",
    "                    if 'C++' in bachelor :\n",
    "                        c += 1\n",
    "                    if 'Java' in bachelor :\n",
    "                        java += 1\n",
    "                \n",
    "  \n",
    "    if python > java and python > c :\n",
    "        print('Python',python)\n",
    "    elif java > python and java > c :\n",
    "        print('Java',java)\n",
    "    else:\n",
    "        print('C++',c)"
   ]
  },
  {
   "cell_type": "markdown",
   "id": "ee30786b",
   "metadata": {},
   "source": [
    "# Job Java\n",
    "Send Feedback\n",
    "Given File 'amazonjobsdataset.csv'\n",
    "It is a dataset including information on amazon job opening around the world from June 2011 to March 2018. This dataset is collected using Selenium and BeautifulSoup by scraping all of the jobs for Amazon job site.\n",
    "Problem Statement :\n",
    "Find the country does Amazon need the most number of Java Developer?\n",
    "Print the Country(Country Shortcut as given in Dataset) and number of job opening as integer value\n",
    "Note :Here we will use the BASIC QUALIFICATIONS feature to find out whether Java is required for the job or not.Keyword is used is 'Java'.(Here case should not be changed).\n",
    "\n",
    "\n",
    "Output Format :\n",
    "\n",
    "\n",
    "Country NumberofJobs\n",
    "For example : US 40\n"
   ]
  },
  {
   "cell_type": "code",
   "execution_count": null,
   "id": "2946ab25",
   "metadata": {},
   "outputs": [],
   "source": [
    "## Open and read data file as specified in the question\n",
    "## Print the required output in given format\n",
    "import csv\n",
    "with open('amazon_jobs_dataset.csv', 'r', encoding=\"utf8\") as file_obj :\n",
    "    csv_data = csv.DictReader(file_obj, skipinitialspace = True)\n",
    "    \n",
    "    d={}\n",
    "    for row in csv_data:\n",
    "        qulification = row['BASIC QUALIFICATIONS']\n",
    "        if 'Java' in qulification :\n",
    "            country = row['location'].split(',')[0]\n",
    "            if country in d :\n",
    "                d[country] += 1\n",
    "            else:\n",
    "                d[country] = 1\n",
    "                \n",
    "    max1 = -1\n",
    "    country_name = ''\n",
    "    for country in d:\n",
    "        if d[country] > max1:\n",
    "            max1 = d[country]\n",
    "            country_name = country\n",
    "    print(country_name,max1)"
   ]
  }
 ],
 "metadata": {
  "kernelspec": {
   "display_name": "Python 3 (ipykernel)",
   "language": "python",
   "name": "python3"
  },
  "language_info": {
   "codemirror_mode": {
    "name": "ipython",
    "version": 3
   },
   "file_extension": ".py",
   "mimetype": "text/x-python",
   "name": "python",
   "nbconvert_exporter": "python",
   "pygments_lexer": "ipython3",
   "version": "3.9.13"
  }
 },
 "nbformat": 4,
 "nbformat_minor": 5
}

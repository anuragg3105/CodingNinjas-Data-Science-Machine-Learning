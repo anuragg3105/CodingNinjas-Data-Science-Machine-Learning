{
 "cells": [
  {
   "cell_type": "code",
   "execution_count": 1,
   "id": "09177ad5",
   "metadata": {},
   "outputs": [
    {
     "ename": "SyntaxError",
     "evalue": "invalid syntax (2481988070.py, line 1)",
     "output_type": "error",
     "traceback": [
      "\u001b[1;36m  File \u001b[1;32m\"C:\\Users\\anura\\AppData\\Local\\Temp\\ipykernel_11384\\2481988070.py\"\u001b[1;36m, line \u001b[1;32m1\u001b[0m\n\u001b[1;33m    import java.util.*;\u001b[0m\n\u001b[1;37m                     ^\u001b[0m\n\u001b[1;31mSyntaxError\u001b[0m\u001b[1;31m:\u001b[0m invalid syntax\n"
     ]
    }
   ],
   "source": [
    "import java.util.*;\n",
    "\n",
    "/*\n",
    "\t- You are given a string, that can contain repeating characters.\n",
    "\t- Your task is to return the first character in this string that does not repeat. i.e., occurs exactly once\n",
    "\t- The string will contain characters only from English alphabet set, i.e., ('A' - 'Z') and ('a' - 'z');\n",
    "\n",
    "*/\n",
    "\n",
    "public class solution \n",
    "{\n",
    "\tpublic static char firstNonRepeatingChar(String str)\n",
    "\t{\n",
    "        Map<Character,Integer> map = new LinkedHashMap();\n",
    "        for (Character ch : str.toCharArray()) {\n",
    "            map.put(ch, map.containsKey(ch) ? map.get(ch) + 1 : 1);\n",
    "        }\n",
    "        return map.entrySet().stream().filter(x -> x.getValue() == 1).findFirst().get().getKey(); \n",
    "    \n",
    "\t\n",
    "\t}\n",
    "}\n"
   ]
  },
  {
   "cell_type": "code",
   "execution_count": 3,
   "id": "612e5729",
   "metadata": {},
   "outputs": [
    {
     "name": "stdout",
     "output_type": "stream",
     "text": [
      "anurrag\n",
      "n\n"
     ]
    }
   ],
   "source": [
    "def nonRepeatingChar(string):\n",
    "   m={}\n",
    "   for char in string:\n",
    "         if char in m:\n",
    "              m[char] += 1\n",
    "         else:\n",
    "              m[char] = 1\n",
    "   for char in string:\n",
    "         if m[char]==1:\n",
    "            return char\n",
    "# Main\n",
    "string = input()\n",
    "print(nonRepeatingChar(string))"
   ]
  },
  {
   "cell_type": "code",
   "execution_count": 6,
   "id": "ca350acd",
   "metadata": {},
   "outputs": [
    {
     "ename": "SyntaxError",
     "evalue": "invalid syntax (4232682682.py, line 2)",
     "output_type": "error",
     "traceback": [
      "\u001b[1;36m  File \u001b[1;32m\"C:\\Users\\anura\\AppData\\Local\\Temp\\ipykernel_11384\\4232682682.py\"\u001b[1;36m, line \u001b[1;32m2\u001b[0m\n\u001b[1;33m    public class solution\u001b[0m\n\u001b[1;37m           ^\u001b[0m\n\u001b[1;31mSyntaxError\u001b[0m\u001b[1;31m:\u001b[0m invalid syntax\n"
     ]
    }
   ],
   "source": [
    "import java.util;\n",
    "public class solution\n",
    "{\n",
    "     public static char firstNonRepeatingChar(String str)\n",
    "     {\n",
    "             HashMap<Character, Integer> map = new HashMap<>();\n",
    "             for(int i = 0; i < str.length(); i++)\n",
    "             {\n",
    "                 int newFrequency = (map.get(str.charAt(i)) == null ? 1 : map.get(str.\n",
    "                 map.put(str.charAt(i), newFrequency);\n",
    "             }\n",
    "             for(int i = 0; i < str.length(); i++)\n",
    "             {\n",
    "                 if(map.get(str.charAt(i)) == 1)\n",
    "                    return str.charAt(i);\n",
    "             }\n",
    "             return str.charAt(0);\n",
    "     }  \n",
    "}\n",
    "                                                                                  "
   ]
  },
  {
   "cell_type": "code",
   "execution_count": null,
   "id": "3e47d6f3",
   "metadata": {},
   "outputs": [],
   "source": []
  }
 ],
 "metadata": {
  "kernelspec": {
   "display_name": "Python 3 (ipykernel)",
   "language": "python",
   "name": "python3"
  },
  "language_info": {
   "codemirror_mode": {
    "name": "ipython",
    "version": 3
   },
   "file_extension": ".py",
   "mimetype": "text/x-python",
   "name": "python",
   "nbconvert_exporter": "python",
   "pygments_lexer": "ipython3",
   "version": "3.9.13"
  }
 },
 "nbformat": 4,
 "nbformat_minor": 5
}

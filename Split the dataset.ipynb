{
 "cells": [
  {
   "cell_type": "markdown",
   "id": "0d12ecc3",
   "metadata": {},
   "source": [
    "# Split the dataset\n",
    "Send Feedback\n",
    "In the previous problem we loaded the iris dataset. Now use this loaded dataset to split the training and testing dataset.\n",
    "Your work is to again load this dataset from the sklearn library and split the dataset into training and testing in the ratio of 70:30 and print the shape.\n",
    "Output\n",
    "Print the shape of X_train\n",
    "Print the shape of X_test\n",
    "Print the shape of y_train\n",
    "Print the shape of y_test"
   ]
  },
  {
   "cell_type": "code",
   "execution_count": null,
   "id": "fff380f7",
   "metadata": {},
   "outputs": [],
   "source": [
    "from sklearn.datasets import load_iris\n",
    "from sklearn.model_selection import train_test_split\n",
    "\n",
    "iris = load_iris()\n",
    "X = iris.data\n",
    "y = iris.target\n",
    "\n",
    "X_train, X_test, y_train, y_test = train_test_split(X, y, test_size=0.3)\n",
    "\n",
    "print(X_train.shape)\n",
    "print(X_test.shape)\n",
    "print(y_train.shape)\n",
    "print(y_test.shape)\n"
   ]
  }
 ],
 "metadata": {
  "kernelspec": {
   "display_name": "Python 3 (ipykernel)",
   "language": "python",
   "name": "python3"
  },
  "language_info": {
   "codemirror_mode": {
    "name": "ipython",
    "version": 3
   },
   "file_extension": ".py",
   "mimetype": "text/x-python",
   "name": "python",
   "nbconvert_exporter": "python",
   "pygments_lexer": "ipython3",
   "version": "3.9.13"
  }
 },
 "nbformat": 4,
 "nbformat_minor": 5
}
